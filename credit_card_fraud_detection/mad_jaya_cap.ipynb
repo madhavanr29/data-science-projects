{
 "cells": [
  {
   "cell_type": "markdown",
   "metadata": {},
   "source": [
    "# `CREDIT CARD FRAUD DETECTION CAPSTONE PROJECT` \n",
    "## -          `BY R.MADHAVAN AND JAYASREE MANGALAGIRI`\n",
    "    "
   ]
  },
  {
   "cell_type": "markdown",
   "metadata": {},
   "source": [
    "### Importing the basic data reading ,manipulation and plotting libraries "
   ]
  },
  {
   "cell_type": "code",
   "execution_count": 1,
   "metadata": {
    "colab": {
     "background_save": true
    },
    "id": "3ryLwTgpdKem"
   },
   "outputs": [],
   "source": [
    "import numpy as np\n",
    "import pandas as pd\n",
    "import matplotlib.pyplot as plt\n",
    "import seaborn as sns"
   ]
  },
  {
   "cell_type": "markdown",
   "metadata": {},
   "source": [
    "#### Using the below piece of code while working on colab"
   ]
  },
  {
   "cell_type": "code",
   "execution_count": null,
   "metadata": {
    "colab": {
     "base_uri": "https://localhost:8080/"
    },
    "id": "vNcca3O2e_uA",
    "outputId": "0be8ade0-49f9-4bca-c006-1d27afc6c2b2"
   },
   "outputs": [
    {
     "name": "stdout",
     "output_type": "stream",
     "text": [
      "Drive already mounted at /content/drive; to attempt to forcibly remount, call drive.mount(\"/content/drive\", force_remount=True).\n"
     ]
    }
   ],
   "source": [
    "from google.colab import drive\n",
    "drive.mount('/content/drive')"
   ]
  },
  {
   "cell_type": "markdown",
   "metadata": {},
   "source": [
    "#### Importing the data "
   ]
  },
  {
   "cell_type": "code",
   "execution_count": 2,
   "metadata": {
    "id": "F-uQgxXjdKeq"
   },
   "outputs": [],
   "source": [
    "data = pd.read_csv('/Users/madhavan/Desktop/new /capstone/creditcard.csv')"
   ]
  },
  {
   "cell_type": "markdown",
   "metadata": {},
   "source": [
    "### Looking at the shape,head and the info to get basic understanding about it"
   ]
  },
  {
   "cell_type": "code",
   "execution_count": 3,
   "metadata": {
    "colab": {
     "base_uri": "https://localhost:8080/"
    },
    "id": "1bKSoQeWdKet",
    "outputId": "8de84ac6-6d98-4631-c06c-1a4fad943e4e"
   },
   "outputs": [
    {
     "data": {
      "text/plain": [
       "(284807, 31)"
      ]
     },
     "execution_count": 3,
     "metadata": {},
     "output_type": "execute_result"
    }
   ],
   "source": [
    "data.shape"
   ]
  },
  {
   "cell_type": "markdown",
   "metadata": {},
   "source": [
    "#### We can verify that we have more then 2.5 lakh records"
   ]
  },
  {
   "cell_type": "code",
   "execution_count": 4,
   "metadata": {
    "colab": {
     "base_uri": "https://localhost:8080/",
     "height": 224
    },
    "id": "9qY-zTZudKev",
    "outputId": "d7ce14fb-bb35-42de-b47d-6470042ff783"
   },
   "outputs": [
    {
     "data": {
      "text/html": [
       "<div>\n",
       "<style scoped>\n",
       "    .dataframe tbody tr th:only-of-type {\n",
       "        vertical-align: middle;\n",
       "    }\n",
       "\n",
       "    .dataframe tbody tr th {\n",
       "        vertical-align: top;\n",
       "    }\n",
       "\n",
       "    .dataframe thead th {\n",
       "        text-align: right;\n",
       "    }\n",
       "</style>\n",
       "<table border=\"1\" class=\"dataframe\">\n",
       "  <thead>\n",
       "    <tr style=\"text-align: right;\">\n",
       "      <th></th>\n",
       "      <th>Time</th>\n",
       "      <th>V1</th>\n",
       "      <th>V2</th>\n",
       "      <th>V3</th>\n",
       "      <th>V4</th>\n",
       "      <th>V5</th>\n",
       "      <th>V6</th>\n",
       "      <th>V7</th>\n",
       "      <th>V8</th>\n",
       "      <th>V9</th>\n",
       "      <th>...</th>\n",
       "      <th>V21</th>\n",
       "      <th>V22</th>\n",
       "      <th>V23</th>\n",
       "      <th>V24</th>\n",
       "      <th>V25</th>\n",
       "      <th>V26</th>\n",
       "      <th>V27</th>\n",
       "      <th>V28</th>\n",
       "      <th>Amount</th>\n",
       "      <th>Class</th>\n",
       "    </tr>\n",
       "  </thead>\n",
       "  <tbody>\n",
       "    <tr>\n",
       "      <th>0</th>\n",
       "      <td>0.0</td>\n",
       "      <td>-1.359807</td>\n",
       "      <td>-0.072781</td>\n",
       "      <td>2.536347</td>\n",
       "      <td>1.378155</td>\n",
       "      <td>-0.338321</td>\n",
       "      <td>0.462388</td>\n",
       "      <td>0.239599</td>\n",
       "      <td>0.098698</td>\n",
       "      <td>0.363787</td>\n",
       "      <td>...</td>\n",
       "      <td>-0.018307</td>\n",
       "      <td>0.277838</td>\n",
       "      <td>-0.110474</td>\n",
       "      <td>0.066928</td>\n",
       "      <td>0.128539</td>\n",
       "      <td>-0.189115</td>\n",
       "      <td>0.133558</td>\n",
       "      <td>-0.021053</td>\n",
       "      <td>149.62</td>\n",
       "      <td>0</td>\n",
       "    </tr>\n",
       "    <tr>\n",
       "      <th>1</th>\n",
       "      <td>0.0</td>\n",
       "      <td>1.191857</td>\n",
       "      <td>0.266151</td>\n",
       "      <td>0.166480</td>\n",
       "      <td>0.448154</td>\n",
       "      <td>0.060018</td>\n",
       "      <td>-0.082361</td>\n",
       "      <td>-0.078803</td>\n",
       "      <td>0.085102</td>\n",
       "      <td>-0.255425</td>\n",
       "      <td>...</td>\n",
       "      <td>-0.225775</td>\n",
       "      <td>-0.638672</td>\n",
       "      <td>0.101288</td>\n",
       "      <td>-0.339846</td>\n",
       "      <td>0.167170</td>\n",
       "      <td>0.125895</td>\n",
       "      <td>-0.008983</td>\n",
       "      <td>0.014724</td>\n",
       "      <td>2.69</td>\n",
       "      <td>0</td>\n",
       "    </tr>\n",
       "    <tr>\n",
       "      <th>2</th>\n",
       "      <td>1.0</td>\n",
       "      <td>-1.358354</td>\n",
       "      <td>-1.340163</td>\n",
       "      <td>1.773209</td>\n",
       "      <td>0.379780</td>\n",
       "      <td>-0.503198</td>\n",
       "      <td>1.800499</td>\n",
       "      <td>0.791461</td>\n",
       "      <td>0.247676</td>\n",
       "      <td>-1.514654</td>\n",
       "      <td>...</td>\n",
       "      <td>0.247998</td>\n",
       "      <td>0.771679</td>\n",
       "      <td>0.909412</td>\n",
       "      <td>-0.689281</td>\n",
       "      <td>-0.327642</td>\n",
       "      <td>-0.139097</td>\n",
       "      <td>-0.055353</td>\n",
       "      <td>-0.059752</td>\n",
       "      <td>378.66</td>\n",
       "      <td>0</td>\n",
       "    </tr>\n",
       "    <tr>\n",
       "      <th>3</th>\n",
       "      <td>1.0</td>\n",
       "      <td>-0.966272</td>\n",
       "      <td>-0.185226</td>\n",
       "      <td>1.792993</td>\n",
       "      <td>-0.863291</td>\n",
       "      <td>-0.010309</td>\n",
       "      <td>1.247203</td>\n",
       "      <td>0.237609</td>\n",
       "      <td>0.377436</td>\n",
       "      <td>-1.387024</td>\n",
       "      <td>...</td>\n",
       "      <td>-0.108300</td>\n",
       "      <td>0.005274</td>\n",
       "      <td>-0.190321</td>\n",
       "      <td>-1.175575</td>\n",
       "      <td>0.647376</td>\n",
       "      <td>-0.221929</td>\n",
       "      <td>0.062723</td>\n",
       "      <td>0.061458</td>\n",
       "      <td>123.50</td>\n",
       "      <td>0</td>\n",
       "    </tr>\n",
       "    <tr>\n",
       "      <th>4</th>\n",
       "      <td>2.0</td>\n",
       "      <td>-1.158233</td>\n",
       "      <td>0.877737</td>\n",
       "      <td>1.548718</td>\n",
       "      <td>0.403034</td>\n",
       "      <td>-0.407193</td>\n",
       "      <td>0.095921</td>\n",
       "      <td>0.592941</td>\n",
       "      <td>-0.270533</td>\n",
       "      <td>0.817739</td>\n",
       "      <td>...</td>\n",
       "      <td>-0.009431</td>\n",
       "      <td>0.798278</td>\n",
       "      <td>-0.137458</td>\n",
       "      <td>0.141267</td>\n",
       "      <td>-0.206010</td>\n",
       "      <td>0.502292</td>\n",
       "      <td>0.219422</td>\n",
       "      <td>0.215153</td>\n",
       "      <td>69.99</td>\n",
       "      <td>0</td>\n",
       "    </tr>\n",
       "  </tbody>\n",
       "</table>\n",
       "<p>5 rows × 31 columns</p>\n",
       "</div>"
      ],
      "text/plain": [
       "   Time        V1        V2        V3        V4        V5        V6        V7  \\\n",
       "0   0.0 -1.359807 -0.072781  2.536347  1.378155 -0.338321  0.462388  0.239599   \n",
       "1   0.0  1.191857  0.266151  0.166480  0.448154  0.060018 -0.082361 -0.078803   \n",
       "2   1.0 -1.358354 -1.340163  1.773209  0.379780 -0.503198  1.800499  0.791461   \n",
       "3   1.0 -0.966272 -0.185226  1.792993 -0.863291 -0.010309  1.247203  0.237609   \n",
       "4   2.0 -1.158233  0.877737  1.548718  0.403034 -0.407193  0.095921  0.592941   \n",
       "\n",
       "         V8        V9  ...       V21       V22       V23       V24       V25  \\\n",
       "0  0.098698  0.363787  ... -0.018307  0.277838 -0.110474  0.066928  0.128539   \n",
       "1  0.085102 -0.255425  ... -0.225775 -0.638672  0.101288 -0.339846  0.167170   \n",
       "2  0.247676 -1.514654  ...  0.247998  0.771679  0.909412 -0.689281 -0.327642   \n",
       "3  0.377436 -1.387024  ... -0.108300  0.005274 -0.190321 -1.175575  0.647376   \n",
       "4 -0.270533  0.817739  ... -0.009431  0.798278 -0.137458  0.141267 -0.206010   \n",
       "\n",
       "        V26       V27       V28  Amount  Class  \n",
       "0 -0.189115  0.133558 -0.021053  149.62      0  \n",
       "1  0.125895 -0.008983  0.014724    2.69      0  \n",
       "2 -0.139097 -0.055353 -0.059752  378.66      0  \n",
       "3 -0.221929  0.062723  0.061458  123.50      0  \n",
       "4  0.502292  0.219422  0.215153   69.99      0  \n",
       "\n",
       "[5 rows x 31 columns]"
      ]
     },
     "execution_count": 4,
     "metadata": {},
     "output_type": "execute_result"
    }
   ],
   "source": [
    "data.head()"
   ]
  },
  {
   "cell_type": "code",
   "execution_count": 5,
   "metadata": {
    "colab": {
     "base_uri": "https://localhost:8080/",
     "height": 317
    },
    "id": "ljAENqQydKey",
    "outputId": "2bd524c7-234a-45be-f8a1-bd61461ec05e"
   },
   "outputs": [
    {
     "data": {
      "text/html": [
       "<div>\n",
       "<style scoped>\n",
       "    .dataframe tbody tr th:only-of-type {\n",
       "        vertical-align: middle;\n",
       "    }\n",
       "\n",
       "    .dataframe tbody tr th {\n",
       "        vertical-align: top;\n",
       "    }\n",
       "\n",
       "    .dataframe thead th {\n",
       "        text-align: right;\n",
       "    }\n",
       "</style>\n",
       "<table border=\"1\" class=\"dataframe\">\n",
       "  <thead>\n",
       "    <tr style=\"text-align: right;\">\n",
       "      <th></th>\n",
       "      <th>Time</th>\n",
       "      <th>V1</th>\n",
       "      <th>V2</th>\n",
       "      <th>V3</th>\n",
       "      <th>V4</th>\n",
       "      <th>V5</th>\n",
       "      <th>V6</th>\n",
       "      <th>V7</th>\n",
       "      <th>V8</th>\n",
       "      <th>V9</th>\n",
       "      <th>...</th>\n",
       "      <th>V21</th>\n",
       "      <th>V22</th>\n",
       "      <th>V23</th>\n",
       "      <th>V24</th>\n",
       "      <th>V25</th>\n",
       "      <th>V26</th>\n",
       "      <th>V27</th>\n",
       "      <th>V28</th>\n",
       "      <th>Amount</th>\n",
       "      <th>Class</th>\n",
       "    </tr>\n",
       "  </thead>\n",
       "  <tbody>\n",
       "    <tr>\n",
       "      <th>count</th>\n",
       "      <td>284807.000</td>\n",
       "      <td>284807.000</td>\n",
       "      <td>284807.000</td>\n",
       "      <td>284807.000</td>\n",
       "      <td>284807.000</td>\n",
       "      <td>284807.000</td>\n",
       "      <td>284807.000</td>\n",
       "      <td>284807.000</td>\n",
       "      <td>284807.000</td>\n",
       "      <td>284807.000</td>\n",
       "      <td>...</td>\n",
       "      <td>284807.000</td>\n",
       "      <td>284807.000</td>\n",
       "      <td>284807.000</td>\n",
       "      <td>284807.000</td>\n",
       "      <td>284807.000</td>\n",
       "      <td>284807.000</td>\n",
       "      <td>284807.000</td>\n",
       "      <td>284807.000</td>\n",
       "      <td>284807.000</td>\n",
       "      <td>284807.000</td>\n",
       "    </tr>\n",
       "    <tr>\n",
       "      <th>mean</th>\n",
       "      <td>94813.860</td>\n",
       "      <td>0.000</td>\n",
       "      <td>0.000</td>\n",
       "      <td>-0.000</td>\n",
       "      <td>0.000</td>\n",
       "      <td>-0.000</td>\n",
       "      <td>0.000</td>\n",
       "      <td>-0.000</td>\n",
       "      <td>-0.000</td>\n",
       "      <td>-0.000</td>\n",
       "      <td>...</td>\n",
       "      <td>0.000</td>\n",
       "      <td>0.000</td>\n",
       "      <td>0.000</td>\n",
       "      <td>0.000</td>\n",
       "      <td>0.000</td>\n",
       "      <td>0.000</td>\n",
       "      <td>-0.000</td>\n",
       "      <td>-0.000</td>\n",
       "      <td>88.350</td>\n",
       "      <td>0.002</td>\n",
       "    </tr>\n",
       "    <tr>\n",
       "      <th>std</th>\n",
       "      <td>47488.146</td>\n",
       "      <td>1.959</td>\n",
       "      <td>1.651</td>\n",
       "      <td>1.516</td>\n",
       "      <td>1.416</td>\n",
       "      <td>1.380</td>\n",
       "      <td>1.332</td>\n",
       "      <td>1.237</td>\n",
       "      <td>1.194</td>\n",
       "      <td>1.099</td>\n",
       "      <td>...</td>\n",
       "      <td>0.735</td>\n",
       "      <td>0.726</td>\n",
       "      <td>0.624</td>\n",
       "      <td>0.606</td>\n",
       "      <td>0.521</td>\n",
       "      <td>0.482</td>\n",
       "      <td>0.404</td>\n",
       "      <td>0.330</td>\n",
       "      <td>250.120</td>\n",
       "      <td>0.042</td>\n",
       "    </tr>\n",
       "    <tr>\n",
       "      <th>min</th>\n",
       "      <td>0.000</td>\n",
       "      <td>-56.408</td>\n",
       "      <td>-72.716</td>\n",
       "      <td>-48.326</td>\n",
       "      <td>-5.683</td>\n",
       "      <td>-113.743</td>\n",
       "      <td>-26.161</td>\n",
       "      <td>-43.557</td>\n",
       "      <td>-73.217</td>\n",
       "      <td>-13.434</td>\n",
       "      <td>...</td>\n",
       "      <td>-34.830</td>\n",
       "      <td>-10.933</td>\n",
       "      <td>-44.808</td>\n",
       "      <td>-2.837</td>\n",
       "      <td>-10.295</td>\n",
       "      <td>-2.605</td>\n",
       "      <td>-22.566</td>\n",
       "      <td>-15.430</td>\n",
       "      <td>0.000</td>\n",
       "      <td>0.000</td>\n",
       "    </tr>\n",
       "    <tr>\n",
       "      <th>25%</th>\n",
       "      <td>54201.500</td>\n",
       "      <td>-0.920</td>\n",
       "      <td>-0.599</td>\n",
       "      <td>-0.890</td>\n",
       "      <td>-0.849</td>\n",
       "      <td>-0.692</td>\n",
       "      <td>-0.768</td>\n",
       "      <td>-0.554</td>\n",
       "      <td>-0.209</td>\n",
       "      <td>-0.643</td>\n",
       "      <td>...</td>\n",
       "      <td>-0.228</td>\n",
       "      <td>-0.542</td>\n",
       "      <td>-0.162</td>\n",
       "      <td>-0.355</td>\n",
       "      <td>-0.317</td>\n",
       "      <td>-0.327</td>\n",
       "      <td>-0.071</td>\n",
       "      <td>-0.053</td>\n",
       "      <td>5.600</td>\n",
       "      <td>0.000</td>\n",
       "    </tr>\n",
       "    <tr>\n",
       "      <th>50%</th>\n",
       "      <td>84692.000</td>\n",
       "      <td>0.018</td>\n",
       "      <td>0.065</td>\n",
       "      <td>0.180</td>\n",
       "      <td>-0.020</td>\n",
       "      <td>-0.054</td>\n",
       "      <td>-0.274</td>\n",
       "      <td>0.040</td>\n",
       "      <td>0.022</td>\n",
       "      <td>-0.051</td>\n",
       "      <td>...</td>\n",
       "      <td>-0.029</td>\n",
       "      <td>0.007</td>\n",
       "      <td>-0.011</td>\n",
       "      <td>0.041</td>\n",
       "      <td>0.017</td>\n",
       "      <td>-0.052</td>\n",
       "      <td>0.001</td>\n",
       "      <td>0.011</td>\n",
       "      <td>22.000</td>\n",
       "      <td>0.000</td>\n",
       "    </tr>\n",
       "    <tr>\n",
       "      <th>75%</th>\n",
       "      <td>139320.500</td>\n",
       "      <td>1.316</td>\n",
       "      <td>0.804</td>\n",
       "      <td>1.027</td>\n",
       "      <td>0.743</td>\n",
       "      <td>0.612</td>\n",
       "      <td>0.399</td>\n",
       "      <td>0.570</td>\n",
       "      <td>0.327</td>\n",
       "      <td>0.597</td>\n",
       "      <td>...</td>\n",
       "      <td>0.186</td>\n",
       "      <td>0.529</td>\n",
       "      <td>0.148</td>\n",
       "      <td>0.440</td>\n",
       "      <td>0.351</td>\n",
       "      <td>0.241</td>\n",
       "      <td>0.091</td>\n",
       "      <td>0.078</td>\n",
       "      <td>77.165</td>\n",
       "      <td>0.000</td>\n",
       "    </tr>\n",
       "    <tr>\n",
       "      <th>max</th>\n",
       "      <td>172792.000</td>\n",
       "      <td>2.455</td>\n",
       "      <td>22.058</td>\n",
       "      <td>9.383</td>\n",
       "      <td>16.875</td>\n",
       "      <td>34.802</td>\n",
       "      <td>73.302</td>\n",
       "      <td>120.589</td>\n",
       "      <td>20.007</td>\n",
       "      <td>15.595</td>\n",
       "      <td>...</td>\n",
       "      <td>27.203</td>\n",
       "      <td>10.503</td>\n",
       "      <td>22.528</td>\n",
       "      <td>4.585</td>\n",
       "      <td>7.520</td>\n",
       "      <td>3.517</td>\n",
       "      <td>31.612</td>\n",
       "      <td>33.848</td>\n",
       "      <td>25691.160</td>\n",
       "      <td>1.000</td>\n",
       "    </tr>\n",
       "  </tbody>\n",
       "</table>\n",
       "<p>8 rows × 31 columns</p>\n",
       "</div>"
      ],
      "text/plain": [
       "             Time          V1          V2          V3          V4          V5  \\\n",
       "count  284807.000  284807.000  284807.000  284807.000  284807.000  284807.000   \n",
       "mean    94813.860       0.000       0.000      -0.000       0.000      -0.000   \n",
       "std     47488.146       1.959       1.651       1.516       1.416       1.380   \n",
       "min         0.000     -56.408     -72.716     -48.326      -5.683    -113.743   \n",
       "25%     54201.500      -0.920      -0.599      -0.890      -0.849      -0.692   \n",
       "50%     84692.000       0.018       0.065       0.180      -0.020      -0.054   \n",
       "75%    139320.500       1.316       0.804       1.027       0.743       0.612   \n",
       "max    172792.000       2.455      22.058       9.383      16.875      34.802   \n",
       "\n",
       "               V6          V7          V8          V9  ...         V21  \\\n",
       "count  284807.000  284807.000  284807.000  284807.000  ...  284807.000   \n",
       "mean        0.000      -0.000      -0.000      -0.000  ...       0.000   \n",
       "std         1.332       1.237       1.194       1.099  ...       0.735   \n",
       "min       -26.161     -43.557     -73.217     -13.434  ...     -34.830   \n",
       "25%        -0.768      -0.554      -0.209      -0.643  ...      -0.228   \n",
       "50%        -0.274       0.040       0.022      -0.051  ...      -0.029   \n",
       "75%         0.399       0.570       0.327       0.597  ...       0.186   \n",
       "max        73.302     120.589      20.007      15.595  ...      27.203   \n",
       "\n",
       "              V22         V23         V24         V25         V26         V27  \\\n",
       "count  284807.000  284807.000  284807.000  284807.000  284807.000  284807.000   \n",
       "mean        0.000       0.000       0.000       0.000       0.000      -0.000   \n",
       "std         0.726       0.624       0.606       0.521       0.482       0.404   \n",
       "min       -10.933     -44.808      -2.837     -10.295      -2.605     -22.566   \n",
       "25%        -0.542      -0.162      -0.355      -0.317      -0.327      -0.071   \n",
       "50%         0.007      -0.011       0.041       0.017      -0.052       0.001   \n",
       "75%         0.529       0.148       0.440       0.351       0.241       0.091   \n",
       "max        10.503      22.528       4.585       7.520       3.517      31.612   \n",
       "\n",
       "              V28      Amount       Class  \n",
       "count  284807.000  284807.000  284807.000  \n",
       "mean       -0.000      88.350       0.002  \n",
       "std         0.330     250.120       0.042  \n",
       "min       -15.430       0.000       0.000  \n",
       "25%        -0.053       5.600       0.000  \n",
       "50%         0.011      22.000       0.000  \n",
       "75%         0.078      77.165       0.000  \n",
       "max        33.848   25691.160       1.000  \n",
       "\n",
       "[8 rows x 31 columns]"
      ]
     },
     "execution_count": 5,
     "metadata": {},
     "output_type": "execute_result"
    }
   ],
   "source": [
    "round(data.describe(),3)"
   ]
  },
  {
   "cell_type": "markdown",
   "metadata": {},
   "source": [
    "#### Also, we observe that there are 28 Pca transformed variables , a time variable, Amount variable and our traget variable(class)"
   ]
  },
  {
   "cell_type": "code",
   "execution_count": 6,
   "metadata": {
    "colab": {
     "base_uri": "https://localhost:8080/"
    },
    "id": "Siz_ig-HdKe1",
    "outputId": "de61b883-3819-4750-d8b5-3a4b100a508b"
   },
   "outputs": [
    {
     "name": "stdout",
     "output_type": "stream",
     "text": [
      "<class 'pandas.core.frame.DataFrame'>\n",
      "RangeIndex: 284807 entries, 0 to 284806\n",
      "Data columns (total 31 columns):\n",
      " #   Column  Non-Null Count   Dtype  \n",
      "---  ------  --------------   -----  \n",
      " 0   Time    284807 non-null  float64\n",
      " 1   V1      284807 non-null  float64\n",
      " 2   V2      284807 non-null  float64\n",
      " 3   V3      284807 non-null  float64\n",
      " 4   V4      284807 non-null  float64\n",
      " 5   V5      284807 non-null  float64\n",
      " 6   V6      284807 non-null  float64\n",
      " 7   V7      284807 non-null  float64\n",
      " 8   V8      284807 non-null  float64\n",
      " 9   V9      284807 non-null  float64\n",
      " 10  V10     284807 non-null  float64\n",
      " 11  V11     284807 non-null  float64\n",
      " 12  V12     284807 non-null  float64\n",
      " 13  V13     284807 non-null  float64\n",
      " 14  V14     284807 non-null  float64\n",
      " 15  V15     284807 non-null  float64\n",
      " 16  V16     284807 non-null  float64\n",
      " 17  V17     284807 non-null  float64\n",
      " 18  V18     284807 non-null  float64\n",
      " 19  V19     284807 non-null  float64\n",
      " 20  V20     284807 non-null  float64\n",
      " 21  V21     284807 non-null  float64\n",
      " 22  V22     284807 non-null  float64\n",
      " 23  V23     284807 non-null  float64\n",
      " 24  V24     284807 non-null  float64\n",
      " 25  V25     284807 non-null  float64\n",
      " 26  V26     284807 non-null  float64\n",
      " 27  V27     284807 non-null  float64\n",
      " 28  V28     284807 non-null  float64\n",
      " 29  Amount  284807 non-null  float64\n",
      " 30  Class   284807 non-null  int64  \n",
      "dtypes: float64(30), int64(1)\n",
      "memory usage: 67.4 MB\n"
     ]
    }
   ],
   "source": [
    "data.info()"
   ]
  },
  {
   "cell_type": "markdown",
   "metadata": {},
   "source": [
    "### Checking for null values in the data (if any)"
   ]
  },
  {
   "cell_type": "code",
   "execution_count": 7,
   "metadata": {
    "colab": {
     "base_uri": "https://localhost:8080/"
    },
    "id": "AneWBVBEdKe3",
    "outputId": "37fe59f9-bec9-4f3a-9994-f00ad05de6fb"
   },
   "outputs": [
    {
     "data": {
      "text/plain": [
       "0"
      ]
     },
     "execution_count": 7,
     "metadata": {},
     "output_type": "execute_result"
    }
   ],
   "source": [
    "data.isnull().sum().sum()"
   ]
  },
  {
   "cell_type": "markdown",
   "metadata": {},
   "source": [
    "### `After inspection we can observe that the data doesnot contain any missing values.Thus we can proceed towards EDA`"
   ]
  },
  {
   "cell_type": "markdown",
   "metadata": {
    "id": "X_txls2fdKe6"
   },
   "source": [
    "### Exploratory Data Analysis and Data Standardisation"
   ]
  },
  {
   "cell_type": "code",
   "execution_count": 8,
   "metadata": {
    "id": "BOE5i_aOdKe6"
   },
   "outputs": [],
   "source": [
    "p_comp = data.filter(like = 'V')"
   ]
  },
  {
   "cell_type": "code",
   "execution_count": 9,
   "metadata": {
    "id": "YrPK-eZbdKe8"
   },
   "outputs": [],
   "source": [
    "other = data.loc[:,data.columns.str[0] != 'V']"
   ]
  },
  {
   "cell_type": "code",
   "execution_count": 10,
   "metadata": {
    "colab": {
     "base_uri": "https://localhost:8080/",
     "height": 204
    },
    "id": "Zh-qqyTldKe-",
    "outputId": "fd437de7-8dbd-43fb-f2c6-890bce08da56"
   },
   "outputs": [
    {
     "data": {
      "text/html": [
       "<div>\n",
       "<style scoped>\n",
       "    .dataframe tbody tr th:only-of-type {\n",
       "        vertical-align: middle;\n",
       "    }\n",
       "\n",
       "    .dataframe tbody tr th {\n",
       "        vertical-align: top;\n",
       "    }\n",
       "\n",
       "    .dataframe thead th {\n",
       "        text-align: right;\n",
       "    }\n",
       "</style>\n",
       "<table border=\"1\" class=\"dataframe\">\n",
       "  <thead>\n",
       "    <tr style=\"text-align: right;\">\n",
       "      <th></th>\n",
       "      <th>Time</th>\n",
       "      <th>Amount</th>\n",
       "      <th>Class</th>\n",
       "    </tr>\n",
       "  </thead>\n",
       "  <tbody>\n",
       "    <tr>\n",
       "      <th>0</th>\n",
       "      <td>0.0</td>\n",
       "      <td>149.62</td>\n",
       "      <td>0</td>\n",
       "    </tr>\n",
       "    <tr>\n",
       "      <th>1</th>\n",
       "      <td>0.0</td>\n",
       "      <td>2.69</td>\n",
       "      <td>0</td>\n",
       "    </tr>\n",
       "    <tr>\n",
       "      <th>2</th>\n",
       "      <td>1.0</td>\n",
       "      <td>378.66</td>\n",
       "      <td>0</td>\n",
       "    </tr>\n",
       "    <tr>\n",
       "      <th>3</th>\n",
       "      <td>1.0</td>\n",
       "      <td>123.50</td>\n",
       "      <td>0</td>\n",
       "    </tr>\n",
       "    <tr>\n",
       "      <th>4</th>\n",
       "      <td>2.0</td>\n",
       "      <td>69.99</td>\n",
       "      <td>0</td>\n",
       "    </tr>\n",
       "  </tbody>\n",
       "</table>\n",
       "</div>"
      ],
      "text/plain": [
       "   Time  Amount  Class\n",
       "0   0.0  149.62      0\n",
       "1   0.0    2.69      0\n",
       "2   1.0  378.66      0\n",
       "3   1.0  123.50      0\n",
       "4   2.0   69.99      0"
      ]
     },
     "execution_count": 10,
     "metadata": {},
     "output_type": "execute_result"
    }
   ],
   "source": [
    "other.head()"
   ]
  },
  {
   "cell_type": "markdown",
   "metadata": {},
   "source": [
    "### lets take a look at time and amount feature"
   ]
  },
  {
   "cell_type": "code",
   "execution_count": 11,
   "metadata": {
    "colab": {
     "base_uri": "https://localhost:8080/",
     "height": 609
    },
    "id": "z6EO4WmvdKfB",
    "outputId": "ff3eb1cf-3e7b-4f6b-d9f9-e94b40c49161"
   },
   "outputs": [
    {
     "data": {
      "text/plain": [
       "<AxesSubplot:>"
      ]
     },
     "execution_count": 11,
     "metadata": {},
     "output_type": "execute_result"
    },
    {
     "data": {
      "image/png": "[encoded data removed]",
      "text/plain": [
       "<Figure size 1080x720 with 1 Axes>"
      ]
     },
     "metadata": {
      "needs_background": "light"
     },
     "output_type": "display_data"
    }
   ],
   "source": [
    "other.iloc[:,:-1].boxplot(figsize = (15,10))"
   ]
  },
  {
   "cell_type": "markdown",
   "metadata": {
    "id": "dclhvUKddKfC"
   },
   "source": [
    "### \"Feature 'Time' contains the seconds elapsed between each transaction and the first transaction in the dataset'\" "
   ]
  },
  {
   "cell_type": "code",
   "execution_count": 12,
   "metadata": {
    "colab": {
     "base_uri": "https://localhost:8080/"
    },
    "id": "UhUjDoW3dKfD",
    "outputId": "30888061-65fa-423c-e5c8-e810f620f6db"
   },
   "outputs": [
    {
     "data": {
      "text/plain": [
       "0    0.0\n",
       "1    0.0\n",
       "2    1.0\n",
       "3    1.0\n",
       "4    2.0\n",
       "5    2.0\n",
       "6    4.0\n",
       "7    7.0\n",
       "8    7.0\n",
       "9    9.0\n",
       "Name: Time, dtype: float64"
      ]
     },
     "execution_count": 12,
     "metadata": {},
     "output_type": "execute_result"
    }
   ],
   "source": [
    "other['Time'].head(10)"
   ]
  },
  {
   "cell_type": "markdown",
   "metadata": {},
   "source": [
    "### Lets create a new derived feature. I.e No of transactions at each particular time step and lets use it in our model"
   ]
  },
  {
   "cell_type": "code",
   "execution_count": 13,
   "metadata": {
    "colab": {
     "base_uri": "https://localhost:8080/"
    },
    "id": "nARsxZrUdKfF",
    "outputId": "e93b044b-84d4-4826-ad61-9981b631602c"
   },
   "outputs": [
    {
     "name": "stderr",
     "output_type": "stream",
     "text": [
      "/Users/madhavan/opt/anaconda3/lib/python3.7/site-packages/ipykernel_launcher.py:1: SettingWithCopyWarning: \n",
      "A value is trying to be set on a copy of a slice from a DataFrame.\n",
      "Try using .loc[row_indexer,col_indexer] = value instead\n",
      "\n",
      "See the caveats in the documentation: https://pandas.pydata.org/pandas-docs/stable/user_guide/indexing.html#returning-a-view-versus-a-copy\n",
      "  \"\"\"Entry point for launching an IPython kernel.\n"
     ]
    }
   ],
   "source": [
    "other['No_of_trans_time'] = other['Time'].map(dict(other['Time'].value_counts()))\n",
    "data['No_of_trans_time'] = data['Time'].map(dict(data['Time'].value_counts()))"
   ]
  },
  {
   "cell_type": "markdown",
   "metadata": {},
   "source": [
    "## `As time variable is unneccesary lets consider to drop it`"
   ]
  },
  {
   "cell_type": "code",
   "execution_count": 14,
   "metadata": {
    "id": "b-dACDVxdKfG"
   },
   "outputs": [],
   "source": [
    "del other['Time']\n",
    "del data['Time']"
   ]
  },
  {
   "cell_type": "markdown",
   "metadata": {},
   "source": [
    "### Checking the spread of the Amount feature"
   ]
  },
  {
   "cell_type": "code",
   "execution_count": 15,
   "metadata": {
    "colab": {
     "base_uri": "https://localhost:8080/",
     "height": 350
    },
    "id": "fWdCLuzTdKfJ",
    "outputId": "30193af1-e2be-4075-92b9-df0b298eaf1b"
   },
   "outputs": [
    {
     "name": "stderr",
     "output_type": "stream",
     "text": [
      "/Users/madhavan/opt/anaconda3/lib/python3.7/site-packages/seaborn/_decorators.py:43: FutureWarning: Pass the following variable as a keyword arg: x. From version 0.12, the only valid positional argument will be `data`, and passing other arguments without an explicit keyword will result in an error or misinterpretation.\n",
      "  FutureWarning\n"
     ]
    },
    {
     "data": {
      "text/plain": [
       "<AxesSubplot:xlabel='Amount'>"
      ]
     },
     "execution_count": 15,
     "metadata": {},
     "output_type": "execute_result"
    },
    {
     "data": {
      "image/png": "[encoded data removed]",
      "text/plain": [
       "<Figure size 432x288 with 1 Axes>"
      ]
     },
     "metadata": {
      "needs_background": "light"
     },
     "output_type": "display_data"
    }
   ],
   "source": [
    "sns.boxplot(other['Amount'])"
   ]
  },
  {
   "cell_type": "markdown",
   "metadata": {},
   "source": [
    "### We can see that it is very skewed. To effectively visualize it , lets convert the values in to log scale. Adding a epsilon value to it , so that zero values dont get converted to negative infinity "
   ]
  },
  {
   "cell_type": "code",
   "execution_count": 16,
   "metadata": {
    "colab": {
     "base_uri": "https://localhost:8080/",
     "height": 350
    },
    "id": "X1Mhm-l4dKfL",
    "outputId": "2b692c00-e81e-4ed7-c0fb-318a0eefa128"
   },
   "outputs": [
    {
     "name": "stderr",
     "output_type": "stream",
     "text": [
      "/Users/madhavan/opt/anaconda3/lib/python3.7/site-packages/seaborn/_decorators.py:43: FutureWarning: Pass the following variable as a keyword arg: x. From version 0.12, the only valid positional argument will be `data`, and passing other arguments without an explicit keyword will result in an error or misinterpretation.\n",
      "  FutureWarning\n"
     ]
    },
    {
     "data": {
      "text/plain": [
       "<AxesSubplot:xlabel='Amount'>"
      ]
     },
     "execution_count": 16,
     "metadata": {},
     "output_type": "execute_result"
    },
    {
     "data": {
      "image/png": "[encoded data removed]",
      "text/plain": [
       "<Figure size 432x288 with 1 Axes>"
      ]
     },
     "metadata": {
      "needs_background": "light"
     },
     "output_type": "display_data"
    }
   ],
   "source": [
    "epsilon = 0.0001\n",
    "sns.boxplot(np.log(other['Amount'] + epsilon))"
   ]
  },
  {
   "cell_type": "markdown",
   "metadata": {},
   "source": [
    "### Lets remove the far away datapoint"
   ]
  },
  {
   "cell_type": "code",
   "execution_count": 17,
   "metadata": {
    "colab": {
     "base_uri": "https://localhost:8080/"
    },
    "id": "FI2X1Um_dKfM",
    "outputId": "38e90c77-ffb3-4be7-d6f9-53e368fbf058"
   },
   "outputs": [
    {
     "name": "stderr",
     "output_type": "stream",
     "text": [
      "/Users/madhavan/opt/anaconda3/lib/python3.7/site-packages/ipykernel_launcher.py:1: SettingWithCopyWarning: \n",
      "A value is trying to be set on a copy of a slice from a DataFrame.\n",
      "Try using .loc[row_indexer,col_indexer] = value instead\n",
      "\n",
      "See the caveats in the documentation: https://pandas.pydata.org/pandas-docs/stable/user_guide/indexing.html#returning-a-view-versus-a-copy\n",
      "  \"\"\"Entry point for launching an IPython kernel.\n"
     ]
    }
   ],
   "source": [
    "other['Amount'] = np.log(other['Amount'] + epsilon)\n",
    "other = other[other['Amount'] > -7.5]\n"
   ]
  },
  {
   "cell_type": "markdown",
   "metadata": {},
   "source": [
    "### LETS CHECK IF THERE IS ANY SIGNIFICANT DIFFERENCE IN THE DISTRIBUTION OF FRAUDSTERS AND NON FRAUDSTERS."
   ]
  },
  {
   "cell_type": "code",
   "execution_count": 18,
   "metadata": {
    "colab": {
     "base_uri": "https://localhost:8080/",
     "height": 296
    },
    "id": "dMKlkO1MdKfO",
    "outputId": "00e13120-1b42-444f-9338-0e495bf6cf1b"
   },
   "outputs": [
    {
     "data": {
      "text/plain": [
       "<AxesSubplot:xlabel='Class', ylabel='Amount'>"
      ]
     },
     "execution_count": 18,
     "metadata": {},
     "output_type": "execute_result"
    },
    {
     "data": {
      "image/png": "[encoded data removed]",
      "text/plain": [
       "<Figure size 432x288 with 1 Axes>"
      ]
     },
     "metadata": {
      "needs_background": "light"
     },
     "output_type": "display_data"
    }
   ],
   "source": [
    "sns.boxplot(y = 'Amount' , x = 'Class' , data = other)"
   ]
  },
  {
   "cell_type": "markdown",
   "metadata": {},
   "source": [
    "### Lets visualize the spread of all the principal components to see how much the data is skewed"
   ]
  },
  {
   "cell_type": "code",
   "execution_count": 19,
   "metadata": {
    "colab": {
     "base_uri": "https://localhost:8080/",
     "height": 609
    },
    "id": "09scTfZidKfQ",
    "outputId": "30aea4d1-3e9a-48e7-eb17-d6f9b5f8e4de"
   },
   "outputs": [
    {
     "data": {
      "text/plain": [
       "<AxesSubplot:>"
      ]
     },
     "execution_count": 19,
     "metadata": {},
     "output_type": "execute_result"
    },
    {
     "data": {
      "image/png": "[encoded data removed]",
      "text/plain": [
       "<Figure size 1080x720 with 1 Axes>"
      ]
     },
     "metadata": {
      "needs_background": "light"
     },
     "output_type": "display_data"
    }
   ],
   "source": [
    "p_comp.boxplot(figsize = (15,10))"
   ]
  },
  {
   "cell_type": "markdown",
   "metadata": {},
   "source": [
    "## `We can clearly see that the data is skewed. Lets also check the imbalance % of the data`"
   ]
  },
  {
   "cell_type": "code",
   "execution_count": 24,
   "metadata": {
    "colab": {
     "base_uri": "https://localhost:8080/"
    },
    "id": "72q7aePSdKfR",
    "outputId": "817d3a00-a415-4626-a3ac-472af0c66bfa"
   },
   "outputs": [
    {
     "data": {
      "text/plain": [
       "0    0.998\n",
       "1    0.002\n",
       "Name: Class, dtype: float64"
      ]
     },
     "execution_count": 24,
     "metadata": {},
     "output_type": "execute_result"
    }
   ],
   "source": [
    "round(data['Class'].value_counts(normalize = True),3)"
   ]
  },
  {
   "cell_type": "markdown",
   "metadata": {},
   "source": [
    "# `Remember that we are working on fraud detection problem. From business perspective, a fraudster could also be someone who shows different behaviour from the rest of the population. As we have outliers in the Principal Components, these outliers could also represent the minority group (fraudsters)`"
   ]
  },
  {
   "cell_type": "markdown",
   "metadata": {},
   "source": [
    "## Let us approach the problem as a anomoly detection problem for now and lets use isolation forest algorithm (unsupervised ) to build our first baseline model"
   ]
  },
  {
   "cell_type": "markdown",
   "metadata": {},
   "source": [
    "# `Baseline __ Model - 1 __ Isolation Forest`"
   ]
  },
  {
   "cell_type": "markdown",
   "metadata": {},
   "source": [
    "### Lets check the parameters of Isolation Forest"
   ]
  },
  {
   "cell_type": "code",
   "execution_count": 305,
   "metadata": {
    "colab": {
     "base_uri": "https://localhost:8080/"
    },
    "id": "ghrcg0AtdKfT",
    "outputId": "81d76ded-6b4f-417d-bf4e-ea5e7f98889b"
   },
   "outputs": [
    {
     "data": {
      "text/plain": [
       "{'behaviour': 'deprecated',\n",
       " 'bootstrap': False,\n",
       " 'contamination': 'auto',\n",
       " 'max_features': 1.0,\n",
       " 'max_samples': 'auto',\n",
       " 'n_estimators': 100,\n",
       " 'n_jobs': None,\n",
       " 'random_state': None,\n",
       " 'verbose': 0,\n",
       " 'warm_start': False}"
      ]
     },
     "execution_count": 305,
     "metadata": {},
     "output_type": "execute_result"
    }
   ],
   "source": [
    "from sklearn.ensemble import IsolationForest\n",
    "\n",
    "IsolationForest().get_params()"
   ]
  },
  {
   "cell_type": "markdown",
   "metadata": {},
   "source": [
    "### n-estimators and max_features are the two hyperparameters we need to tune"
   ]
  },
  {
   "cell_type": "markdown",
   "metadata": {},
   "source": [
    "### `Also as we are starting our model building process .Thus,lets import the necessary functions and evaluation metrics`"
   ]
  },
  {
   "cell_type": "code",
   "execution_count": 306,
   "metadata": {
    "id": "SORYVhYwdKfV"
   },
   "outputs": [],
   "source": [
    "from sklearn.preprocessing import StandardScaler\n",
    "from sklearn.model_selection import GridSearchCV ,StratifiedShuffleSplit, RandomizedSearchCV\n",
    "from sklearn.model_selection import train_test_split\n",
    "from sklearn.metrics import classification_report\n",
    "from sklearn.pipeline import Pipeline\n",
    "from sklearn.metrics import f1_score, make_scorer, roc_auc_score , roc_curve, recall_score , precision_score\n",
    "import scipy as sp"
   ]
  },
  {
   "cell_type": "markdown",
   "metadata": {},
   "source": [
    "### Lets split our independent and dependent variables. Also, note that we have not yet transformed our dataset though it is skewed, because Isolation forest is non-parametric tree based model which doesnot have any assumptions about the distribution of the population and also outliers is good for working on a anomoly detection problem"
   ]
  },
  {
   "cell_type": "code",
   "execution_count": 307,
   "metadata": {
    "id": "s2vKvfltdKfW"
   },
   "outputs": [],
   "source": [
    "y = data['Class']\n",
    "X = data[data.columns.difference(['Class'])]"
   ]
  },
  {
   "cell_type": "code",
   "execution_count": 308,
   "metadata": {
    "colab": {
     "base_uri": "https://localhost:8080/",
     "height": 375
    },
    "id": "B0TIC4IXdKfY",
    "outputId": "b02a7e09-2747-447f-c49a-3084a65da513"
   },
   "outputs": [
    {
     "name": "stdout",
     "output_type": "stream",
     "text": [
      "Grid scores on validation set:\n",
      "95.140 (+/-1.995) for {'max_features': 5, 'n_estimators': 10}\n",
      "94.838 (+/-4.432) for {'max_features': 5, 'n_estimators': 60}\n",
      "95.333 (+/-4.237) for {'max_features': 5, 'n_estimators': 110}\n",
      "93.392 (+/-7.953) for {'max_features': 10, 'n_estimators': 10}\n",
      "95.719 (+/-3.393) for {'max_features': 10, 'n_estimators': 60}\n",
      "95.181 (+/-3.127) for {'max_features': 10, 'n_estimators': 110}\n",
      "93.997 (+/-3.131) for {'max_features': 15, 'n_estimators': 10}\n",
      "95.375 (+/-3.700) for {'max_features': 15, 'n_estimators': 60}\n",
      "95.216 (+/-3.673) for {'max_features': 15, 'n_estimators': 110}\n",
      "92.428 (+/-7.497) for {'max_features': 20, 'n_estimators': 10}\n",
      "96.018 (+/-3.657) for {'max_features': 20, 'n_estimators': 60}\n",
      "95.271 (+/-2.879) for {'max_features': 20, 'n_estimators': 110}\n",
      "93.272 (+/-3.714) for {'max_features': 25, 'n_estimators': 10}\n",
      "95.254 (+/-2.805) for {'max_features': 25, 'n_estimators': 60}\n",
      "95.309 (+/-3.609) for {'max_features': 25, 'n_estimators': 110}\n",
      "Best parameters set found on validation set:\n",
      "{'max_features': 20, 'n_estimators': 60}\n",
      "ROC AUC of the best estimator: \n",
      "96.01818780410308\n"
     ]
    }
   ],
   "source": [
    "iso = IsolationForest() #defining the model class\n",
    "\n",
    "#choosing the hyperparamters\n",
    "param_grid = {'n_estimators': range(10, 150, 50), \"max_features\": range(5, len(X.columns), 5)} \n",
    "\n",
    "#Defining a scorer 'roc-auc' for the model\n",
    "def scorer(iso, X, y):\n",
    "    y_score = - iso.decision_function(X)\n",
    "    score = roc_auc_score(y, y_score) * 100.\n",
    "    return score\n",
    "\n",
    "# DUE TO THE PRESENCE OF CLASS IMBALANCE AND LAKHS OF RECORDS LETS USE STRATIFIED SHUFFLE SPLIT\n",
    "sss = StratifiedShuffleSplit(n_splits = 3,random_state= 1)\n",
    "\n",
    "#GrifSearch\n",
    "grid = GridSearchCV(iso, param_grid, cv= sss, n_jobs = -1, scoring = scorer)\n",
    "\n",
    "grid.fit(X, y)\n",
    "\n",
    "print(\"Grid scores on validation set:\")\n",
    "means = grid.cv_results_['mean_test_score']\n",
    "stds = grid.cv_results_['std_test_score']\n",
    "\n",
    "for mean, std, params in zip(means, stds, grid.cv_results_['params']):\n",
    "    print(\"%0.3f (+/-%0.03f) for %r\" % (mean, std * 2, params))\n",
    "\n",
    "print(\"Best parameters set found on validation set:\")\n",
    "print(grid.best_params_)\n",
    "print(\"ROC AUC of the best estimator: \")\n",
    "print(grid.best_score_)"
   ]
  },
  {
   "cell_type": "markdown",
   "metadata": {},
   "source": [
    "### Lets create the model using best params"
   ]
  },
  {
   "cell_type": "code",
   "execution_count": 309,
   "metadata": {
    "colab": {
     "base_uri": "https://localhost:8080/"
    },
    "id": "7x7YEQ-adKfa",
    "outputId": "f14978e1-f651-4427-ee75-96208861a0c0"
   },
   "outputs": [
    {
     "data": {
      "text/plain": [
       "IsolationForest(max_features=5, n_estimators=60)"
      ]
     },
     "execution_count": 309,
     "metadata": {},
     "output_type": "execute_result"
    }
   ],
   "source": [
    "iso = IsolationForest(max_features = 5, n_estimators = 60)\n",
    "iso.fit(X,y)"
   ]
  },
  {
   "cell_type": "markdown",
   "metadata": {},
   "source": [
    "### Lets plot the roc curve and also check the auc of the dataset as a whole"
   ]
  },
  {
   "cell_type": "code",
   "execution_count": 310,
   "metadata": {
    "id": "kLdJSVSWdKfc"
   },
   "outputs": [],
   "source": [
    "def draw_roc( actual, probs ):\n",
    "    fpr, tpr, thresholds = roc_curve( actual, probs,\n",
    "                                              drop_intermediate = False )\n",
    "    auc_score = roc_auc_score( actual, probs )\n",
    "    plt.figure(figsize=(5, 5))\n",
    "    plt.plot( fpr, tpr, label='ROC curve (area = %0.2f)' % auc_score )\n",
    "    plt.plot([0, 1], [0, 1], 'k--')\n",
    "    plt.xlim([0.0, 1.0])\n",
    "    plt.ylim([0.0, 1.05])\n",
    "    plt.xlabel('False Positive Rate or [1 - True Negative Rate]')\n",
    "    plt.ylabel('True Positive Rate')\n",
    "    plt.title('Receiver operating characteristic curve')\n",
    "    plt.legend(loc=\"lower right\")\n",
    "    plt.show()\n",
    "\n",
    "    return None\n",
    "\n"
   ]
  },
  {
   "cell_type": "code",
   "execution_count": 311,
   "metadata": {
    "colab": {
     "base_uri": "https://localhost:8080/",
     "height": 350
    },
    "id": "YFrv7qVQdKfd",
    "outputId": "424084f1-d482-44b4-d5ad-2527533d1eed"
   },
   "outputs": [
    {
     "data": {
      "image/png": "[encoded data removed]",
      "text/plain": [
       "<Figure size 360x360 with 1 Axes>"
      ]
     },
     "metadata": {
      "needs_background": "light"
     },
     "output_type": "display_data"
    }
   ],
   "source": [
    "draw_roc(y,- iso.decision_function(X))"
   ]
  },
  {
   "cell_type": "markdown",
   "metadata": {},
   "source": [
    "### We have a decent Auc_score (i.e 0.95) . But, also one of the goal of the project is to have the best Auc. Even 0.01 increase in Auc will result in saving millions of funds.Lets keep this as a baseline and try to further reconstruct better models"
   ]
  },
  {
   "cell_type": "markdown",
   "metadata": {},
   "source": [
    "## LETS PROCEED TO SUPERVISED MACHINE LEARNING. LETS USE LOGISTIC REGRESSION AND KNN AS BASELINE MODELS TOO.  BUT, LINEAR MODELS LIKE LOGISTIC REGRESSION HAS THE ASSUMPTION THAT THE DATA SHOULD BE NORMALLY DISTRIBUTED. ALSO, THE PRESENCE OF OUTLIERS CREATES A DRASTIC IMPACT ON MODEL PERFORMANCE AND OLS ASSUMPTIONS WILL NOT BE MET. THUS, `LETS FIRST DEAL WITH OUTLIERS AND SKEWNESS`"
   ]
  },
  {
   "cell_type": "markdown",
   "metadata": {},
   "source": [
    "### The below loop is to check how much % of information we lose in each column if we consider to remove outliers."
   ]
  },
  {
   "cell_type": "code",
   "execution_count": 312,
   "metadata": {
    "colab": {
     "base_uri": "https://localhost:8080/"
    },
    "id": "mOOBiB2fdKfi",
    "outputId": "0ae15f0a-d217-4a7d-f76d-30a27471b639"
   },
   "outputs": [
    {
     "data": {
      "text/plain": [
       "V1                   2.48\n",
       "V2                   4.75\n",
       "V3                   1.18\n",
       "V4                   3.91\n",
       "V5                   4.32\n",
       "V6                   8.06\n",
       "V7                   3.14\n",
       "V8                   8.47\n",
       "V9                   2.91\n",
       "V10                  3.33\n",
       "V11                  0.27\n",
       "V12                  5.39\n",
       "V13                  1.18\n",
       "V14                  4.97\n",
       "V15                  1.02\n",
       "V16                  2.87\n",
       "V17                  2.61\n",
       "V18                  2.64\n",
       "V19                  3.58\n",
       "V20                  9.75\n",
       "V21                  5.09\n",
       "V22                  0.46\n",
       "V23                  6.51\n",
       "V24                  1.68\n",
       "V25                  1.88\n",
       "V26                  1.96\n",
       "V27                 13.75\n",
       "V28                 10.65\n",
       "Amount              11.20\n",
       "Class                0.00\n",
       "No_of_trans_time     1.42\n",
       "dtype: float64"
      ]
     },
     "execution_count": 312,
     "metadata": {},
     "output_type": "execute_result"
    }
   ],
   "source": [
    "from copy import deepcopy\n",
    "frame = deepcopy(data)\n",
    "for col in data.columns.difference(['Class']):\n",
    "    iqr =  frame[col].quantile(0.7500) - frame[col].quantile(0.2500)\n",
    "    lower = frame[col].quantile(0.25) - (1.5 * iqr)\n",
    "    upper = frame[col].quantile(0.75) + (1.5 * iqr)\n",
    "    frame[col] = frame[col].map(lambda x:np.nan if x < lower or x > upper else x)\n",
    "    \n",
    "round(frame.isnull().mean() * 100,2)\n",
    "    \n",
    "    \n",
    "    "
   ]
  },
  {
   "cell_type": "code",
   "execution_count": 313,
   "metadata": {
    "colab": {
     "base_uri": "https://localhost:8080/"
    },
    "id": "kzCm2n1zdKfl",
    "outputId": "6745da93-5167-4e17-918b-53dca436a5bc"
   },
   "outputs": [
    {
     "data": {
      "text/plain": [
       "0.5075823276815528"
      ]
     },
     "execution_count": 313,
     "metadata": {},
     "output_type": "execute_result"
    }
   ],
   "source": [
    "len(frame.dropna())/len(frame)"
   ]
  },
  {
   "cell_type": "markdown",
   "metadata": {},
   "source": [
    "### We can see that if we remove all the outliers in the data and have a cleaned dataframe , we will lose almost half of the data. Also, skewed features like Amount cannot be dropped because it contributes a lot to the Fraud Prediction. "
   ]
  },
  {
   "cell_type": "code",
   "execution_count": 314,
   "metadata": {
    "colab": {
     "base_uri": "https://localhost:8080/"
    },
    "id": "ClkTZZzKPa7U",
    "outputId": "da590acb-1022-46ba-a597-e913fd80e043"
   },
   "outputs": [
    {
     "data": {
      "text/plain": [
       "0    144548\n",
       "1        15\n",
       "Name: Class, dtype: int64"
      ]
     },
     "execution_count": 314,
     "metadata": {},
     "output_type": "execute_result"
    }
   ],
   "source": [
    "frame.dropna()['Class'].value_counts()"
   ]
  },
  {
   "cell_type": "markdown",
   "metadata": {
    "id": "xPD1Uy5idKfo"
   },
   "source": [
    "## We lose almost 90% of the fraud class datapoints when we remove outliers. So, this is not the best option. `LETS HANDLE THE SKEWNESS BY USING POWER TRANSFORMER LIBRARY OF SKLEARN`"
   ]
  },
  {
   "cell_type": "markdown",
   "metadata": {},
   "source": [
    "## TRAIN AND TEST SPLIT (STRATIFIED)"
   ]
  },
  {
   "cell_type": "code",
   "execution_count": 315,
   "metadata": {
    "id": "uRD4ga68dKfo"
   },
   "outputs": [],
   "source": [
    "X_train,X_test,y_train , y_test = train_test_split(X,y,stratify = y,random_state = 1)"
   ]
  },
  {
   "cell_type": "code",
   "execution_count": 316,
   "metadata": {},
   "outputs": [
    {
     "data": {
      "text/plain": [
       "0    0.998273\n",
       "1    0.001727\n",
       "Name: Class, dtype: float64"
      ]
     },
     "execution_count": 316,
     "metadata": {},
     "output_type": "execute_result"
    }
   ],
   "source": [
    "y_train.value_counts(normalize = True)"
   ]
  },
  {
   "cell_type": "markdown",
   "metadata": {},
   "source": [
    "### TRAIN AND TEST REPRESENTING EQUAL % OF BOTH THE CLASSES"
   ]
  },
  {
   "cell_type": "code",
   "execution_count": 317,
   "metadata": {},
   "outputs": [
    {
     "data": {
      "text/plain": [
       "0    0.998273\n",
       "1    0.001727\n",
       "Name: Class, dtype: float64"
      ]
     },
     "execution_count": 317,
     "metadata": {},
     "output_type": "execute_result"
    }
   ],
   "source": [
    "y_test.value_counts(normalize = True)"
   ]
  },
  {
   "cell_type": "markdown",
   "metadata": {},
   "source": [
    "### Power Transformation"
   ]
  },
  {
   "cell_type": "code",
   "execution_count": 318,
   "metadata": {
    "id": "bV_FguroLIMI"
   },
   "outputs": [],
   "source": [
    "from sklearn.preprocessing import PowerTransformer  #Import the respective package\n",
    "import copy\n",
    "\n",
    "pt = PowerTransformer() # initialize the class\n",
    "\n",
    "#CREATE A COPY OF X-TRAIN AND X-TEST\n",
    "X_tr_c = copy.deepcopy(X_train) \n",
    "X_te_c = copy.deepcopy(X_test)\n",
    "\n",
    "\n",
    "#FIT AND TRANSFORM THE DATA USING POWER TRANSFORMER\n",
    "# By default it uses yeo-johnson power transformation which can handle NEGATIVE values along with scaling\n",
    "X_tr_c[X_tr_c.columns] = pt.fit_transform(X_tr_c)\n",
    "X_te_c[X_te_c.columns] = pt.transform(X_te_c) \n",
    "\n"
   ]
  },
  {
   "cell_type": "markdown",
   "metadata": {},
   "source": [
    "### Lets check the SPREAD OF THE TRANSFORMED DATASET"
   ]
  },
  {
   "cell_type": "code",
   "execution_count": 319,
   "metadata": {
    "colab": {
     "base_uri": "https://localhost:8080/",
     "height": 609
    },
    "id": "ibEKENBwL-eq",
    "outputId": "33759b09-602b-41a4-b666-a178f60221be"
   },
   "outputs": [
    {
     "data": {
      "text/plain": [
       "<AxesSubplot:>"
      ]
     },
     "execution_count": 319,
     "metadata": {},
     "output_type": "execute_result"
    },
    {
     "data": {
      "image/png": "[encoded data removed]",
      "text/plain": [
       "<Figure size 1080x720 with 1 Axes>"
      ]
     },
     "metadata": {
      "needs_background": "light"
     },
     "output_type": "display_data"
    }
   ],
   "source": [
    "X_tr_c.boxplot(figsize = (15,10))"
   ]
  },
  {
   "cell_type": "code",
   "execution_count": 320,
   "metadata": {},
   "outputs": [
    {
     "data": {
      "text/html": [
       "<div>\n",
       "<style scoped>\n",
       "    .dataframe tbody tr th:only-of-type {\n",
       "        vertical-align: middle;\n",
       "    }\n",
       "\n",
       "    .dataframe tbody tr th {\n",
       "        vertical-align: top;\n",
       "    }\n",
       "\n",
       "    .dataframe thead th {\n",
       "        text-align: right;\n",
       "    }\n",
       "</style>\n",
       "<table border=\"1\" class=\"dataframe\">\n",
       "  <thead>\n",
       "    <tr style=\"text-align: right;\">\n",
       "      <th></th>\n",
       "      <th>Amount</th>\n",
       "      <th>No_of_trans_time</th>\n",
       "      <th>V1</th>\n",
       "      <th>V10</th>\n",
       "      <th>V11</th>\n",
       "      <th>V12</th>\n",
       "      <th>V13</th>\n",
       "      <th>V14</th>\n",
       "      <th>V15</th>\n",
       "      <th>V16</th>\n",
       "      <th>...</th>\n",
       "      <th>V26</th>\n",
       "      <th>V27</th>\n",
       "      <th>V28</th>\n",
       "      <th>V3</th>\n",
       "      <th>V4</th>\n",
       "      <th>V5</th>\n",
       "      <th>V6</th>\n",
       "      <th>V7</th>\n",
       "      <th>V8</th>\n",
       "      <th>V9</th>\n",
       "    </tr>\n",
       "  </thead>\n",
       "  <tbody>\n",
       "    <tr>\n",
       "      <th>count</th>\n",
       "      <td>213605.00</td>\n",
       "      <td>213605.00</td>\n",
       "      <td>213605.00</td>\n",
       "      <td>213605.00</td>\n",
       "      <td>213605.00</td>\n",
       "      <td>213605.00</td>\n",
       "      <td>213605.00</td>\n",
       "      <td>213605.00</td>\n",
       "      <td>213605.00</td>\n",
       "      <td>213605.00</td>\n",
       "      <td>...</td>\n",
       "      <td>213605.00</td>\n",
       "      <td>213605.00</td>\n",
       "      <td>213605.00</td>\n",
       "      <td>213605.00</td>\n",
       "      <td>213605.00</td>\n",
       "      <td>213605.00</td>\n",
       "      <td>213605.00</td>\n",
       "      <td>213605.00</td>\n",
       "      <td>213605.00</td>\n",
       "      <td>213605.00</td>\n",
       "    </tr>\n",
       "    <tr>\n",
       "      <th>mean</th>\n",
       "      <td>0.00</td>\n",
       "      <td>0.00</td>\n",
       "      <td>0.00</td>\n",
       "      <td>-0.00</td>\n",
       "      <td>0.00</td>\n",
       "      <td>0.00</td>\n",
       "      <td>-0.00</td>\n",
       "      <td>-0.00</td>\n",
       "      <td>-0.00</td>\n",
       "      <td>-0.00</td>\n",
       "      <td>...</td>\n",
       "      <td>0.00</td>\n",
       "      <td>-0.00</td>\n",
       "      <td>0.00</td>\n",
       "      <td>-0.00</td>\n",
       "      <td>-0.00</td>\n",
       "      <td>-0.00</td>\n",
       "      <td>-0.00</td>\n",
       "      <td>-0.00</td>\n",
       "      <td>-0.00</td>\n",
       "      <td>0.00</td>\n",
       "    </tr>\n",
       "    <tr>\n",
       "      <th>std</th>\n",
       "      <td>1.00</td>\n",
       "      <td>1.00</td>\n",
       "      <td>1.00</td>\n",
       "      <td>1.00</td>\n",
       "      <td>1.00</td>\n",
       "      <td>1.00</td>\n",
       "      <td>1.00</td>\n",
       "      <td>1.00</td>\n",
       "      <td>1.00</td>\n",
       "      <td>1.00</td>\n",
       "      <td>...</td>\n",
       "      <td>1.00</td>\n",
       "      <td>1.00</td>\n",
       "      <td>1.00</td>\n",
       "      <td>1.00</td>\n",
       "      <td>1.00</td>\n",
       "      <td>1.00</td>\n",
       "      <td>1.00</td>\n",
       "      <td>1.00</td>\n",
       "      <td>1.00</td>\n",
       "      <td>1.00</td>\n",
       "    </tr>\n",
       "    <tr>\n",
       "      <th>min</th>\n",
       "      <td>-2.01</td>\n",
       "      <td>-1.64</td>\n",
       "      <td>-8.53</td>\n",
       "      <td>-32.40</td>\n",
       "      <td>-5.42</td>\n",
       "      <td>-7.22</td>\n",
       "      <td>-6.03</td>\n",
       "      <td>-12.25</td>\n",
       "      <td>-4.17</td>\n",
       "      <td>-10.33</td>\n",
       "      <td>...</td>\n",
       "      <td>-7.77</td>\n",
       "      <td>-45.20</td>\n",
       "      <td>-60.76</td>\n",
       "      <td>-13.10</td>\n",
       "      <td>-5.01</td>\n",
       "      <td>-69.92</td>\n",
       "      <td>-44.10</td>\n",
       "      <td>-36.37</td>\n",
       "      <td>-27.68</td>\n",
       "      <td>-16.44</td>\n",
       "    </tr>\n",
       "    <tr>\n",
       "      <th>25%</th>\n",
       "      <td>-0.76</td>\n",
       "      <td>-0.59</td>\n",
       "      <td>-0.72</td>\n",
       "      <td>-0.48</td>\n",
       "      <td>-0.73</td>\n",
       "      <td>-0.59</td>\n",
       "      <td>-0.65</td>\n",
       "      <td>-0.52</td>\n",
       "      <td>-0.67</td>\n",
       "      <td>-0.60</td>\n",
       "      <td>...</td>\n",
       "      <td>-0.65</td>\n",
       "      <td>-0.19</td>\n",
       "      <td>-0.15</td>\n",
       "      <td>-0.71</td>\n",
       "      <td>-0.57</td>\n",
       "      <td>-0.51</td>\n",
       "      <td>-0.56</td>\n",
       "      <td>-0.44</td>\n",
       "      <td>-0.27</td>\n",
       "      <td>-0.56</td>\n",
       "    </tr>\n",
       "    <tr>\n",
       "      <th>50%</th>\n",
       "      <td>0.03</td>\n",
       "      <td>0.13</td>\n",
       "      <td>-0.25</td>\n",
       "      <td>-0.04</td>\n",
       "      <td>0.01</td>\n",
       "      <td>-0.02</td>\n",
       "      <td>-0.00</td>\n",
       "      <td>-0.03</td>\n",
       "      <td>-0.00</td>\n",
       "      <td>-0.00</td>\n",
       "      <td>...</td>\n",
       "      <td>-0.02</td>\n",
       "      <td>-0.01</td>\n",
       "      <td>0.05</td>\n",
       "      <td>-0.03</td>\n",
       "      <td>0.06</td>\n",
       "      <td>-0.05</td>\n",
       "      <td>-0.11</td>\n",
       "      <td>0.04</td>\n",
       "      <td>-0.06</td>\n",
       "      <td>0.01</td>\n",
       "    </tr>\n",
       "    <tr>\n",
       "      <th>75%</th>\n",
       "      <td>0.75</td>\n",
       "      <td>0.69</td>\n",
       "      <td>0.74</td>\n",
       "      <td>0.46</td>\n",
       "      <td>0.75</td>\n",
       "      <td>0.61</td>\n",
       "      <td>0.67</td>\n",
       "      <td>0.49</td>\n",
       "      <td>0.69</td>\n",
       "      <td>0.57</td>\n",
       "      <td>...</td>\n",
       "      <td>0.58</td>\n",
       "      <td>0.22</td>\n",
       "      <td>0.25</td>\n",
       "      <td>0.67</td>\n",
       "      <td>0.58</td>\n",
       "      <td>0.43</td>\n",
       "      <td>0.42</td>\n",
       "      <td>0.46</td>\n",
       "      <td>0.25</td>\n",
       "      <td>0.58</td>\n",
       "    </tr>\n",
       "    <tr>\n",
       "      <th>max</th>\n",
       "      <td>3.67</td>\n",
       "      <td>5.30</td>\n",
       "      <td>1.87</td>\n",
       "      <td>16.23</td>\n",
       "      <td>9.48</td>\n",
       "      <td>19.61</td>\n",
       "      <td>6.86</td>\n",
       "      <td>17.68</td>\n",
       "      <td>12.75</td>\n",
       "      <td>34.85</td>\n",
       "      <td>...</td>\n",
       "      <td>4.93</td>\n",
       "      <td>102.08</td>\n",
       "      <td>76.63</td>\n",
       "      <td>11.39</td>\n",
       "      <td>8.49</td>\n",
       "      <td>28.45</td>\n",
       "      <td>22.30</td>\n",
       "      <td>92.61</td>\n",
       "      <td>37.66</td>\n",
       "      <td>10.73</td>\n",
       "    </tr>\n",
       "  </tbody>\n",
       "</table>\n",
       "<p>8 rows × 30 columns</p>\n",
       "</div>"
      ],
      "text/plain": [
       "          Amount  No_of_trans_time         V1        V10        V11  \\\n",
       "count  213605.00         213605.00  213605.00  213605.00  213605.00   \n",
       "mean        0.00              0.00       0.00      -0.00       0.00   \n",
       "std         1.00              1.00       1.00       1.00       1.00   \n",
       "min        -2.01             -1.64      -8.53     -32.40      -5.42   \n",
       "25%        -0.76             -0.59      -0.72      -0.48      -0.73   \n",
       "50%         0.03              0.13      -0.25      -0.04       0.01   \n",
       "75%         0.75              0.69       0.74       0.46       0.75   \n",
       "max         3.67              5.30       1.87      16.23       9.48   \n",
       "\n",
       "             V12        V13        V14        V15        V16  ...        V26  \\\n",
       "count  213605.00  213605.00  213605.00  213605.00  213605.00  ...  213605.00   \n",
       "mean        0.00      -0.00      -0.00      -0.00      -0.00  ...       0.00   \n",
       "std         1.00       1.00       1.00       1.00       1.00  ...       1.00   \n",
       "min        -7.22      -6.03     -12.25      -4.17     -10.33  ...      -7.77   \n",
       "25%        -0.59      -0.65      -0.52      -0.67      -0.60  ...      -0.65   \n",
       "50%        -0.02      -0.00      -0.03      -0.00      -0.00  ...      -0.02   \n",
       "75%         0.61       0.67       0.49       0.69       0.57  ...       0.58   \n",
       "max        19.61       6.86      17.68      12.75      34.85  ...       4.93   \n",
       "\n",
       "             V27        V28         V3         V4         V5         V6  \\\n",
       "count  213605.00  213605.00  213605.00  213605.00  213605.00  213605.00   \n",
       "mean       -0.00       0.00      -0.00      -0.00      -0.00      -0.00   \n",
       "std         1.00       1.00       1.00       1.00       1.00       1.00   \n",
       "min       -45.20     -60.76     -13.10      -5.01     -69.92     -44.10   \n",
       "25%        -0.19      -0.15      -0.71      -0.57      -0.51      -0.56   \n",
       "50%        -0.01       0.05      -0.03       0.06      -0.05      -0.11   \n",
       "75%         0.22       0.25       0.67       0.58       0.43       0.42   \n",
       "max       102.08      76.63      11.39       8.49      28.45      22.30   \n",
       "\n",
       "              V7         V8         V9  \n",
       "count  213605.00  213605.00  213605.00  \n",
       "mean       -0.00      -0.00       0.00  \n",
       "std         1.00       1.00       1.00  \n",
       "min       -36.37     -27.68     -16.44  \n",
       "25%        -0.44      -0.27      -0.56  \n",
       "50%         0.04      -0.06       0.01  \n",
       "75%         0.46       0.25       0.58  \n",
       "max        92.61      37.66      10.73  \n",
       "\n",
       "[8 rows x 30 columns]"
      ]
     },
     "execution_count": 320,
     "metadata": {},
     "output_type": "execute_result"
    }
   ],
   "source": [
    "round(X_tr_c.describe(),2)"
   ]
  },
  {
   "cell_type": "markdown",
   "metadata": {},
   "source": [
    "## If we look at the transformed dataset closely we have a mean 0 and Std of 1 for all the variables now. BUT, STILL THERE ARE MANY OUTLIERS WE NEED TO HANDLE. WE HAVE NO OTHER OPTION LEFT BUT TO DROP THOSE."
   ]
  },
  {
   "cell_type": "markdown",
   "metadata": {},
   "source": [
    "### Lets run a loop again to check how much % of outliers are now present in each column , on the transformed dataset."
   ]
  },
  {
   "cell_type": "code",
   "execution_count": 321,
   "metadata": {
    "colab": {
     "base_uri": "https://localhost:8080/"
    },
    "id": "CY37SDRhM2m8",
    "outputId": "33f5e4a7-fcb6-4e29-dfcd-bb445bcc9396"
   },
   "outputs": [
    {
     "data": {
      "text/plain": [
       "V27                 13.79\n",
       "V28                 10.61\n",
       "V20                  9.80\n",
       "V8                   9.13\n",
       "V6                   7.07\n",
       "V23                  6.50\n",
       "V14                  5.17\n",
       "V21                  5.05\n",
       "V2                   4.57\n",
       "V5                   4.52\n",
       "V4                   3.79\n",
       "V19                  3.66\n",
       "V10                  3.49\n",
       "V7                   3.16\n",
       "V9                   3.03\n",
       "V17                  3.01\n",
       "V18                  2.72\n",
       "V16                  2.60\n",
       "V12                  1.97\n",
       "V25                  1.78\n",
       "V26                  1.40\n",
       "V13                  1.15\n",
       "V3                   0.76\n",
       "V15                  0.70\n",
       "V22                  0.45\n",
       "V1                   0.45\n",
       "No_of_trans_time     0.36\n",
       "V11                  0.26\n",
       "V24                  0.15\n",
       "Amount               0.01\n",
       "dtype: float64"
      ]
     },
     "execution_count": 321,
     "metadata": {},
     "output_type": "execute_result"
    }
   ],
   "source": [
    "frame2 = copy.deepcopy(X_tr_c)\n",
    "frame3 = copy.deepcopy(X_te_c)\n",
    "for col in frame2.columns:\n",
    "    iqr =  frame2[col].quantile(0.7500) - frame2[col].quantile(0.2500)\n",
    "    lower = frame2[col].quantile(0.25) - (1.5 * iqr)\n",
    "    upper = frame2[col].quantile(0.75) + (1.5 * iqr)\n",
    "    frame2[col] = frame2[col].map(lambda x:np.nan if x < lower or x > upper else x)\n",
    "    frame3[col] = frame3[col].map(lambda x:np.nan if x < lower or x > upper else x)\n",
    "    \n",
    "    \n",
    "round(frame2.isnull().mean() * 100,2).sort_values(ascending = False)"
   ]
  },
  {
   "cell_type": "markdown",
   "metadata": {},
   "source": [
    "### We can now check that , there are less % of outliers in most of the columns after transformation compared with before transformation"
   ]
  },
  {
   "cell_type": "code",
   "execution_count": 322,
   "metadata": {},
   "outputs": [],
   "source": [
    "frame2 = frame2.drop(['V27','V28','V20','V8'], axis = 1)\n",
    "frame2 = frame2.dropna()\n",
    "\n",
    "#Applying the same on the test set too with the logic that logistic regression DOESNOT GUARANTEE EXTRAPOLATION\n",
    "frame3 = frame3.drop(['V27','V28','V20','V8'], axis = 1) \n",
    "frame3 = frame3.dropna()\n"
   ]
  },
  {
   "cell_type": "markdown",
   "metadata": {},
   "source": [
    "# We see even if we drop the the columns with high outliers and remove outliers from other columns , still we lose lot of information. Only 20 samples of class 1 is left in train set which will not be enough to understand the relationship in the data. Thus, lets consider using our initial transformed dataset to build a logistic regression model"
   ]
  },
  {
   "cell_type": "code",
   "execution_count": 323,
   "metadata": {
    "colab": {
     "base_uri": "https://localhost:8080/"
    },
    "id": "zxOWghUxP3Ck",
    "outputId": "7f4dcd10-5936-4e41-a311-f6583248a11e"
   },
   "outputs": [
    {
     "data": {
      "text/plain": [
       "0    140573\n",
       "1        20\n",
       "Name: Class, dtype: int64"
      ]
     },
     "execution_count": 323,
     "metadata": {},
     "output_type": "execute_result"
    }
   ],
   "source": [
    "pd.concat([frame2,y_train],axis = 1).dropna()['Class'].value_counts()"
   ]
  },
  {
   "cell_type": "code",
   "execution_count": 324,
   "metadata": {},
   "outputs": [
    {
     "data": {
      "text/plain": [
       "0    47120\n",
       "1        4\n",
       "Name: Class, dtype: int64"
      ]
     },
     "execution_count": 324,
     "metadata": {},
     "output_type": "execute_result"
    }
   ],
   "source": [
    "pd.concat([frame3,y_test],axis = 1).dropna()['Class'].value_counts()"
   ]
  },
  {
   "cell_type": "markdown",
   "metadata": {},
   "source": [
    "# `Baseline __ Model - 2 __ Logistic Regression`"
   ]
  },
  {
   "cell_type": "markdown",
   "metadata": {},
   "source": [
    "### Lets do hyperparameter tuning using RFE to pick the top n features"
   ]
  },
  {
   "cell_type": "code",
   "execution_count": 325,
   "metadata": {
    "id": "vM9mWSzASQmd"
   },
   "outputs": [],
   "source": [
    "from sklearn.feature_selection import RFE\n",
    "cv = StratifiedShuffleSplit(n_splits= 3 , random_state=1)\n",
    "hyper_params = [{'n_features_to_select': range(2,len(X_train.columns),2)}]"
   ]
  },
  {
   "cell_type": "code",
   "execution_count": null,
   "metadata": {
    "colab": {
     "base_uri": "https://localhost:8080/"
    },
    "id": "8cOfTl5TQ7OX",
    "outputId": "e543af84-fef8-4b29-fccc-f8017cb4aa47"
   },
   "outputs": [
    {
     "name": "stdout",
     "output_type": "stream",
     "text": [
      "Fitting 3 folds for each of 14 candidates, totalling 42 fits\n"
     ]
    },
    {
     "name": "stderr",
     "output_type": "stream",
     "text": [
      "[Parallel(n_jobs=-1)]: Using backend LokyBackend with 2 concurrent workers.\n",
      "[Parallel(n_jobs=-1)]: Done  42 out of  42 | elapsed:  7.9min finished\n"
     ]
    },
    {
     "data": {
      "text/plain": [
       "GridSearchCV(cv=StratifiedShuffleSplit(n_splits=3, random_state=1, test_size=None,\n",
       "            train_size=None),\n",
       "             error_score=nan,\n",
       "             estimator=RFE(estimator=LogisticRegression(C=1.0,\n",
       "                                                        class_weight=None,\n",
       "                                                        dual=False,\n",
       "                                                        fit_intercept=True,\n",
       "                                                        intercept_scaling=1,\n",
       "                                                        l1_ratio=None,\n",
       "                                                        max_iter=100,\n",
       "                                                        multi_class='auto',\n",
       "                                                        n_jobs=None,\n",
       "                                                        penalty='l2',\n",
       "                                                        random_state=None,\n",
       "                                                        solver='lbfgs',\n",
       "                                                        tol=0.0001, verbose=0,\n",
       "                                                        warm_start=False),\n",
       "                           n_features_to_select=None, step=1, verbose=0),\n",
       "             iid='deprecated', n_jobs=-1,\n",
       "             param_grid=[{'n_features_to_select': range(2, 30, 2)}],\n",
       "             pre_dispatch='2*n_jobs', refit=True, return_train_score=True,\n",
       "             scoring='roc_auc', verbose=1)"
      ]
     },
     "execution_count": 62,
     "metadata": {
      "tags": []
     },
     "output_type": "execute_result"
    }
   ],
   "source": [
    "#Logistic\n",
    "from sklearn.linear_model import LogisticRegression\n",
    "\n",
    "lr = LogisticRegression()\n",
    "lr.fit(X_tr_c,y_train )\n",
    "rfe = RFE(lr)\n",
    "\n",
    "model_cv = GridSearchCV(estimator = rfe, \n",
    "                        param_grid = hyper_params, \n",
    "                        scoring= 'roc_auc', \n",
    "                        cv = cv, \n",
    "                        verbose = 1,\n",
    "                        return_train_score=True , n_jobs= -1)      \n",
    "model_cv.fit(X_tr_c,y_train)"
   ]
  },
  {
   "cell_type": "code",
   "execution_count": null,
   "metadata": {
    "colab": {
     "base_uri": "https://localhost:8080/"
    },
    "id": "Ylp_3eLTVJcY",
    "outputId": "d913e022-c48e-4a58-9b3c-feb24fa48a14"
   },
   "outputs": [
    {
     "data": {
      "text/plain": [
       "{'n_features_to_select': 12}"
      ]
     },
     "execution_count": 63,
     "metadata": {
      "tags": []
     },
     "output_type": "execute_result"
    }
   ],
   "source": [
    "model_cv.best_params_"
   ]
  },
  {
   "cell_type": "markdown",
   "metadata": {},
   "source": [
    "### n_features as 12 gives the highest cross validation score. Lets build a model with top 12 features using Rfe"
   ]
  },
  {
   "cell_type": "code",
   "execution_count": 58,
   "metadata": {
    "colab": {
     "base_uri": "https://localhost:8080/"
    },
    "id": "ch-652PEVQ5O",
    "outputId": "b19e7f82-4a6b-4156-f12c-da2ca1842b48"
   },
   "outputs": [
    {
     "name": "stderr",
     "output_type": "stream",
     "text": [
      "/Users/madhavan/opt/anaconda3/lib/python3.7/site-packages/sklearn/utils/validation.py:70: FutureWarning: Pass n_features_to_select=12 as keyword args. From version 0.25 passing these as positional arguments will result in an error\n",
      "  FutureWarning)\n"
     ]
    },
    {
     "data": {
      "text/plain": [
       "LogisticRegression()"
      ]
     },
     "execution_count": 58,
     "metadata": {},
     "output_type": "execute_result"
    }
   ],
   "source": [
    "from sklearn.linear_model import LogisticRegression\n",
    "from sklearn.feature_selection import RFE\n",
    "lr = LogisticRegression()\n",
    "rfe1 = RFE(lr,12)\n",
    "rfe1.fit(X_tr_c,y_train)\n",
    "col_1 = X_tr_c.columns[rfe1.support_]\n",
    "\n",
    "lr1 = LogisticRegression()\n",
    "lr1.fit(X_tr_c[col_1],y_train )"
   ]
  },
  {
   "cell_type": "markdown",
   "metadata": {},
   "source": [
    "## Lets plot the Roc-curve"
   ]
  },
  {
   "cell_type": "code",
   "execution_count": 59,
   "metadata": {
    "colab": {
     "base_uri": "https://localhost:8080/",
     "height": 350
    },
    "id": "DsVe1XuJV66D",
    "outputId": "282a8766-af80-4557-eec3-72197c582856"
   },
   "outputs": [
    {
     "data": {
      "image/png": "[encoded data removed]",
      "text/plain": [
       "<Figure size 360x360 with 1 Axes>"
      ]
     },
     "metadata": {
      "needs_background": "light"
     },
     "output_type": "display_data"
    }
   ],
   "source": [
    "draw_roc(y_train,lr1.predict_proba(X_tr_c[col_1])[:,1])"
   ]
  },
  {
   "cell_type": "markdown",
   "metadata": {},
   "source": [
    "### We have made significant improvement in the auc from 0.95 to 0.98. But, lets check tthe variance of the model using cross-validation. If each split has a different cv auc score that clearly means that it is HIGH VARIANCE AND HIGH BIAS MODEL"
   ]
  },
  {
   "cell_type": "code",
   "execution_count": null,
   "metadata": {
    "colab": {
     "base_uri": "https://localhost:8080/"
    },
    "id": "3DHONUIbXdel",
    "outputId": "7f79a9a2-3b4d-4062-d37f-9886110d3c7c"
   },
   "outputs": [
    {
     "data": {
      "text/plain": [
       "array([0.98775013, 0.96956481, 0.96741142])"
      ]
     },
     "execution_count": 46,
     "metadata": {
      "tags": []
     },
     "output_type": "execute_result"
    }
   ],
   "source": [
    "from sklearn.model_selection import cross_val_score\n",
    "cv = StratifiedShuffleSplit(n_splits= 3 , random_state=1)\n",
    "cross_val_score(lr1,X = X_tr_c[col_1], y = y_train , cv = cv, scoring = 'roc_auc')"
   ]
  },
  {
   "cell_type": "markdown",
   "metadata": {},
   "source": [
    "### We can see that once we have a 0.98 auc and on the other two occasions we have 0.96. So, this is a clue that our model may overfit on unseen data .NOTE THAT WE ARE NOT ALLOWED TO USE THE TEST DATASET TO MAKE CONCLUSIONS ON OUR MODEL PERFORMANCE. WE ONLY EVALUATE ON THE UNSEEN DATA ONCE WE CHOOSE THE BEST MODEL"
   ]
  },
  {
   "cell_type": "markdown",
   "metadata": {},
   "source": [
    "### This also provides us the clue the overfitting condtion may be due to the outliers present in the data"
   ]
  },
  {
   "cell_type": "markdown",
   "metadata": {},
   "source": [
    "# `Baseline __ Model - 3 __ KNN`"
   ]
  },
  {
   "cell_type": "markdown",
   "metadata": {},
   "source": [
    "### Hyperparameter tuning on KNN"
   ]
  },
  {
   "cell_type": "code",
   "execution_count": null,
   "metadata": {
    "colab": {
     "base_uri": "https://localhost:8080/",
     "height": 375
    },
    "id": "hRbv_c1zZydl",
    "outputId": "bac8c1af-5e40-4916-e1c5-39b3bddd20b5"
   },
   "outputs": [],
   "source": [
    "from sklearn.neighbors import KNeighborsClassifier\n",
    "from sklearn.model_selection import cross_val_score\n",
    "k_range = range(5, 31)\n",
    "k_scores = []\n",
    "# use iteration to caclulator different k in models, then return the average accuracy based on the cross validation\n",
    "for k in k_range:\n",
    "    knn = KNeighborsClassifier(n_neighbors=k)\n",
    "    scores = cross_val_score(knn, X_tr_c, y_train, cv= cv, scoring= 'accuracy')\n",
    "    k_scores.append(scores.mean())\n",
    "# plot to see clearly\n",
    "plt.plot(k_range, k_scores)\n",
    "plt.xlabel('Value of K for KNN')\n",
    "plt.ylabel('Cross-Validated Accuracy')\n",
    "plt.show()"
   ]
  },
  {
   "cell_type": "markdown",
   "metadata": {},
   "source": [
    "### Choosing the best params and building the model"
   ]
  },
  {
   "cell_type": "code",
   "execution_count": 42,
   "metadata": {
    "colab": {
     "base_uri": "https://localhost:8080/"
    },
    "id": "sQ1rpgfCftKT",
    "outputId": "e7f28d48-8f70-4602-e306-dc440920f3c5"
   },
   "outputs": [
    {
     "data": {
      "text/plain": [
       "KNeighborsClassifier(n_neighbors=10)"
      ]
     },
     "execution_count": 42,
     "metadata": {},
     "output_type": "execute_result"
    }
   ],
   "source": [
    "from sklearn.neighbors import KNeighborsClassifier\n",
    "f_knn = KNeighborsClassifier(n_neighbors= 10)\n",
    "\n",
    "f_knn.fit(X_tr_c,y_train)"
   ]
  },
  {
   "cell_type": "markdown",
   "metadata": {},
   "source": [
    "### Knn doesnot output probabilities. So, lets check the auc score"
   ]
  },
  {
   "cell_type": "code",
   "execution_count": 43,
   "metadata": {
    "id": "nz-vvo-rk24o"
   },
   "outputs": [
    {
     "data": {
      "text/plain": [
       "0.8563216672891559"
      ]
     },
     "execution_count": 43,
     "metadata": {},
     "output_type": "execute_result"
    }
   ],
   "source": [
    "roc_auc_score( y_train, f_knn.predict(X_tr_c) )"
   ]
  },
  {
   "cell_type": "markdown",
   "metadata": {},
   "source": [
    "# The isolation forest has 0.95 auc, Logistic regression has 0.98 auc and Knn as 0.85 auc. Also, we have seen due to the presence of outliers the OLS estimators may have a huge impact. This creates unstability when predicted on the Test Data. Also, if the real life data contains many more outliers even after transformation ,a linear model like Logistic Regression may not give accurate predictions.  "
   ]
  },
  {
   "cell_type": "markdown",
   "metadata": {},
   "source": [
    "# `Thus afer considering these things and after observing the presence of outliers in the data, the following decisions were taken`"
   ]
  },
  {
   "cell_type": "markdown",
   "metadata": {},
   "source": [
    "### a) Tree based algorithms doesnot require data to be in the same scale\n",
    "### b) Tree based algorithms is robust to outliers\n",
    "### c) Tree based algorithms doesnot have any assumption on the distribution of the data\n",
    "### d) They can model non-linear relationships and can create a effective decision boundary compared to linear models\n",
    "## Thus , lets consider working on 4 tree based algorithms . Namely Decision Tree, Random forest, Xgboost and Light Gradient Boosting Machine .\n",
    "\n",
    "## `So we can work on our raw data now. Which is non transformed dataset`"
   ]
  },
  {
   "cell_type": "markdown",
   "metadata": {},
   "source": [
    "# `LETS USE 2 DIFFERENT BALANCING TECHNIQUES TO HANDLE CLASS IMBALANCE`\n",
    "\n",
    "## a) Modifying the cost function by giving higher weight to minority samples (using class_weight parameter provided in sklearn)\n",
    "\n",
    "## b) SMOTE"
   ]
  },
  {
   "cell_type": "markdown",
   "metadata": {},
   "source": [
    "# `MODEL 1 - DECISION TREE - CLASS WEIGHT`"
   ]
  },
  {
   "cell_type": "code",
   "execution_count": 44,
   "metadata": {
    "id": "x4lOx3CLdKfq"
   },
   "outputs": [],
   "source": [
    "from sklearn.tree import DecisionTreeClassifier , plot_tree"
   ]
  },
  {
   "cell_type": "markdown",
   "metadata": {},
   "source": [
    "### Hyperparameter tuning  "
   ]
  },
  {
   "cell_type": "code",
   "execution_count": null,
   "metadata": {
    "id": "0DLYASiYdKfr"
   },
   "outputs": [],
   "source": [
    "cv = StratifiedShuffleSplit(n_splits= 3 ,random_state= 1) #3 splits\n",
    "grid = {\n",
    "    'max_depth': range(2,20,2),\n",
    "    'min_samples_leaf': range(2, 1000, 50),\n",
    "    'min_samples_split': range(2, 1000, 50),\n",
    "    'criterion': [\"entropy\", \"gini\"]\n",
    "}\n",
    "dt = DecisionTreeClassifier(class_weight = 'balanced' , random_state= 100 ) #using class weight\n",
    "#MULTIPLE SCOR METRICS WERE INITIALIZED BUT RIFIT WAS DONE ON 'roc_auc'\n",
    "scores = ['roc_auc','f1','recall','precision'] \n",
    "\n",
    "#USING RANDOMIZED SEARCH CV FOR GREEDY SEARCH\n",
    "grid_search_dt = RandomizedSearchCV(estimator = dt , param_distributions = grid , cv = cv, scoring = scores, n_jobs = -1, refit = 'roc_auc' , return_train_score= True,random_state = 1)\n",
    "grid_fit_dt = grid_search_dt.fit(X_train,y_train)"
   ]
  },
  {
   "cell_type": "markdown",
   "metadata": {},
   "source": [
    "# `Note: As the model was trained on Colab and also as the fact that the data along with the hyperparameters were huge it was not a optimum way to include huge hyperparameter values for the RandomizedSearchCv. If hyperparameter increases the TIME TO GENERATE THE BEST HYPERPARAMETERS ALSO EXPONENTIALLY INCREASES. THUS,THE PARAMETER SEARCH SPACE WAS DIVIDED INTO SUBGROUPS AND WAS TRAINED. THE CROSS VALIDATTION SCORE WAS NOTED AND NEW SUB-GROUP WAS TRIED. THE BEST PARAMETERS OUT OF MULTIPLE SUBGROUPS WHICH GAVE BEST RESULTS WERE CHOOSEN. `\n",
    "# `THIS APPROACH WAS FOLLOWED FOR ALL THE SUBSEQUENT MODELS THAT WAS BUILT`"
   ]
  },
  {
   "cell_type": "markdown",
   "metadata": {
    "id": "vf6F29D9eiRL"
   },
   "source": [
    "### These param values gave the best cross validation score. So this was choosen\n",
    "DecisionTreeClassifier(ccp_alpha=0.0, class_weight='balanced', criterion='gini',\n",
    "                       max_depth=22, max_features=None, max_leaf_nodes=None,\n",
    "                       min_impurity_decrease=0.0, min_impurity_split=None,\n",
    "                       min_samples_leaf=1502, min_samples_split=1502,\n",
    "                       min_weight_fraction_leaf=0.0, presort='deprecated',\n",
    "                       random_state=100, splitter='best')"
   ]
  },
  {
   "cell_type": "code",
   "execution_count": null,
   "metadata": {
    "colab": {
     "base_uri": "https://localhost:8080/"
    },
    "id": "3JKHGGdxh5lA",
    "outputId": "75060942-b4ef-4379-edb8-f858f64fefcc"
   },
   "outputs": [
    {
     "data": {
      "text/plain": [
       "DecisionTreeClassifier(ccp_alpha=0.0, class_weight='balanced', criterion='gini',\n",
       "                       max_depth=22, max_features=None, max_leaf_nodes=None,\n",
       "                       min_impurity_decrease=0.0, min_impurity_split=None,\n",
       "                       min_samples_leaf=1502, min_samples_split=1502,\n",
       "                       min_weight_fraction_leaf=0.0, presort='deprecated',\n",
       "                       random_state=100, splitter='best')"
      ]
     },
     "execution_count": 212,
     "metadata": {
      "tags": []
     },
     "output_type": "execute_result"
    }
   ],
   "source": [
    "dt_gini = DecisionTreeClassifier(criterion = \"gini\",class_weight = 'balanced' ,\n",
    "                                  random_state = 100,\n",
    "                                  max_depth= 22, \n",
    "                                  min_samples_leaf= 1502,\n",
    "                                  min_samples_split= 1502)\n",
    "dt_gini.fit(X_train,y_train)"
   ]
  },
  {
   "cell_type": "markdown",
   "metadata": {},
   "source": [
    "### Train prediction"
   ]
  },
  {
   "cell_type": "code",
   "execution_count": null,
   "metadata": {
    "id": "6ED9-tU3iWDx"
   },
   "outputs": [],
   "source": [
    "dt_train_pred = dt_entrophy.predict(X_train)"
   ]
  },
  {
   "cell_type": "markdown",
   "metadata": {},
   "source": [
    "### roc-auc score"
   ]
  },
  {
   "cell_type": "code",
   "execution_count": null,
   "metadata": {
    "colab": {
     "base_uri": "https://localhost:8080/"
    },
    "id": "iy-fWSXu_-dN",
    "outputId": "679ade77-f9a2-4be2-de7c-09b83c07b15c"
   },
   "outputs": [
    {
     "data": {
      "text/plain": [
       "0.9900165578594015"
      ]
     },
     "execution_count": 214,
     "metadata": {
      "tags": []
     },
     "output_type": "execute_result"
    }
   ],
   "source": [
    "roc_auc_score(y_train,dt_entrophy.predict_proba(X_train)[:,1])"
   ]
  },
  {
   "cell_type": "code",
   "execution_count": null,
   "metadata": {
    "id": "UW3Vw2v8AXed"
   },
   "outputs": [],
   "source": [
    "from sklearn.metrics import classification_report"
   ]
  },
  {
   "cell_type": "markdown",
   "metadata": {},
   "source": [
    "### Classification report with default cut-off value (0.5)"
   ]
  },
  {
   "cell_type": "code",
   "execution_count": null,
   "metadata": {
    "colab": {
     "base_uri": "https://localhost:8080/",
     "height": 173
    },
    "id": "_vVnBncrdFiN",
    "outputId": "c0fc2ff5-ee83-4f60-ce66-09bc3ce33f85"
   },
   "outputs": [
    {
     "data": {
      "text/html": [
       "<div>\n",
       "<style scoped>\n",
       "    .dataframe tbody tr th:only-of-type {\n",
       "        vertical-align: middle;\n",
       "    }\n",
       "\n",
       "    .dataframe tbody tr th {\n",
       "        vertical-align: top;\n",
       "    }\n",
       "\n",
       "    .dataframe thead th {\n",
       "        text-align: right;\n",
       "    }\n",
       "</style>\n",
       "<table border=\"1\" class=\"dataframe\">\n",
       "  <thead>\n",
       "    <tr style=\"text-align: right;\">\n",
       "      <th></th>\n",
       "      <th>0</th>\n",
       "      <th>1</th>\n",
       "      <th>accuracy</th>\n",
       "      <th>macro avg</th>\n",
       "      <th>weighted avg</th>\n",
       "    </tr>\n",
       "  </thead>\n",
       "  <tbody>\n",
       "    <tr>\n",
       "      <th>precision</th>\n",
       "      <td>0.999974</td>\n",
       "      <td>0.020132</td>\n",
       "      <td>0.917034</td>\n",
       "      <td>0.510053</td>\n",
       "      <td>0.998282</td>\n",
       "    </tr>\n",
       "    <tr>\n",
       "      <th>recall</th>\n",
       "      <td>0.916914</td>\n",
       "      <td>0.986450</td>\n",
       "      <td>0.917034</td>\n",
       "      <td>0.951682</td>\n",
       "      <td>0.917034</td>\n",
       "    </tr>\n",
       "    <tr>\n",
       "      <th>f1-score</th>\n",
       "      <td>0.956644</td>\n",
       "      <td>0.039458</td>\n",
       "      <td>0.917034</td>\n",
       "      <td>0.498051</td>\n",
       "      <td>0.955060</td>\n",
       "    </tr>\n",
       "    <tr>\n",
       "      <th>support</th>\n",
       "      <td>213236.000000</td>\n",
       "      <td>369.000000</td>\n",
       "      <td>0.917034</td>\n",
       "      <td>213605.000000</td>\n",
       "      <td>213605.000000</td>\n",
       "    </tr>\n",
       "  </tbody>\n",
       "</table>\n",
       "</div>"
      ],
      "text/plain": [
       "                       0           1  accuracy      macro avg   weighted avg\n",
       "precision       0.999974    0.020132  0.917034       0.510053       0.998282\n",
       "recall          0.916914    0.986450  0.917034       0.951682       0.917034\n",
       "f1-score        0.956644    0.039458  0.917034       0.498051       0.955060\n",
       "support    213236.000000  369.000000  0.917034  213605.000000  213605.000000"
      ]
     },
     "execution_count": 216,
     "metadata": {
      "tags": []
     },
     "output_type": "execute_result"
    }
   ],
   "source": [
    "pd.DataFrame(classification_report(y_train,dt_train_pred, output_dict= True ))"
   ]
  },
  {
   "cell_type": "markdown",
   "metadata": {},
   "source": [
    "# `MODEL 2 - RANDOM FOREST - CLASS WEIGHT`"
   ]
  },
  {
   "cell_type": "code",
   "execution_count": 70,
   "metadata": {
    "id": "PfrID6pR_wcy"
   },
   "outputs": [],
   "source": [
    "e\n"
   ]
  },
  {
   "cell_type": "markdown",
   "metadata": {},
   "source": [
    "### Hyperparameter Tuning"
   ]
  },
  {
   "cell_type": "code",
   "execution_count": null,
   "metadata": {
    "colab": {
     "base_uri": "https://localhost:8080/"
    },
    "id": "w21_7HGfrA2T",
    "outputId": "bc4ad57d-511f-47a7-96e9-e8db9373f6a3"
   },
   "outputs": [
    {
     "data": {
      "text/plain": [
       "RandomizedSearchCV(cv=StratifiedShuffleSplit(n_splits=3, random_state=1, test_size=None,\n",
       "            train_size=None),\n",
       "                   error_score=nan,\n",
       "                   estimator=RandomForestClassifier(bootstrap=True,\n",
       "                                                    ccp_alpha=0.0,\n",
       "                                                    class_weight='balanced',\n",
       "                                                    criterion='gini',\n",
       "                                                    max_depth=None,\n",
       "                                                    max_features='auto',\n",
       "                                                    max_leaf_nodes=None,\n",
       "                                                    max_samples=None,\n",
       "                                                    min_impurity_decrease=0.0,\n",
       "                                                    min_impurity_split=None,\n",
       "                                                    min_sa...\n",
       "                                                    random_state=100, verbose=0,\n",
       "                                                    warm_start=False),\n",
       "                   iid='deprecated', n_iter=10, n_jobs=-1,\n",
       "                   param_distributions={'max_depth': [5, 10, 15],\n",
       "                                        'max_features': [4, 8, 15],\n",
       "                                        'min_samples_leaf': range(500, 1510, 500),\n",
       "                                        'min_samples_split': range(500, 1510, 500)},\n",
       "                   pre_dispatch='2*n_jobs', random_state=1, refit='roc_auc',\n",
       "                   return_train_score=True,\n",
       "                   scoring=['roc_auc', 'f1', 'recall', 'precision'], verbose=0)"
      ]
     },
     "execution_count": 113,
     "metadata": {
      "tags": []
     },
     "output_type": "execute_result"
    }
   ],
   "source": [
    "rf = RandomForestClassifier( class_weight= 'balanced' ,random_state = 100,criterion = \"gini\" ,n_estimators = 200 ,n_jobs = -1 )\n",
    "cv = StratifiedShuffleSplit(n_splits= 3 ,random_state = 1)\n",
    "param_grid = {\n",
    "    'max_depth': [5,10,15],\n",
    "    'min_samples_leaf': range(500, 1510, 500),\n",
    "    'min_samples_split': range(500, 1510, 500),\n",
    "    'max_features': [4,8,15]}\n",
    "\n",
    "scores = ['roc_auc','f1','recall','precision']\n",
    "\n",
    "grid_search_rf = RandomizedSearchCV(rf, param_distributions= param_grid, \n",
    "                    cv= cv, \n",
    "                       scoring= scores, refit = 'roc_auc', n_jobs= -1 , return_train_score= True,random_state = 1)\n",
    "grid_search_rf.fit(X_train,y_train)"
   ]
  },
  {
   "cell_type": "markdown",
   "metadata": {
    "id": "RYtKeVDQU9z5"
   },
   "source": [
    "### These param values gave the best cross validation score. So this was choosen\n",
    "\n",
    "{'criterion': 'entropy',\n",
    " 'max_depth': 40,\n",
    " 'max_features': 4,\n",
    " 'min_samples_leaf': 502,\n",
    " 'min_samples_split': 3502,\n",
    " 'n_estimators': 200}"
   ]
  },
  {
   "cell_type": "code",
   "execution_count": 123,
   "metadata": {
    "colab": {
     "base_uri": "https://localhost:8080/"
    },
    "id": "INBKZbqNTgga",
    "outputId": "dfc4482e-5e03-44cd-bdae-7cdfed6e7a85"
   },
   "outputs": [
    {
     "data": {
      "text/plain": [
       "RandomForestClassifier(class_weight='balanced', criterion='entropy',\n",
       "                       max_depth=40, max_features=4, min_samples_leaf=502,\n",
       "                       min_samples_split=3502, n_estimators=200,\n",
       "                       random_state=100)"
      ]
     },
     "execution_count": 123,
     "metadata": {},
     "output_type": "execute_result"
    }
   ],
   "source": [
    "rf1 = RandomForestClassifier( class_weight= 'balanced' , max_depth = 40 , n_estimators = 200 ,max_features= 4,\n",
    "                           min_samples_leaf= 502, min_samples_split= 3502 ,bootstrap= True,criterion = 'entropy',random_state = 100)\n",
    "rf1.fit(X_train,y_train)"
   ]
  },
  {
   "cell_type": "markdown",
   "metadata": {},
   "source": [
    "### roc-auc score"
   ]
  },
  {
   "cell_type": "code",
   "execution_count": null,
   "metadata": {
    "colab": {
     "base_uri": "https://localhost:8080/"
    },
    "id": "pPlXLouPVBjz",
    "outputId": "69e28601-5edf-4675-9253-606811b3554e"
   },
   "outputs": [
    {
     "name": "stdout",
     "output_type": "stream",
     "text": [
      "0.9973049250976855\n"
     ]
    }
   ],
   "source": [
    "y_train_pred1 = rf1.predict(X_train)\n",
    "print(roc_auc_score(y_train,rf1.predict_proba(X_train)[:,1]))"
   ]
  },
  {
   "cell_type": "markdown",
   "metadata": {},
   "source": [
    "### Classification report at Default Cut-off 0.5"
   ]
  },
  {
   "cell_type": "code",
   "execution_count": null,
   "metadata": {
    "colab": {
     "base_uri": "https://localhost:8080/",
     "height": 173
    },
    "id": "ByOZxjr-cZgT",
    "outputId": "acbf5928-7a08-4402-c3a8-76f7d1645c7a"
   },
   "outputs": [
    {
     "data": {
      "text/html": [
       "<div>\n",
       "<style scoped>\n",
       "    .dataframe tbody tr th:only-of-type {\n",
       "        vertical-align: middle;\n",
       "    }\n",
       "\n",
       "    .dataframe tbody tr th {\n",
       "        vertical-align: top;\n",
       "    }\n",
       "\n",
       "    .dataframe thead th {\n",
       "        text-align: right;\n",
       "    }\n",
       "</style>\n",
       "<table border=\"1\" class=\"dataframe\">\n",
       "  <thead>\n",
       "    <tr style=\"text-align: right;\">\n",
       "      <th></th>\n",
       "      <th>0</th>\n",
       "      <th>1</th>\n",
       "      <th>accuracy</th>\n",
       "      <th>macro avg</th>\n",
       "      <th>weighted avg</th>\n",
       "    </tr>\n",
       "  </thead>\n",
       "  <tbody>\n",
       "    <tr>\n",
       "      <th>precision</th>\n",
       "      <td>0.999843</td>\n",
       "      <td>0.113322</td>\n",
       "      <td>0.987538</td>\n",
       "      <td>0.556583</td>\n",
       "      <td>0.998312</td>\n",
       "    </tr>\n",
       "    <tr>\n",
       "      <th>recall</th>\n",
       "      <td>0.987671</td>\n",
       "      <td>0.910569</td>\n",
       "      <td>0.987538</td>\n",
       "      <td>0.949120</td>\n",
       "      <td>0.987538</td>\n",
       "    </tr>\n",
       "    <tr>\n",
       "      <th>f1-score</th>\n",
       "      <td>0.993720</td>\n",
       "      <td>0.201560</td>\n",
       "      <td>0.987538</td>\n",
       "      <td>0.597640</td>\n",
       "      <td>0.992351</td>\n",
       "    </tr>\n",
       "    <tr>\n",
       "      <th>support</th>\n",
       "      <td>213236.000000</td>\n",
       "      <td>369.000000</td>\n",
       "      <td>0.987538</td>\n",
       "      <td>213605.000000</td>\n",
       "      <td>213605.000000</td>\n",
       "    </tr>\n",
       "  </tbody>\n",
       "</table>\n",
       "</div>"
      ],
      "text/plain": [
       "                       0           1  accuracy      macro avg   weighted avg\n",
       "precision       0.999843    0.113322  0.987538       0.556583       0.998312\n",
       "recall          0.987671    0.910569  0.987538       0.949120       0.987538\n",
       "f1-score        0.993720    0.201560  0.987538       0.597640       0.992351\n",
       "support    213236.000000  369.000000  0.987538  213605.000000  213605.000000"
      ]
     },
     "execution_count": 177,
     "metadata": {
      "tags": []
     },
     "output_type": "execute_result"
    }
   ],
   "source": [
    "pd.DataFrame(classification_report(y_train,y_train_pred1, output_dict= True ))"
   ]
  },
  {
   "cell_type": "markdown",
   "metadata": {
    "id": "afFn6__qLcGS"
   },
   "source": [
    "# `MODEL 3 - XGBOOST - CLASS WEIGHT`"
   ]
  },
  {
   "cell_type": "code",
   "execution_count": 77,
   "metadata": {
    "id": "BO6nPXmBaq6K"
   },
   "outputs": [],
   "source": [
    "## importing the libraries\n",
    "import xgboost as xgb\n",
    "from xgboost import XGBClassifier\n",
    "from xgboost import plot_importance"
   ]
  },
  {
   "cell_type": "markdown",
   "metadata": {},
   "source": [
    "### In XgBoost Class weight parameter is specified as 'scale_pos_weight'. Here scale_pos_weight is nothing but the ratio between is the ratio between the majority class and minority class."
   ]
  },
  {
   "cell_type": "code",
   "execution_count": null,
   "metadata": {
    "colab": {
     "base_uri": "https://localhost:8080/"
    },
    "id": "CZUFNnWwfNEm",
    "outputId": "15338ff7-d153-4598-f026-591fbe35d9a4"
   },
   "outputs": [
    {
     "data": {
      "text/plain": [
       "0    213236\n",
       "1       369\n",
       "Name: Class, dtype: int64"
      ]
     },
     "execution_count": 77,
     "metadata": {
      "tags": []
     },
     "output_type": "execute_result"
    }
   ],
   "source": [
    "y_train.value_counts()"
   ]
  },
  {
   "cell_type": "code",
   "execution_count": null,
   "metadata": {
    "colab": {
     "base_uri": "https://localhost:8080/"
    },
    "id": "ZVxwBb8Sf0wr",
    "outputId": "ffeafcc2-413c-4483-d090-0510de841058"
   },
   "outputs": [
    {
     "data": {
      "text/plain": [
       "577.8753387533875"
      ]
     },
     "execution_count": 78,
     "metadata": {
      "tags": []
     },
     "output_type": "execute_result"
    }
   ],
   "source": [
    "213236/369"
   ]
  },
  {
   "cell_type": "markdown",
   "metadata": {},
   "source": [
    "### Hyperparameter tuning"
   ]
  },
  {
   "cell_type": "code",
   "execution_count": null,
   "metadata": {
    "colab": {
     "base_uri": "https://localhost:8080/"
    },
    "id": "5yd0Y3VdfV_d",
    "outputId": "9238a6d0-84f3-49aa-ce66-21dcf10d28a1"
   },
   "outputs": [
    {
     "data": {
      "text/plain": [
       "RandomizedSearchCV(cv=StratifiedShuffleSplit(n_splits=3, random_state=1, test_size=None,\n",
       "            train_size=None),\n",
       "                   error_score=nan,\n",
       "                   estimator=XGBClassifier(base_score=0.5, booster='gbtree',\n",
       "                                           colsample_bylevel=1,\n",
       "                                           colsample_bynode=1,\n",
       "                                           colsample_bytree=1,\n",
       "                                           early_stopping_rounds=10, gamma=0,\n",
       "                                           learning_rate=0.1, max_delta_step=0,\n",
       "                                           max_depth=3, min_child_weight=1,\n",
       "                                           missing=None, n_est...\n",
       "                                        'learning_rate': [0.01, 0.05, 0.1, 0.15,\n",
       "                                                          0.1],\n",
       "                                        'max_depth': [3, 5, 7, 10, 20, 40, 45],\n",
       "                                        'min_child_weight': [1, 3, 5, 7],\n",
       "                                        'n_estimators': [100, 200, 300, 500],\n",
       "                                        'reg_alpha': [0, 0.5, 1],\n",
       "                                        'reg_lambda': [0.1, 1, 1.5, 2, 3, 4.5],\n",
       "                                        'subsample': [0.2, 0.4, 0.5]},\n",
       "                   pre_dispatch='2*n_jobs', random_state=1, refit='roc_auc',\n",
       "                   return_train_score=True,\n",
       "                   scoring=['roc_auc', 'f1', 'recall', 'precision'], verbose=0)"
      ]
     },
     "execution_count": 117,
     "metadata": {
      "tags": []
     },
     "output_type": "execute_result"
    }
   ],
   "source": [
    "xgb_model = XGBClassifier(scale_pos_weight= 577.875,early_stopping_rounds= 10,n_jobs = -1,random_state = 1)\n",
    "\n",
    "cv = StratifiedShuffleSplit(n_splits= 3 ,random_state = 1)\n",
    "param_grid = {'learning_rate': [0.01,0.05,0.1,0.15,0.1],\n",
    "              'max_depth' : [3,5,7,10,20,40,45],\n",
    "              'min_child_weight' : [1,3,5,7],\n",
    "              'gamma':[0.01,0.1,0.2,0.3,0.5],\n",
    "              'colsample_bytree' : [0.3,0.4,0.5,0.7],\n",
    "              'subsample': [0.2, 0.4, 0.5],\n",
    "              \"reg_alpha\": [0, 0.5, 1],\n",
    "              \"reg_lambda\": [0.1,1, 1.5, 2, 3, 4.5],\n",
    "              \"min_child_weight\": [1, 3, 5, 7],\n",
    "              'n_estimators': [100,200,300,500]}\n",
    "grid_search_xgb = RandomizedSearchCV(xgb_model, param_distributions= param_grid, \n",
    "                    cv= cv, \n",
    "                       scoring= scores, refit = 'roc_auc', n_jobs= -1 , return_train_score= True,random_state = 1)\n",
    "grid_search_xgb.fit(X_train,y_train)\n"
   ]
  },
  {
   "cell_type": "markdown",
   "metadata": {
    "id": "sskCq02yUbC5"
   },
   "source": [
    "### these were the best-params observed\n",
    "{'colsample_bytree': 0.3,\n",
    " 'gamma': 0.01,\n",
    " 'learning_rate': 0.01,\n",
    " 'max_depth': 5,\n",
    " 'min_child_weight': 1,\n",
    " 'n_estimators': 500,\n",
    " 'reg_alpha': 0,\n",
    " 'reg_lambda': 0.1,\n",
    " 'subsample': 0.2}"
   ]
  },
  {
   "cell_type": "code",
   "execution_count": null,
   "metadata": {
    "colab": {
     "base_uri": "https://localhost:8080/"
    },
    "id": "SvEO3b4wsTA1",
    "outputId": "6fb8db43-f61e-4021-94d2-b22d48adc1d5"
   },
   "outputs": [
    {
     "data": {
      "text/plain": [
       "XGBClassifier(base_score=0.5, booster='gbtree', colsample_bylevel=1,\n",
       "              colsample_bynode=1, colsample_bytree=0.3,\n",
       "              early_stopping_rounds=10, gamma=0.01, learning_rate=0.01,\n",
       "              max_delta_step=0, max_depth=5, min_child_weight=1, missing=None,\n",
       "              n_estimators=500, n_jobs=-1, nthread=None,\n",
       "              objective='binary:logistic', random_state=1, reg_alpha=0,\n",
       "              reg_lambda=0.1, scale_pos_weight=577.875, seed=None, silent=None,\n",
       "              subsample=0.2, verbosity=1)"
      ]
     },
     "execution_count": 168,
     "metadata": {
      "tags": []
     },
     "output_type": "execute_result"
    }
   ],
   "source": [
    "xgb_model = XGBClassifier(scale_pos_weight= 577.875,early_stopping_rounds= 10,n_jobs = -1,colsample_bytree = 0.3,\n",
    "                          gamma = 0.01, learning_rate = 0.01,max_depth = 5,min_child_weight = 1,n_estimators = 500,subsample = 0.2,reg_alpha = 0,\n",
    "                          reg_lambda = 0.1,random_state = 1)\n",
    "xgb_model.fit(X_train,y_train)"
   ]
  },
  {
   "cell_type": "markdown",
   "metadata": {},
   "source": [
    "### predictions on train set"
   ]
  },
  {
   "cell_type": "code",
   "execution_count": null,
   "metadata": {
    "id": "OEM7mJFJs335"
   },
   "outputs": [],
   "source": [
    "xgb_pred_train = xgb_model.predict(X_train)"
   ]
  },
  {
   "cell_type": "markdown",
   "metadata": {},
   "source": [
    "### classification report at default cut-off of 0.5"
   ]
  },
  {
   "cell_type": "code",
   "execution_count": null,
   "metadata": {
    "colab": {
     "base_uri": "https://localhost:8080/",
     "height": 173
    },
    "id": "D8Qis5CCtBoF",
    "outputId": "5f323d9f-6f92-424a-d2d0-da048de0503a"
   },
   "outputs": [
    {
     "data": {
      "text/html": [
       "<div>\n",
       "<style scoped>\n",
       "    .dataframe tbody tr th:only-of-type {\n",
       "        vertical-align: middle;\n",
       "    }\n",
       "\n",
       "    .dataframe tbody tr th {\n",
       "        vertical-align: top;\n",
       "    }\n",
       "\n",
       "    .dataframe thead th {\n",
       "        text-align: right;\n",
       "    }\n",
       "</style>\n",
       "<table border=\"1\" class=\"dataframe\">\n",
       "  <thead>\n",
       "    <tr style=\"text-align: right;\">\n",
       "      <th></th>\n",
       "      <th>0</th>\n",
       "      <th>1</th>\n",
       "      <th>accuracy</th>\n",
       "      <th>macro avg</th>\n",
       "      <th>weighted avg</th>\n",
       "    </tr>\n",
       "  </thead>\n",
       "  <tbody>\n",
       "    <tr>\n",
       "      <th>precision</th>\n",
       "      <td>0.999808</td>\n",
       "      <td>0.581560</td>\n",
       "      <td>0.998703</td>\n",
       "      <td>0.790684</td>\n",
       "      <td>0.999085</td>\n",
       "    </tr>\n",
       "    <tr>\n",
       "      <th>recall</th>\n",
       "      <td>0.998893</td>\n",
       "      <td>0.888889</td>\n",
       "      <td>0.998703</td>\n",
       "      <td>0.943891</td>\n",
       "      <td>0.998703</td>\n",
       "    </tr>\n",
       "    <tr>\n",
       "      <th>f1-score</th>\n",
       "      <td>0.999350</td>\n",
       "      <td>0.703108</td>\n",
       "      <td>0.998703</td>\n",
       "      <td>0.851229</td>\n",
       "      <td>0.998838</td>\n",
       "    </tr>\n",
       "    <tr>\n",
       "      <th>support</th>\n",
       "      <td>213236.000000</td>\n",
       "      <td>369.000000</td>\n",
       "      <td>0.998703</td>\n",
       "      <td>213605.000000</td>\n",
       "      <td>213605.000000</td>\n",
       "    </tr>\n",
       "  </tbody>\n",
       "</table>\n",
       "</div>"
      ],
      "text/plain": [
       "                       0           1  accuracy      macro avg   weighted avg\n",
       "precision       0.999808    0.581560  0.998703       0.790684       0.999085\n",
       "recall          0.998893    0.888889  0.998703       0.943891       0.998703\n",
       "f1-score        0.999350    0.703108  0.998703       0.851229       0.998838\n",
       "support    213236.000000  369.000000  0.998703  213605.000000  213605.000000"
      ]
     },
     "execution_count": 170,
     "metadata": {
      "tags": []
     },
     "output_type": "execute_result"
    }
   ],
   "source": [
    "pd.DataFrame(classification_report(y_train,xgb_pred_train, output_dict= True ))"
   ]
  },
  {
   "cell_type": "markdown",
   "metadata": {},
   "source": [
    "### roc-auc score"
   ]
  },
  {
   "cell_type": "code",
   "execution_count": null,
   "metadata": {
    "colab": {
     "base_uri": "https://localhost:8080/"
    },
    "id": "0TPwMiTGvrKI",
    "outputId": "e57c8f58-99ba-464e-b79d-a3b96ef8eaff"
   },
   "outputs": [
    {
     "name": "stdout",
     "output_type": "stream",
     "text": [
      "0.9995960555377374\n"
     ]
    }
   ],
   "source": [
    "print(roc_auc_score(y_train,xgb_model.predict_proba(X_train)[:,1]))"
   ]
  },
  {
   "cell_type": "markdown",
   "metadata": {
    "id": "7iGe3RroLmzB"
   },
   "source": [
    "## `MODEL 4 - LGBM - CLASS WEIGHT`"
   ]
  },
  {
   "cell_type": "markdown",
   "metadata": {},
   "source": [
    "### Lets check the parameters of Lgbm once"
   ]
  },
  {
   "cell_type": "code",
   "execution_count": null,
   "metadata": {
    "colab": {
     "base_uri": "https://localhost:8080/"
    },
    "id": "4ZBJYolOZtha",
    "outputId": "8d8e605f-84de-4da4-b6c7-46ae7a5ef52d"
   },
   "outputs": [
    {
     "data": {
      "text/plain": [
       "{'boosting_type': 'gbdt',\n",
       " 'class_weight': None,\n",
       " 'colsample_bytree': 1.0,\n",
       " 'importance_type': 'split',\n",
       " 'learning_rate': 0.1,\n",
       " 'max_depth': -1,\n",
       " 'min_child_samples': 20,\n",
       " 'min_child_weight': 0.001,\n",
       " 'min_split_gain': 0.0,\n",
       " 'n_estimators': 100,\n",
       " 'n_jobs': -1,\n",
       " 'num_leaves': 31,\n",
       " 'objective': None,\n",
       " 'random_state': None,\n",
       " 'reg_alpha': 0.0,\n",
       " 'reg_lambda': 0.0,\n",
       " 'silent': True,\n",
       " 'subsample': 1.0,\n",
       " 'subsample_for_bin': 200000,\n",
       " 'subsample_freq': 0}"
      ]
     },
     "execution_count": 122,
     "metadata": {
      "tags": []
     },
     "output_type": "execute_result"
    }
   ],
   "source": [
    "from lightgbm import LGBMClassifier\n",
    "LGBMClassifier().get_params()"
   ]
  },
  {
   "cell_type": "markdown",
   "metadata": {},
   "source": [
    "### Hyper-parameter tuning"
   ]
  },
  {
   "cell_type": "code",
   "execution_count": null,
   "metadata": {
    "colab": {
     "base_uri": "https://localhost:8080/"
    },
    "id": "t7tUPYB4cXlx",
    "outputId": "5b0293cb-3b70-4e67-f19b-8b8c02e72b82"
   },
   "outputs": [
    {
     "data": {
      "text/plain": [
       "RandomizedSearchCV(cv=StratifiedShuffleSplit(n_splits=3, random_state=1, test_size=None,\n",
       "            train_size=None),\n",
       "                   error_score=nan,\n",
       "                   estimator=LGBMClassifier(boosting_type='gbdt',\n",
       "                                            class_weight=None,\n",
       "                                            colsample_bytree=1.0,\n",
       "                                            importance_type='split',\n",
       "                                            learning_rate=0.1, max_depth=-1,\n",
       "                                            min_child_samples=20,\n",
       "                                            min_child_weight=0.001,\n",
       "                                            min_split_gain=0.0,\n",
       "                                            n_estimators=100, n_jobs=-1,\n",
       "                                            n...\n",
       "                                        'learning_rate': [0.05, 0.1, 0.2, 0.4,\n",
       "                                                          0.5, 0.7, 1, 1.5],\n",
       "                                        'max_depth': [3, 5, 7, 10, 12, 15],\n",
       "                                        'min_child_weight': [1, 3, 5, 6, 7],\n",
       "                                        'n_estimators': [200, 300, 500, 600],\n",
       "                                        'reg_alpha': [0, 0.5, 1, 2, 3],\n",
       "                                        'reg_lambda': [0.05, 0.1, 1, 2, 3, 4,\n",
       "                                                       5],\n",
       "                                        'subsample': [0.1, 0.2, 0.3, 0.4, 0.6,\n",
       "                                                      0.8]},\n",
       "                   pre_dispatch='2*n_jobs', random_state=1, refit='roc_auc',\n",
       "                   return_train_score=True,\n",
       "                   scoring=['roc_auc', 'f1', 'recall', 'precision'], verbose=0)"
      ]
     },
     "execution_count": 124,
     "metadata": {
      "tags": []
     },
     "output_type": "execute_result"
    }
   ],
   "source": [
    "lgbm_model = LGBMClassifier(scale_pos_weight= 577.875,n_jobs = -1,objective='binary', random_state = 1)\n",
    "\n",
    "cv = StratifiedShuffleSplit(n_splits= 3 ,random_state = 1)\n",
    "param_grid = {'learning_rate': [0.05,0.1,0.2,0.4,0.5,0.7,1,1.5],\n",
    "              'max_depth' : [3,5,7,10,12,15],\n",
    "              'min_child_weight' : [1,3,5,7,9],\n",
    "              'gamma':[0.01,0.1,0.2,0.3,0.5],\n",
    "              'colsample_bytree' : [0.1,0.2,0.3,0.4],\n",
    "              'subsample': [0.1,0.2,0.3, 0.4,0.6,0.8],\n",
    "              \"reg_alpha\": [0, 0.5, 1,2,3],\n",
    "              \"reg_lambda\": [0.05,0.1,1,2,3,4,5],\n",
    "              \"min_child_weight\": [1,3,5,6,7],\n",
    "              'n_estimators': [200,300,500,600]}\n",
    "grid_search_lgbm = RandomizedSearchCV(lgbm_model, param_distributions= param_grid, \n",
    "                    cv= cv, \n",
    "                       scoring= scores, refit = 'roc_auc', n_jobs= -1 , return_train_score= True,random_state = 1)\n",
    "grid_search_lgbm.fit(X_train,y_train)\n"
   ]
  },
  {
   "cell_type": "markdown",
   "metadata": {},
   "source": [
    "### Best-params"
   ]
  },
  {
   "cell_type": "code",
   "execution_count": null,
   "metadata": {
    "colab": {
     "base_uri": "https://localhost:8080/"
    },
    "id": "SO9dKZ2de8QX",
    "outputId": "09375c56-e342-451a-8a2a-91318689915a"
   },
   "outputs": [
    {
     "data": {
      "text/plain": [
       "{'colsample_bytree': 0.1,\n",
       " 'gamma': 0.01,\n",
       " 'learning_rate': 0.2,\n",
       " 'max_depth': 15,\n",
       " 'min_child_weight': 5,\n",
       " 'n_estimators': 300,\n",
       " 'reg_alpha': 0.5,\n",
       " 'reg_lambda': 1,\n",
       " 'subsample': 0.8}"
      ]
     },
     "execution_count": 125,
     "metadata": {
      "tags": []
     },
     "output_type": "execute_result"
    }
   ],
   "source": [
    "grid_search_lgbm.best_params_"
   ]
  },
  {
   "cell_type": "code",
   "execution_count": null,
   "metadata": {
    "colab": {
     "base_uri": "https://localhost:8080/"
    },
    "id": "KPJu0_RBfsir",
    "outputId": "baadf0d1-602f-4ee6-d3f8-639396edff53"
   },
   "outputs": [
    {
     "data": {
      "text/plain": [
       "LGBMClassifier(boosting_type='gbdt', class_weight=None, colsample_bytree=0.1,\n",
       "               gamma=0.01, importance_type='split', learning_rate=0.2,\n",
       "               max_depth=15, min_child_samples=20, min_child_weight=5,\n",
       "               min_split_gain=0.0, n_estimators=300, n_jobs=-1, num_leaves=31,\n",
       "               objective='binary', random_state=1, reg_alpha=0.5, reg_lambda=1,\n",
       "               scale_pos_weight=577.875, silent=True, subsample=0.8,\n",
       "               subsample_for_bin=200000, subsample_freq=0)"
      ]
     },
     "execution_count": 145,
     "metadata": {
      "tags": []
     },
     "output_type": "execute_result"
    }
   ],
   "source": [
    "lgbm_model = LGBMClassifier(scale_pos_weight= 577.875,n_jobs = -1,colsample_bytree = 0.1,\n",
    "                          gamma = 0.01, learning_rate = 0.2,max_depth = 15,min_child_weight = 5,n_estimators = 300,subsample = 0.8,reg_alpha = 0.5,\n",
    "                          reg_lambda = 1,objective='binary',random_state = 1)\n",
    "lgbm_model.fit(X_train,y_train)"
   ]
  },
  {
   "cell_type": "markdown",
   "metadata": {},
   "source": [
    "### Predictions on train set"
   ]
  },
  {
   "cell_type": "code",
   "execution_count": null,
   "metadata": {
    "id": "tuqQvzcmgMpC"
   },
   "outputs": [],
   "source": [
    "lgbm_pred_train = lgbm_model.predict(X_train)"
   ]
  },
  {
   "cell_type": "markdown",
   "metadata": {},
   "source": [
    "### classification report at default cut-off of 0.5"
   ]
  },
  {
   "cell_type": "code",
   "execution_count": null,
   "metadata": {
    "colab": {
     "base_uri": "https://localhost:8080/",
     "height": 173
    },
    "id": "4VaY5ljZgWoS",
    "outputId": "94969a59-eea7-4484-ebf7-48caad04ecf0"
   },
   "outputs": [
    {
     "data": {
      "text/html": [
       "<div>\n",
       "<style scoped>\n",
       "    .dataframe tbody tr th:only-of-type {\n",
       "        vertical-align: middle;\n",
       "    }\n",
       "\n",
       "    .dataframe tbody tr th {\n",
       "        vertical-align: top;\n",
       "    }\n",
       "\n",
       "    .dataframe thead th {\n",
       "        text-align: right;\n",
       "    }\n",
       "</style>\n",
       "<table border=\"1\" class=\"dataframe\">\n",
       "  <thead>\n",
       "    <tr style=\"text-align: right;\">\n",
       "      <th></th>\n",
       "      <th>0</th>\n",
       "      <th>1</th>\n",
       "      <th>accuracy</th>\n",
       "      <th>macro avg</th>\n",
       "      <th>weighted avg</th>\n",
       "    </tr>\n",
       "  </thead>\n",
       "  <tbody>\n",
       "    <tr>\n",
       "      <th>precision</th>\n",
       "      <td>1.000000</td>\n",
       "      <td>0.924812</td>\n",
       "      <td>0.99986</td>\n",
       "      <td>0.962406</td>\n",
       "      <td>0.999870</td>\n",
       "    </tr>\n",
       "    <tr>\n",
       "      <th>recall</th>\n",
       "      <td>0.999859</td>\n",
       "      <td>1.000000</td>\n",
       "      <td>0.99986</td>\n",
       "      <td>0.999930</td>\n",
       "      <td>0.999860</td>\n",
       "    </tr>\n",
       "    <tr>\n",
       "      <th>f1-score</th>\n",
       "      <td>0.999930</td>\n",
       "      <td>0.960938</td>\n",
       "      <td>0.99986</td>\n",
       "      <td>0.980434</td>\n",
       "      <td>0.999862</td>\n",
       "    </tr>\n",
       "    <tr>\n",
       "      <th>support</th>\n",
       "      <td>213236.000000</td>\n",
       "      <td>369.000000</td>\n",
       "      <td>0.99986</td>\n",
       "      <td>213605.000000</td>\n",
       "      <td>213605.000000</td>\n",
       "    </tr>\n",
       "  </tbody>\n",
       "</table>\n",
       "</div>"
      ],
      "text/plain": [
       "                       0           1  accuracy      macro avg   weighted avg\n",
       "precision       1.000000    0.924812   0.99986       0.962406       0.999870\n",
       "recall          0.999859    1.000000   0.99986       0.999930       0.999860\n",
       "f1-score        0.999930    0.960938   0.99986       0.980434       0.999862\n",
       "support    213236.000000  369.000000   0.99986  213605.000000  213605.000000"
      ]
     },
     "execution_count": 147,
     "metadata": {
      "tags": []
     },
     "output_type": "execute_result"
    }
   ],
   "source": [
    "pd.DataFrame(classification_report(y_train,lgbm_pred_train, output_dict= True ))"
   ]
  },
  {
   "cell_type": "markdown",
   "metadata": {},
   "source": [
    "### auc of the train set"
   ]
  },
  {
   "cell_type": "code",
   "execution_count": null,
   "metadata": {
    "colab": {
     "base_uri": "https://localhost:8080/"
    },
    "id": "ZjKKB7DngV2H",
    "outputId": "4c691a74-a7b2-4fdb-c62e-ea6102d03723"
   },
   "outputs": [
    {
     "name": "stdout",
     "output_type": "stream",
     "text": [
      "0.9999450587745293\n"
     ]
    }
   ],
   "source": [
    "print(roc_auc_score(y_train,lgbm_model.predict_proba(X_train)[:,1]))"
   ]
  },
  {
   "cell_type": "markdown",
   "metadata": {},
   "source": [
    "# `2nd approach - Handling Class Imbalance using SMOTE`"
   ]
  },
  {
   "cell_type": "markdown",
   "metadata": {},
   "source": [
    "### Why is it better to use a pipeline while using balancing technique like Smote or Adasyn? \n",
    "### When we are doing hyperparameter tuning, the hold out set at each fold should represent the true population. Based on that we need to tune the hyperparameters of our model. But, if we apply SMOTE on the train data and then do hyper-parameter tuning on it , even the hold out set may contain similar samples that are on the trained set . This gives false representation of the score and when we check the test scores we get very bad scores. \n",
    "## The imblearn pipeline helps to deal with this issue. It doesnot apply SMOTE on the hold out set at each fold."
   ]
  },
  {
   "cell_type": "code",
   "execution_count": 68,
   "metadata": {
    "colab": {
     "base_uri": "https://localhost:8080/"
    },
    "id": "VWq7ug4mSwBO",
    "outputId": "a40b7d18-2d03-458a-e438-cab6ab74628b"
   },
   "outputs": [],
   "source": [
    "from imblearn.pipeline import Pipeline, make_pipeline\n",
    "from imblearn.over_sampling import SMOTE"
   ]
  },
  {
   "cell_type": "markdown",
   "metadata": {},
   "source": [
    "## `Lets check the spread of the data after applying SMOTE`"
   ]
  },
  {
   "cell_type": "code",
   "execution_count": null,
   "metadata": {
    "colab": {
     "base_uri": "https://localhost:8080/",
     "height": 663
    },
    "id": "uDqve-qmjnBp",
    "outputId": "b5a91045-b8c3-4a7f-bc9d-62e204b5b7bd"
   },
   "outputs": [
    {
     "name": "stderr",
     "output_type": "stream",
     "text": [
      "/usr/local/lib/python3.6/dist-packages/sklearn/utils/deprecation.py:87: FutureWarning: Function safe_indexing is deprecated; safe_indexing is deprecated in version 0.22 and will be removed in version 0.24.\n",
      "  warnings.warn(msg, category=FutureWarning)\n"
     ]
    },
    {
     "data": {
      "text/plain": [
       "<matplotlib.axes._subplots.AxesSubplot at 0x7ff1c7ef1208>"
      ]
     },
     "execution_count": 222,
     "metadata": {
      "tags": []
     },
     "output_type": "execute_result"
    },
    {
     "data": {
      "image/png": "[encoded data removed]",
      "text/plain": [
       "<Figure size 1080x720 with 1 Axes>"
      ]
     },
     "metadata": {
      "tags": []
     },
     "output_type": "display_data"
    }
   ],
   "source": [
    "Sm = SMOTE(random_state=1)\n",
    "X_tr_smote,y_tr_smote = Sm.fit_resample(X_train,y_train)\n",
    "pd.DataFrame(X_tr_smote).loc[:,1:].boxplot(figsize = (15,10))"
   ]
  },
  {
   "cell_type": "markdown",
   "metadata": {
    "id": "ITLkqYNmMARI"
   },
   "source": [
    "## `Lets check the spread of the data after applying ADASYN`"
   ]
  },
  {
   "cell_type": "code",
   "execution_count": null,
   "metadata": {
    "colab": {
     "base_uri": "https://localhost:8080/",
     "height": 663
    },
    "id": "ZYJKj856tQVx",
    "outputId": "92c2d99e-803c-4f20-ce0a-10ba90590e3e"
   },
   "outputs": [
    {
     "name": "stderr",
     "output_type": "stream",
     "text": [
      "/usr/local/lib/python3.6/dist-packages/sklearn/utils/deprecation.py:87: FutureWarning: Function safe_indexing is deprecated; safe_indexing is deprecated in version 0.22 and will be removed in version 0.24.\n",
      "  warnings.warn(msg, category=FutureWarning)\n"
     ]
    },
    {
     "data": {
      "text/plain": [
       "<matplotlib.axes._subplots.AxesSubplot at 0x7ff1a6aa1160>"
      ]
     },
     "execution_count": 223,
     "metadata": {
      "tags": []
     },
     "output_type": "execute_result"
    },
    {
     "data": {
      "image/png": "[encoded data removed]",
      "text/plain": [
       "<Figure size 1080x720 with 1 Axes>"
      ]
     },
     "metadata": {
      "tags": []
     },
     "output_type": "display_data"
    }
   ],
   "source": [
    "am = ADASYN(random_state = 1)\n",
    "adasyn_train_X , adasyn_train_y= am.fit_resample(X_train,y_train)\n",
    "pd.DataFrame(adasyn_train_X).loc[:,1:].boxplot(figsize = (15,10))\n"
   ]
  },
  {
   "cell_type": "markdown",
   "metadata": {},
   "source": [
    "# `MODEL 1 - DECISION TREE - SMOTE`"
   ]
  },
  {
   "cell_type": "code",
   "execution_count": null,
   "metadata": {
    "id": "3atrZ_6AFXai"
   },
   "outputs": [],
   "source": [
    "param_grid = {\n",
    "    'max_depth': range(2,20,2),\n",
    "    'min_samples_leaf': range(2, 1000, 50),\n",
    "    'min_samples_split': range(2, 1000, 50),\n",
    "    'criterion': [\"entropy\", \"gini\"]\n",
    "}\n",
    "new_params = {'decisiontreeclassifier__' + key: param_grid[key] for key in param_grid}\n",
    "imba_pipeline_dt = make_pipeline(SMOTE(random_state=1), \n",
    "                              DecisionTreeClassifier(random_state=1))\n",
    "cv = StratifiedShuffleSplit(n_splits= 3 ,random_state = 1)\n",
    "grid_imba_dt = RandomizedSearchCV(imba_pipeline_dt, param_distributions= param_grid, \n",
    "                    cv= cv, \n",
    "                       scoring= scores, refit = 'roc_auc', n_jobs= -1 , return_train_score= True,random_state = 1)\n",
    "\n",
    "grid_imba_dt.fit(X_train, y_train)"
   ]
  },
  {
   "cell_type": "code",
   "execution_count": null,
   "metadata": {
    "colab": {
     "base_uri": "https://localhost:8080/"
    },
    "id": "En2jm-kFHug_",
    "outputId": "460ff507-99ef-4570-e000-1b40ea4c1ad5"
   },
   "outputs": [
    {
     "data": {
      "text/plain": [
       "{'decisiontreeclassifier__criterion': 'entropy',\n",
       " 'decisiontreeclassifier__max_depth': 4,\n",
       " 'decisiontreeclassifier__min_samples_leaf': 1202,\n",
       " 'decisiontreeclassifier__min_samples_split': 2702}"
      ]
     },
     "execution_count": 42,
     "metadata": {
      "tags": []
     },
     "output_type": "execute_result"
    }
   ],
   "source": [
    "grid_imba_dt.best_params_"
   ]
  },
  {
   "cell_type": "code",
   "execution_count": null,
   "metadata": {
    "colab": {
     "base_uri": "https://localhost:8080/"
    },
    "id": "c5IDOv-DJc8o",
    "outputId": "fb0764a7-786f-465c-930e-48b864f34c88"
   },
   "outputs": [
    {
     "name": "stderr",
     "output_type": "stream",
     "text": [
      "/usr/local/lib/python3.6/dist-packages/sklearn/utils/deprecation.py:87: FutureWarning: Function safe_indexing is deprecated; safe_indexing is deprecated in version 0.22 and will be removed in version 0.24.\n",
      "  warnings.warn(msg, category=FutureWarning)\n"
     ]
    },
    {
     "data": {
      "text/plain": [
       "Pipeline(memory=None,\n",
       "         steps=[('smote',\n",
       "                 SMOTE(k_neighbors=5, kind='deprecated',\n",
       "                       m_neighbors='deprecated', n_jobs=1,\n",
       "                       out_step='deprecated', random_state=1, ratio=None,\n",
       "                       sampling_strategy='auto', svm_estimator='deprecated')),\n",
       "                ('decisiontreeclassifier',\n",
       "                 DecisionTreeClassifier(ccp_alpha=0.0, class_weight=None,\n",
       "                                        criterion='entropy', max_depth=4,\n",
       "                                        max_features=None, max_leaf_nodes=None,\n",
       "                                        min_impurity_decrease=0.0,\n",
       "                                        min_impurity_split=None,\n",
       "                                        min_samples_leaf=1202,\n",
       "                                        min_samples_split=2702,\n",
       "                                        min_weight_fraction_leaf=0.0,\n",
       "                                        presort='deprecated', random_state=1,\n",
       "                                        splitter='best'))],\n",
       "         verbose=False)"
      ]
     },
     "execution_count": 227,
     "metadata": {
      "tags": []
     },
     "output_type": "execute_result"
    }
   ],
   "source": [
    "smote_dt = make_pipeline(SMOTE(random_state=1), \n",
    "                              DecisionTreeClassifier(random_state=1,criterion= 'entropy',\n",
    "                              max_depth = 4, min_samples_leaf = 1202,\n",
    "                              min_samples_split = 2702))\n",
    "smote_dt.fit(X_train,y_train)"
   ]
  },
  {
   "cell_type": "markdown",
   "metadata": {},
   "source": [
    "### Predictions on the train set"
   ]
  },
  {
   "cell_type": "code",
   "execution_count": null,
   "metadata": {
    "id": "HFfSf7RvJ9FX"
   },
   "outputs": [],
   "source": [
    "s_dt_train_pred = smote_dt.predict(X_train)"
   ]
  },
  {
   "cell_type": "markdown",
   "metadata": {},
   "source": [
    "### Classification report at defaultt threshold (0.5)"
   ]
  },
  {
   "cell_type": "code",
   "execution_count": null,
   "metadata": {
    "colab": {
     "base_uri": "https://localhost:8080/",
     "height": 173
    },
    "id": "XqN-W7gDKeki",
    "outputId": "d04c92c4-7ebc-466e-ca10-343b720160b1"
   },
   "outputs": [
    {
     "data": {
      "text/html": [
       "<div>\n",
       "<style scoped>\n",
       "    .dataframe tbody tr th:only-of-type {\n",
       "        vertical-align: middle;\n",
       "    }\n",
       "\n",
       "    .dataframe tbody tr th {\n",
       "        vertical-align: top;\n",
       "    }\n",
       "\n",
       "    .dataframe thead th {\n",
       "        text-align: right;\n",
       "    }\n",
       "</style>\n",
       "<table border=\"1\" class=\"dataframe\">\n",
       "  <thead>\n",
       "    <tr style=\"text-align: right;\">\n",
       "      <th></th>\n",
       "      <th>0</th>\n",
       "      <th>1</th>\n",
       "      <th>accuracy</th>\n",
       "      <th>macro avg</th>\n",
       "      <th>weighted avg</th>\n",
       "    </tr>\n",
       "  </thead>\n",
       "  <tbody>\n",
       "    <tr>\n",
       "      <th>precision</th>\n",
       "      <td>0.999813</td>\n",
       "      <td>0.065424</td>\n",
       "      <td>0.977749</td>\n",
       "      <td>0.532619</td>\n",
       "      <td>0.998199</td>\n",
       "    </tr>\n",
       "    <tr>\n",
       "      <th>recall</th>\n",
       "      <td>0.977893</td>\n",
       "      <td>0.894309</td>\n",
       "      <td>0.977749</td>\n",
       "      <td>0.936101</td>\n",
       "      <td>0.977749</td>\n",
       "    </tr>\n",
       "    <tr>\n",
       "      <th>f1-score</th>\n",
       "      <td>0.988732</td>\n",
       "      <td>0.121929</td>\n",
       "      <td>0.977749</td>\n",
       "      <td>0.555330</td>\n",
       "      <td>0.987234</td>\n",
       "    </tr>\n",
       "    <tr>\n",
       "      <th>support</th>\n",
       "      <td>213236.000000</td>\n",
       "      <td>369.000000</td>\n",
       "      <td>0.977749</td>\n",
       "      <td>213605.000000</td>\n",
       "      <td>213605.000000</td>\n",
       "    </tr>\n",
       "  </tbody>\n",
       "</table>\n",
       "</div>"
      ],
      "text/plain": [
       "                       0           1  accuracy      macro avg   weighted avg\n",
       "precision       0.999813    0.065424  0.977749       0.532619       0.998199\n",
       "recall          0.977893    0.894309  0.977749       0.936101       0.977749\n",
       "f1-score        0.988732    0.121929  0.977749       0.555330       0.987234\n",
       "support    213236.000000  369.000000  0.977749  213605.000000  213605.000000"
      ]
     },
     "execution_count": 252,
     "metadata": {
      "tags": []
     },
     "output_type": "execute_result"
    }
   ],
   "source": [
    "pd.DataFrame(classification_report(y_train,s_dt_train_pred, output_dict= True ))"
   ]
  },
  {
   "cell_type": "markdown",
   "metadata": {
    "id": "gDQBnzObMIjt"
   },
   "source": [
    "# `MODEL 2 - RANDOM FOREST - SMOTE`"
   ]
  },
  {
   "cell_type": "code",
   "execution_count": null,
   "metadata": {
    "id": "PocoGmWfXOVR"
   },
   "outputs": [],
   "source": [
    "param_grid = {\n",
    "    'max_depth': [5,10,15],\n",
    "    'min_samples_leaf': range(500, 1510, 500),\n",
    "    'min_samples_split': range(500, 1510, 500),\n",
    "    'max_features': [4,8,15]}"
   ]
  },
  {
   "cell_type": "code",
   "execution_count": null,
   "metadata": {
    "id": "BfjohP0nXBQs"
   },
   "outputs": [],
   "source": [
    "new_params = {'randomforestclassifier__' + key: param_grid[key] for key in param_grid}\n",
    "imba_pipeline = make_pipeline(SMOTE(random_state=1), \n",
    "                              RandomForestClassifier(random_state=1,n_jobs = -1))\n",
    "cv = StratifiedShuffleSplit(n_splits= 3 ,random_state = 1)\n",
    "grid_imba = RandomizedSearchCV(imba_pipeline,, param_distributions= param_grid, \n",
    "                    cv= cv, \n",
    "                       scoring= scores, refit = 'roc_auc', n_jobs= -1 , return_train_score= True,random_state = 1)\n",
    "\n",
    "grid_imba.fit(X_train, y_train)"
   ]
  },
  {
   "cell_type": "code",
   "execution_count": null,
   "metadata": {
    "id": "bMIY3uyHYIoN"
   },
   "outputs": [],
   "source": [
    "grid_imba.best_params_"
   ]
  },
  {
   "cell_type": "code",
   "execution_count": 71,
   "metadata": {
    "colab": {
     "base_uri": "https://localhost:8080/"
    },
    "id": "bEtfKWwvcHby",
    "outputId": "1f33404b-a1b2-4653-9067-55a985adbec1"
   },
   "outputs": [
    {
     "data": {
      "text/plain": [
       "Pipeline(steps=[('smote', SMOTE(random_state=1)),\n",
       "                ('randomforestclassifier',\n",
       "                 RandomForestClassifier(criterion='entropy', max_depth=7,\n",
       "                                        max_features=16, min_samples_leaf=3502,\n",
       "                                        min_samples_split=1502,\n",
       "                                        n_estimators=250, n_jobs=-1,\n",
       "                                        random_state=1))])"
      ]
     },
     "execution_count": 71,
     "metadata": {},
     "output_type": "execute_result"
    }
   ],
   "source": [
    "smote_rf = make_pipeline(SMOTE(random_state=1), \n",
    "                              RandomForestClassifier(random_state=1,n_jobs = -1,criterion= 'entropy',\n",
    "                              max_depth = 7, max_features = 16, min_samples_leaf = 3502,\n",
    "                              min_samples_split = 1502, n_estimators = 250))\n",
    "smote_rf.fit(X_train,y_train)"
   ]
  },
  {
   "cell_type": "markdown",
   "metadata": {},
   "source": [
    "### Predictions on the train -set"
   ]
  },
  {
   "cell_type": "code",
   "execution_count": 72,
   "metadata": {
    "id": "HguDSmzUc95Z"
   },
   "outputs": [],
   "source": [
    "s_rf_train_pred = smote_rf.predict(X_train)"
   ]
  },
  {
   "cell_type": "markdown",
   "metadata": {},
   "source": [
    "### Classification report at defaultt threshold (0.5)"
   ]
  },
  {
   "cell_type": "code",
   "execution_count": 73,
   "metadata": {
    "colab": {
     "base_uri": "https://localhost:8080/",
     "height": 173
    },
    "id": "us2yTM8AhecE",
    "outputId": "fdd4e4ee-58ed-44e4-d6e0-1af3c08cfb3b"
   },
   "outputs": [
    {
     "data": {
      "text/html": [
       "<div>\n",
       "<style scoped>\n",
       "    .dataframe tbody tr th:only-of-type {\n",
       "        vertical-align: middle;\n",
       "    }\n",
       "\n",
       "    .dataframe tbody tr th {\n",
       "        vertical-align: top;\n",
       "    }\n",
       "\n",
       "    .dataframe thead th {\n",
       "        text-align: right;\n",
       "    }\n",
       "</style>\n",
       "<table border=\"1\" class=\"dataframe\">\n",
       "  <thead>\n",
       "    <tr style=\"text-align: right;\">\n",
       "      <th></th>\n",
       "      <th>0</th>\n",
       "      <th>1</th>\n",
       "      <th>accuracy</th>\n",
       "      <th>macro avg</th>\n",
       "      <th>weighted avg</th>\n",
       "    </tr>\n",
       "  </thead>\n",
       "  <tbody>\n",
       "    <tr>\n",
       "      <th>precision</th>\n",
       "      <td>0.999848</td>\n",
       "      <td>0.098972</td>\n",
       "      <td>0.985487</td>\n",
       "      <td>0.549410</td>\n",
       "      <td>0.998292</td>\n",
       "    </tr>\n",
       "    <tr>\n",
       "      <th>recall</th>\n",
       "      <td>0.985612</td>\n",
       "      <td>0.913279</td>\n",
       "      <td>0.985487</td>\n",
       "      <td>0.949446</td>\n",
       "      <td>0.985487</td>\n",
       "    </tr>\n",
       "    <tr>\n",
       "      <th>f1-score</th>\n",
       "      <td>0.992679</td>\n",
       "      <td>0.178590</td>\n",
       "      <td>0.985487</td>\n",
       "      <td>0.585635</td>\n",
       "      <td>0.991273</td>\n",
       "    </tr>\n",
       "    <tr>\n",
       "      <th>support</th>\n",
       "      <td>213236.000000</td>\n",
       "      <td>369.000000</td>\n",
       "      <td>0.985487</td>\n",
       "      <td>213605.000000</td>\n",
       "      <td>213605.000000</td>\n",
       "    </tr>\n",
       "  </tbody>\n",
       "</table>\n",
       "</div>"
      ],
      "text/plain": [
       "                       0           1  accuracy      macro avg   weighted avg\n",
       "precision       0.999848    0.098972  0.985487       0.549410       0.998292\n",
       "recall          0.985612    0.913279  0.985487       0.949446       0.985487\n",
       "f1-score        0.992679    0.178590  0.985487       0.585635       0.991273\n",
       "support    213236.000000  369.000000  0.985487  213605.000000  213605.000000"
      ]
     },
     "execution_count": 73,
     "metadata": {},
     "output_type": "execute_result"
    }
   ],
   "source": [
    "pd.DataFrame(classification_report(y_train,s_rf_train_pred, output_dict= True ))"
   ]
  },
  {
   "cell_type": "code",
   "execution_count": 74,
   "metadata": {
    "colab": {
     "base_uri": "https://localhost:8080/",
     "height": 173
    },
    "id": "OjBUYl-6h1Px",
    "outputId": "9574ee9d-f673-497d-eb73-523436d1c756"
   },
   "outputs": [
    {
     "data": {
      "text/html": [
       "<div>\n",
       "<style scoped>\n",
       "    .dataframe tbody tr th:only-of-type {\n",
       "        vertical-align: middle;\n",
       "    }\n",
       "\n",
       "    .dataframe tbody tr th {\n",
       "        vertical-align: top;\n",
       "    }\n",
       "\n",
       "    .dataframe thead th {\n",
       "        text-align: right;\n",
       "    }\n",
       "</style>\n",
       "<table border=\"1\" class=\"dataframe\">\n",
       "  <thead>\n",
       "    <tr style=\"text-align: right;\">\n",
       "      <th></th>\n",
       "      <th>0</th>\n",
       "      <th>1</th>\n",
       "      <th>accuracy</th>\n",
       "      <th>macro avg</th>\n",
       "      <th>weighted avg</th>\n",
       "    </tr>\n",
       "  </thead>\n",
       "  <tbody>\n",
       "    <tr>\n",
       "      <th>precision</th>\n",
       "      <td>0.999843</td>\n",
       "      <td>0.100000</td>\n",
       "      <td>0.985689</td>\n",
       "      <td>0.549922</td>\n",
       "      <td>0.998289</td>\n",
       "    </tr>\n",
       "    <tr>\n",
       "      <th>recall</th>\n",
       "      <td>0.985819</td>\n",
       "      <td>0.910569</td>\n",
       "      <td>0.985689</td>\n",
       "      <td>0.948194</td>\n",
       "      <td>0.985689</td>\n",
       "    </tr>\n",
       "    <tr>\n",
       "      <th>f1-score</th>\n",
       "      <td>0.992781</td>\n",
       "      <td>0.180209</td>\n",
       "      <td>0.985689</td>\n",
       "      <td>0.586495</td>\n",
       "      <td>0.991378</td>\n",
       "    </tr>\n",
       "    <tr>\n",
       "      <th>support</th>\n",
       "      <td>71079.000000</td>\n",
       "      <td>123.000000</td>\n",
       "      <td>0.985689</td>\n",
       "      <td>71202.000000</td>\n",
       "      <td>71202.000000</td>\n",
       "    </tr>\n",
       "  </tbody>\n",
       "</table>\n",
       "</div>"
      ],
      "text/plain": [
       "                      0           1  accuracy     macro avg  weighted avg\n",
       "precision      0.999843    0.100000  0.985689      0.549922      0.998289\n",
       "recall         0.985819    0.910569  0.985689      0.948194      0.985689\n",
       "f1-score       0.992781    0.180209  0.985689      0.586495      0.991378\n",
       "support    71079.000000  123.000000  0.985689  71202.000000  71202.000000"
      ]
     },
     "execution_count": 74,
     "metadata": {},
     "output_type": "execute_result"
    }
   ],
   "source": [
    "pd.DataFrame(classification_report(y_test,s_rf_test_pred, output_dict= True ))"
   ]
  },
  {
   "cell_type": "code",
   "execution_count": 75,
   "metadata": {
    "colab": {
     "base_uri": "https://localhost:8080/"
    },
    "id": "hSJQ0NGHiBL6",
    "outputId": "563a1ad9-8719-4cca-e4d9-4376f68c8767"
   },
   "outputs": [
    {
     "name": "stdout",
     "output_type": "stream",
     "text": [
      "0.9918431788568575\n"
     ]
    }
   ],
   "source": [
    "print(roc_auc_score(y_train,smote_rf.predict_proba(X_train)[:,1]))"
   ]
  },
  {
   "cell_type": "markdown",
   "metadata": {
    "id": "iFK0JIEQMlWr"
   },
   "source": [
    "# `MODEL 3 - XGBOOST - SMOTE`"
   ]
  },
  {
   "cell_type": "code",
   "execution_count": null,
   "metadata": {
    "id": "okJj8x0HrPSV"
   },
   "outputs": [],
   "source": [
    "param_grid = {'learning_rate': [0.01,0.05,0.1,0.15,0.1],\n",
    "              'max_depth' : [3,5,7,10,20,40,45],\n",
    "              'min_child_weight' : [1,3,5,7],\n",
    "              'gamma':[0.01,0.1,0.2,0.3,0.5],\n",
    "              'colsample_bytree' : [0.3,0.4,0.5,0.7],\n",
    "              'subsample': [0.2, 0.4, 0.5],\n",
    "              \"reg_alpha\": [0,0.5, 1],\n",
    "              \"reg_lambda\": [1.5, 2, 3, 4.5],\n",
    "              \"min_child_weight\": [1, 3, 5, 7],\n",
    "              'n_estimators': [100,200,300,500]}"
   ]
  },
  {
   "cell_type": "code",
   "execution_count": null,
   "metadata": {
    "id": "IJVWW7K3rJg7"
   },
   "outputs": [],
   "source": [
    "new_params = {'xgbclassifier__' + key: param_grid[key] for key in param_grid}\n",
    "imba_pipeline_xgb = make_pipeline(SMOTE(random_state=1), \n",
    "                              XGBClassifier(random_state=1,n_jobs = -1,early_stopping_rounds= 10))\n",
    "cv = StratifiedShuffleSplit(n_splits= 3,random_state = 1 )\n",
    "grid_imba_xgb = RandomizedSearchCV(imba_pipeline_xgb, , param_distributions= param_grid, \n",
    "                    cv= cv, \n",
    "                       scoring= scores, refit = 'roc_auc', n_jobs= -1 , return_train_score= True,random_state = 1)\n",
    "\n",
    "grid_imba_xgb.fit(X_train.values, y_train.values)"
   ]
  },
  {
   "cell_type": "code",
   "execution_count": null,
   "metadata": {
    "id": "3XllPd5Ys8dp"
   },
   "outputs": [],
   "source": [
    "grid_imba_xgb.best_params_"
   ]
  },
  {
   "cell_type": "code",
   "execution_count": 83,
   "metadata": {
    "colab": {
     "base_uri": "https://localhost:8080/"
    },
    "id": "S2IMgK0amOmO",
    "outputId": "17f95d03-45f6-43a0-ed5e-8695d9e95ab7"
   },
   "outputs": [
    {
     "data": {
      "text/plain": [
       "Pipeline(steps=[('smote', SMOTE(random_state=1)),\n",
       "                ('xgbclassifier',\n",
       "                 XGBClassifier(colsample_bytree=0.4, gamma=0.1,\n",
       "                               learning_rate=0.05, max_depth=10,\n",
       "                               n_estimators=200, reg_alpha=0.5, reg_lambda=0.05,\n",
       "                               subsample=0.4))])"
      ]
     },
     "execution_count": 83,
     "metadata": {},
     "output_type": "execute_result"
    }
   ],
   "source": [
    "smote_xgb = make_pipeline(SMOTE(random_state=1), \n",
    "                              XGBClassifier(colsample_bytree= 0.4,gamma = 0.1,learning_rate = 0.05,max_depth = 10,\n",
    "                                            min_child_weight = 1,n_estimators = 200,reg_alpha = 0.5,reg_lambda = 0.05,\n",
    "                                            subsample = 0.4))\n",
    "smote_xgb.fit(X_train.values,y_train.values)"
   ]
  },
  {
   "cell_type": "markdown",
   "metadata": {},
   "source": [
    "### Predictions on the train-set"
   ]
  },
  {
   "cell_type": "code",
   "execution_count": 84,
   "metadata": {
    "id": "cBb7qeQRm9C1"
   },
   "outputs": [],
   "source": [
    "s_xgb_train_pred = smote_xgb.predict(X_train.values)"
   ]
  },
  {
   "cell_type": "markdown",
   "metadata": {},
   "source": [
    "### Classification report at default threshold (0.5)"
   ]
  },
  {
   "cell_type": "code",
   "execution_count": 85,
   "metadata": {
    "colab": {
     "base_uri": "https://localhost:8080/",
     "height": 173
    },
    "id": "AFStTRMlnFWU",
    "outputId": "c9347876-29ca-4cec-a218-c362643a5064"
   },
   "outputs": [
    {
     "data": {
      "text/html": [
       "<div>\n",
       "<style scoped>\n",
       "    .dataframe tbody tr th:only-of-type {\n",
       "        vertical-align: middle;\n",
       "    }\n",
       "\n",
       "    .dataframe tbody tr th {\n",
       "        vertical-align: top;\n",
       "    }\n",
       "\n",
       "    .dataframe thead th {\n",
       "        text-align: right;\n",
       "    }\n",
       "</style>\n",
       "<table border=\"1\" class=\"dataframe\">\n",
       "  <thead>\n",
       "    <tr style=\"text-align: right;\">\n",
       "      <th></th>\n",
       "      <th>0</th>\n",
       "      <th>1</th>\n",
       "      <th>accuracy</th>\n",
       "      <th>macro avg</th>\n",
       "      <th>weighted avg</th>\n",
       "    </tr>\n",
       "  </thead>\n",
       "  <tbody>\n",
       "    <tr>\n",
       "      <th>precision</th>\n",
       "      <td>1.000000</td>\n",
       "      <td>0.946154</td>\n",
       "      <td>0.999902</td>\n",
       "      <td>0.973077</td>\n",
       "      <td>0.999907</td>\n",
       "    </tr>\n",
       "    <tr>\n",
       "      <th>recall</th>\n",
       "      <td>0.999902</td>\n",
       "      <td>1.000000</td>\n",
       "      <td>0.999902</td>\n",
       "      <td>0.999951</td>\n",
       "      <td>0.999902</td>\n",
       "    </tr>\n",
       "    <tr>\n",
       "      <th>f1-score</th>\n",
       "      <td>0.999951</td>\n",
       "      <td>0.972332</td>\n",
       "      <td>0.999902</td>\n",
       "      <td>0.986141</td>\n",
       "      <td>0.999903</td>\n",
       "    </tr>\n",
       "    <tr>\n",
       "      <th>support</th>\n",
       "      <td>213236.000000</td>\n",
       "      <td>369.000000</td>\n",
       "      <td>0.999902</td>\n",
       "      <td>213605.000000</td>\n",
       "      <td>213605.000000</td>\n",
       "    </tr>\n",
       "  </tbody>\n",
       "</table>\n",
       "</div>"
      ],
      "text/plain": [
       "                       0           1  accuracy      macro avg   weighted avg\n",
       "precision       1.000000    0.946154  0.999902       0.973077       0.999907\n",
       "recall          0.999902    1.000000  0.999902       0.999951       0.999902\n",
       "f1-score        0.999951    0.972332  0.999902       0.986141       0.999903\n",
       "support    213236.000000  369.000000  0.999902  213605.000000  213605.000000"
      ]
     },
     "execution_count": 85,
     "metadata": {},
     "output_type": "execute_result"
    }
   ],
   "source": [
    "pd.DataFrame(classification_report(y_train,s_xgb_train_pred, output_dict= True ))"
   ]
  },
  {
   "cell_type": "markdown",
   "metadata": {},
   "source": [
    "### auc-roc"
   ]
  },
  {
   "cell_type": "code",
   "execution_count": 86,
   "metadata": {
    "colab": {
     "base_uri": "https://localhost:8080/"
    },
    "id": "wQy3Lv5g7Ipx",
    "outputId": "728837ca-0516-4bc7-e0ab-d04eaf237a52"
   },
   "outputs": [
    {
     "name": "stdout",
     "output_type": "stream",
     "text": [
      "0.9999949036707347\n"
     ]
    }
   ],
   "source": [
    "print(roc_auc_score(y_train,smote_xgb.predict_proba(X_train.values)[:,1]))"
   ]
  },
  {
   "cell_type": "markdown",
   "metadata": {
    "id": "VF2lFe4dMqPz"
   },
   "source": [
    "# `MODEL 4 - LGBM - SMOTE`"
   ]
  },
  {
   "cell_type": "code",
   "execution_count": null,
   "metadata": {
    "id": "PiKw_8yI1fsN"
   },
   "outputs": [],
   "source": [
    "param_grid = {'learning_rate': [0.1,0.2,0.4,0.5,0.7,1,1.5],\n",
    "              'max_depth' : [3,5,7,10,12,15],\n",
    "              'min_child_weight' : [1,3,5,7,9],\n",
    "              'gamma':[0.01,0.1,0.2,0.3,0.5],\n",
    "              'colsample_bytree' : [0.1,0.2,0.3,0.4],\n",
    "              'subsample': [0.3, 0.4,0.6,0.8],\n",
    "              \"reg_alpha\": [1,2,3,4,5],\n",
    "              \"reg_lambda\": [1,2,3,4,5],\n",
    "              \"min_child_weight\": [1,3,5,6,7],\n",
    "              'n_estimators': [200,300,500,600]}"
   ]
  },
  {
   "cell_type": "code",
   "execution_count": null,
   "metadata": {
    "colab": {
     "base_uri": "https://localhost:8080/"
    },
    "id": "-HRehwbbUYX-",
    "outputId": "84722f20-7a9a-4032-f0a5-cab8a4eeb9b5"
   },
   "outputs": [
    {
     "name": "stderr",
     "output_type": "stream",
     "text": [
      "/usr/local/lib/python3.6/dist-packages/sklearn/utils/deprecation.py:87: FutureWarning: Function safe_indexing is deprecated; safe_indexing is deprecated in version 0.22 and will be removed in version 0.24.\n",
      "  warnings.warn(msg, category=FutureWarning)\n"
     ]
    },
    {
     "data": {
      "text/plain": [
       "RandomizedSearchCV(cv=StratifiedShuffleSplit(n_splits=3, random_state=None, test_size=None,\n",
       "            train_size=None),\n",
       "                   error_score=nan,\n",
       "                   estimator=Pipeline(memory=None,\n",
       "                                      steps=[('smote',\n",
       "                                              SMOTE(k_neighbors=5,\n",
       "                                                    kind='deprecated',\n",
       "                                                    m_neighbors='deprecated',\n",
       "                                                    n_jobs=1,\n",
       "                                                    out_step='deprecated',\n",
       "                                                    random_state=1, ratio=None,\n",
       "                                                    sampling_strategy='auto',\n",
       "                                                    svm_estimator='deprecated')),\n",
       "                                             ('lgbmc...\n",
       "                                        'lgbmclassifier__max_depth': [3, 5, 7,\n",
       "                                                                      10, 12,\n",
       "                                                                      15],\n",
       "                                        'lgbmclassifier__min_child_weight': [1,\n",
       "                                                                             3,\n",
       "                                                                             5,\n",
       "                                                                             6,\n",
       "                                                                             7],\n",
       "                                        'lgbmclassifier__n_estimators': [200,\n",
       "                                                                         300,\n",
       "                                                                         500,\n",
       "                                                                         600],\n",
       "                                        'lgbmclassifier__reg_alpha': [1, 2, 3,\n",
       "                                                                      4, 5],\n",
       "                                        'lgbmclassifier__reg_lambda': [1, 2, 3,\n",
       "                                                                       4, 5],\n",
       "                                        'lgbmclassifier__subsample': [0.3, 0.4,\n",
       "                                                                      0.6,\n",
       "                                                                      0.8]},\n",
       "                   pre_dispatch='2*n_jobs', random_state=None, refit=True,\n",
       "                   return_train_score=True, scoring='roc_auc', verbose=0)"
      ]
     },
     "execution_count": 156,
     "metadata": {
      "tags": []
     },
     "output_type": "execute_result"
    }
   ],
   "source": [
    "new_params = {'lgbmclassifier__' + key: param_grid[key] for key in param_grid}\n",
    "imba_pipeline_lgbm = make_pipeline(ADASYN(random_state=1,sampling_strategy = 'minority'), \n",
    "                              LGBMClassifier(random_state=1,n_jobs = -1))\n",
    "cv = StratifiedShuffleSplit(n_splits= 3 ,random_state = 1)\n",
    "grid_imba_lgbm = RandomizedSearchCV(imba_pipeline_lgbm, param_distributions= param_grid, \n",
    "                    cv= cv, \n",
    "                       scoring= scores, refit = 'roc_auc', n_jobs= -1 , return_train_score= True,random_state = 1)\n",
    "\n",
    "grid_imba_lgbm.fit(X_train.values, y_train.values)"
   ]
  },
  {
   "cell_type": "code",
   "execution_count": null,
   "metadata": {
    "colab": {
     "base_uri": "https://localhost:8080/"
    },
    "id": "_M3gQZOz15qN",
    "outputId": "d6f97717-0697-41be-e1e8-2d43387738ea"
   },
   "outputs": [
    {
     "data": {
      "text/plain": [
       "{'lgbmclassifier__colsample_bytree': 0.3,\n",
       " 'lgbmclassifier__gamma': 0.01,\n",
       " 'lgbmclassifier__learning_rate': 0.5,\n",
       " 'lgbmclassifier__max_depth': 12,\n",
       " 'lgbmclassifier__min_child_weight': 3,\n",
       " 'lgbmclassifier__n_estimators': 600,\n",
       " 'lgbmclassifier__reg_alpha': 1,\n",
       " 'lgbmclassifier__reg_lambda': 5,\n",
       " 'lgbmclassifier__subsample': 0.4}"
      ]
     },
     "execution_count": 157,
     "metadata": {
      "tags": []
     },
     "output_type": "execute_result"
    }
   ],
   "source": [
    "grid_imba_lgbm.best_params_"
   ]
  },
  {
   "cell_type": "code",
   "execution_count": null,
   "metadata": {
    "colab": {
     "base_uri": "https://localhost:8080/"
    },
    "id": "YuaZUsDq3yTC",
    "outputId": "2c05c9b6-3e94-4d12-91c2-a89a49eec41b"
   },
   "outputs": [
    {
     "name": "stderr",
     "output_type": "stream",
     "text": [
      "/usr/local/lib/python3.6/dist-packages/sklearn/utils/deprecation.py:87: FutureWarning: Function safe_indexing is deprecated; safe_indexing is deprecated in version 0.22 and will be removed in version 0.24.\n",
      "  warnings.warn(msg, category=FutureWarning)\n"
     ]
    },
    {
     "data": {
      "text/plain": [
       "Pipeline(memory=None,\n",
       "         steps=[('smote',\n",
       "                 SMOTE(k_neighbors=5, kind='deprecated',\n",
       "                       m_neighbors='deprecated', n_jobs=1,\n",
       "                       out_step='deprecated', random_state=1, ratio=None,\n",
       "                       sampling_strategy='auto', svm_estimator='deprecated')),\n",
       "                ('lgbmclassifier',\n",
       "                 LGBMClassifier(boosting_type='gbdt', class_weight=None,\n",
       "                                colsample_bytree=0.3, gamma=0.01,\n",
       "                                importance_type='split', learning_rate=0.5,\n",
       "                                max_depth=12, min_child_samples=20,\n",
       "                                min_child_weight=3, min_split_gain=0.0,\n",
       "                                n_estimators=600, n_jobs=-1, num_leaves=31,\n",
       "                                objective=None, random_state=None, reg_alpha=1,\n",
       "                                reg_lambda=5, silent=True, subsample=0.4,\n",
       "                                subsample_for_bin=200000, subsample_freq=0))],\n",
       "         verbose=False)"
      ]
     },
     "execution_count": 224,
     "metadata": {
      "tags": []
     },
     "output_type": "execute_result"
    }
   ],
   "source": [
    "smote_lgbm = make_pipeline(SMOTE(random_state=1), \n",
    "                              LGBMClassifier(colsample_bytree= 0.3,gamma = 0.01,learning_rate = 0.5,max_depth = 12,\n",
    "                                            min_child_weight = 3,n_estimators = 600,reg_alpha =1,reg_lambda = 5,\n",
    "                                            subsample = 0.4))\n",
    "smote_lgbm.fit(X_train,y_train)"
   ]
  },
  {
   "cell_type": "markdown",
   "metadata": {},
   "source": [
    "### predictions on the train-set"
   ]
  },
  {
   "cell_type": "code",
   "execution_count": null,
   "metadata": {
    "id": "mhEXkHjN4RjM"
   },
   "outputs": [],
   "source": [
    "s_lgbm_train_pred = smote_lgbm.predict(X_train.values)"
   ]
  },
  {
   "cell_type": "markdown",
   "metadata": {},
   "source": [
    "### Classification report at default threshold (0.5)"
   ]
  },
  {
   "cell_type": "code",
   "execution_count": null,
   "metadata": {
    "colab": {
     "base_uri": "https://localhost:8080/",
     "height": 173
    },
    "id": "vokw-7Ox4fz0",
    "outputId": "1dd4e13c-5e79-455c-f688-a6228b4b8c6f"
   },
   "outputs": [
    {
     "data": {
      "text/html": [
       "<div>\n",
       "<style scoped>\n",
       "    .dataframe tbody tr th:only-of-type {\n",
       "        vertical-align: middle;\n",
       "    }\n",
       "\n",
       "    .dataframe tbody tr th {\n",
       "        vertical-align: top;\n",
       "    }\n",
       "\n",
       "    .dataframe thead th {\n",
       "        text-align: right;\n",
       "    }\n",
       "</style>\n",
       "<table border=\"1\" class=\"dataframe\">\n",
       "  <thead>\n",
       "    <tr style=\"text-align: right;\">\n",
       "      <th></th>\n",
       "      <th>0</th>\n",
       "      <th>1</th>\n",
       "      <th>accuracy</th>\n",
       "      <th>macro avg</th>\n",
       "      <th>weighted avg</th>\n",
       "    </tr>\n",
       "  </thead>\n",
       "  <tbody>\n",
       "    <tr>\n",
       "      <th>precision</th>\n",
       "      <td>1.0</td>\n",
       "      <td>1.0</td>\n",
       "      <td>1.0</td>\n",
       "      <td>1.0</td>\n",
       "      <td>1.0</td>\n",
       "    </tr>\n",
       "    <tr>\n",
       "      <th>recall</th>\n",
       "      <td>1.0</td>\n",
       "      <td>1.0</td>\n",
       "      <td>1.0</td>\n",
       "      <td>1.0</td>\n",
       "      <td>1.0</td>\n",
       "    </tr>\n",
       "    <tr>\n",
       "      <th>f1-score</th>\n",
       "      <td>1.0</td>\n",
       "      <td>1.0</td>\n",
       "      <td>1.0</td>\n",
       "      <td>1.0</td>\n",
       "      <td>1.0</td>\n",
       "    </tr>\n",
       "    <tr>\n",
       "      <th>support</th>\n",
       "      <td>213236.0</td>\n",
       "      <td>369.0</td>\n",
       "      <td>1.0</td>\n",
       "      <td>213605.0</td>\n",
       "      <td>213605.0</td>\n",
       "    </tr>\n",
       "  </tbody>\n",
       "</table>\n",
       "</div>"
      ],
      "text/plain": [
       "                  0      1  accuracy  macro avg  weighted avg\n",
       "precision       1.0    1.0       1.0        1.0           1.0\n",
       "recall          1.0    1.0       1.0        1.0           1.0\n",
       "f1-score        1.0    1.0       1.0        1.0           1.0\n",
       "support    213236.0  369.0       1.0   213605.0      213605.0"
      ]
     },
     "execution_count": 254,
     "metadata": {
      "tags": []
     },
     "output_type": "execute_result"
    }
   ],
   "source": [
    "pd.DataFrame(classification_report(y_train,s_lgbm_train_pred, output_dict= True ))"
   ]
  },
  {
   "cell_type": "markdown",
   "metadata": {},
   "source": [
    "# `Choosing the best model`"
   ]
  },
  {
   "cell_type": "code",
   "execution_count": null,
   "metadata": {
    "id": "pB4C85ABP6MO"
   },
   "outputs": [],
   "source": [
    "def draw_roc( actual, probs ):\n",
    "    fpr, tpr, thresholds = roc_curve( actual, probs,\n",
    "                                              drop_intermediate = False )\n",
    "    auc_score = roc_auc_score( actual, probs )\n",
    "    plt.figure(figsize=(5, 5))\n",
    "    plt.plot( fpr, tpr, label='ROC curve (area = %0.2f)' % auc_score )\n",
    "    plt.plot([0, 1], [0, 1], 'k--')\n",
    "    plt.xlim([0.0, 1.0])\n",
    "    plt.ylim([0.0, 1.05])\n",
    "    plt.xlabel('False Positive Rate or [1 - True Negative Rate]')\n",
    "    plt.ylabel('True Positive Rate')\n",
    "    plt.title('Receiver operating characteristic curve')\n",
    "    plt.legend(loc=\"lower right\")\n",
    "    plt.show()\n",
    "\n",
    "    return None"
   ]
  },
  {
   "cell_type": "code",
   "execution_count": null,
   "metadata": {
    "id": "vOJxzXjJSJF0"
   },
   "outputs": [],
   "source": [
    "classifiers = [dt_entrophy,rf1,xgb_model,lgbm_model]\n",
    "\n",
    "# Define a result table as a DataFrame\n",
    "result_table = pd.DataFrame(columns=['classifiers', 'fpr','tpr','train_auc'])\n",
    "\n",
    "# Train the models and record the results\n",
    "for cls in classifiers:\n",
    "    yproba = cls.predict_proba(X_train)[::,1]\n",
    "    fpr, tpr, _ = roc_curve(y_train,  yproba)\n",
    "    auc = roc_auc_score(y_train, yproba)\n",
    "    \n",
    "    result_table = result_table.append({'classifiers':cls.__class__.__name__,\n",
    "                                        'fpr':fpr, \n",
    "                                        'tpr':tpr, \n",
    "                                        'train_auc':auc}, ignore_index=True)\n",
    "\n",
    "# Set name of the classifiers as index labels\n",
    "result_table.set_index('classifiers', inplace=True)"
   ]
  },
  {
   "cell_type": "markdown",
   "metadata": {},
   "source": [
    "# `ROC CURVE OF ALL FOUR MODELS - USING CLASS WEIGHTS`"
   ]
  },
  {
   "cell_type": "code",
   "execution_count": null,
   "metadata": {
    "colab": {
     "base_uri": "https://localhost:8080/",
     "height": 428
    },
    "id": "hv-erlIaUC27",
    "outputId": "3d7792cf-7b4e-4a5f-cb9d-9f3a1343e9c7"
   },
   "outputs": [
    {
     "data": {
      "text/plain": [
       "<matplotlib.legend.Legend at 0x7ff1a67d4d30>"
      ]
     },
     "execution_count": 234,
     "metadata": {
      "tags": []
     },
     "output_type": "execute_result"
    },
    {
     "data": {
      "image/png": "[encoded data removed]",
      "text/plain": [
       "<Figure size 576x432 with 1 Axes>"
      ]
     },
     "metadata": {
      "tags": []
     },
     "output_type": "display_data"
    }
   ],
   "source": [
    "fig = plt.figure(figsize=(8,6))\n",
    "\n",
    "\n",
    "for i in result_table.index:\n",
    "    plt.plot(result_table.loc[i]['fpr'], \n",
    "             result_table.loc[i]['tpr'], \n",
    "             label=\"{}, AUC={:.6f}\".format(i, result_table.loc[i]['train_auc']))\n",
    "    \n",
    "plt.plot([0,1], [0,1], color='orange', linestyle='--')\n",
    "\n",
    "plt.xticks(np.arange(0.0, 1.1, step=0.1))\n",
    "plt.xlabel(\"False Positive Rate\", fontsize=15)\n",
    "\n",
    "plt.yticks(np.arange(0.0, 1.1, step=0.1))\n",
    "plt.ylabel(\"True Positive Rate\", fontsize=15)\n",
    "\n",
    "plt.title('ROC Curve Analysis- BALANCING USING CLASS WEIGHTS', fontweight='bold', fontsize=15)\n",
    "plt.legend(prop={'size':13}, loc='lower right')\n",
    "\n"
   ]
  },
  {
   "cell_type": "markdown",
   "metadata": {},
   "source": [
    "## The below dataframe shows 4 things:\n",
    "## a) Avg_diff_recall: The difference between the mean recall score of train and validation set (at threshold 0.5)\n",
    "## b) Avg_diff_f1 (at threshold 0.5): The difference between the mean f1 score of train and validation set \n",
    "## c) Avg_auc_diff : The difference between the mean auc score of train and validation set\n",
    "## d) Avg_std_val_recall : The STANDARD DEVIATION OF THE CROSS VALIDATION RECALL WHICH WILL TELL YOU IF THE MODEL IS A HIGH VARIANCE MODEL"
   ]
  },
  {
   "cell_type": "code",
   "execution_count": null,
   "metadata": {
    "colab": {
     "base_uri": "https://localhost:8080/",
     "height": 227
    },
    "id": "_dZ5HtZLcP0M",
    "outputId": "d8e6c865-755f-4054-d094-acbcaf330914"
   },
   "outputs": [
    {
     "name": "stderr",
     "output_type": "stream",
     "text": [
      "/usr/local/lib/python3.6/dist-packages/joblib/externals/loky/process_executor.py:691: UserWarning: A worker stopped while some jobs were given to the executor. This can be caused by a too short worker timeout or by a memory leak.\n",
      "  \"timeout or by a memory leak.\", UserWarning\n"
     ]
    },
    {
     "data": {
      "text/html": [
       "<div>\n",
       "<style scoped>\n",
       "    .dataframe tbody tr th:only-of-type {\n",
       "        vertical-align: middle;\n",
       "    }\n",
       "\n",
       "    .dataframe tbody tr th {\n",
       "        vertical-align: top;\n",
       "    }\n",
       "\n",
       "    .dataframe thead th {\n",
       "        text-align: right;\n",
       "    }\n",
       "</style>\n",
       "<table border=\"1\" class=\"dataframe\">\n",
       "  <thead>\n",
       "    <tr style=\"text-align: right;\">\n",
       "      <th></th>\n",
       "      <th>Avg_Diff_recall</th>\n",
       "      <th>Avg_Diff_f1</th>\n",
       "      <th>Avg_Auc_diff</th>\n",
       "      <th>Avg_Std_Val_recall</th>\n",
       "    </tr>\n",
       "  </thead>\n",
       "  <tbody>\n",
       "    <tr>\n",
       "      <th>DecisionTreeClassifier</th>\n",
       "      <td>0.0759525</td>\n",
       "      <td>0.00231098</td>\n",
       "      <td>0.0390331</td>\n",
       "      <td>0.0337086</td>\n",
       "    </tr>\n",
       "    <tr>\n",
       "      <th>RandomForestClassifier</th>\n",
       "      <td>0.0338109</td>\n",
       "      <td>0.00707522</td>\n",
       "      <td>0.0264392</td>\n",
       "      <td>0.0220675</td>\n",
       "    </tr>\n",
       "    <tr>\n",
       "      <th>XGBClassifier</th>\n",
       "      <td>0.0376913</td>\n",
       "      <td>0.040685</td>\n",
       "      <td>0.0306903</td>\n",
       "      <td>0.0674173</td>\n",
       "    </tr>\n",
       "    <tr>\n",
       "      <th>LGBMClassifier</th>\n",
       "      <td>0.324324</td>\n",
       "      <td>0.278417</td>\n",
       "      <td>0.0579239</td>\n",
       "      <td>0.0583851</td>\n",
       "    </tr>\n",
       "  </tbody>\n",
       "</table>\n",
       "</div>"
      ],
      "text/plain": [
       "                       Avg_Diff_recall  ... Avg_Std_Val_recall\n",
       "DecisionTreeClassifier       0.0759525  ...          0.0337086\n",
       "RandomForestClassifier       0.0338109  ...          0.0220675\n",
       "XGBClassifier                0.0376913  ...          0.0674173\n",
       "LGBMClassifier                0.324324  ...          0.0583851\n",
       "\n",
       "[4 rows x 4 columns]"
      ]
     },
     "execution_count": 245,
     "metadata": {
      "tags": []
     },
     "output_type": "execute_result"
    }
   ],
   "source": [
    "result_frame_1 = pd.DataFrame(columns = ['Avg_Diff_recall','Avg_Diff_f1','Avg_Auc_diff','Avg_Std_Val_recall'])\n",
    "\n",
    "for clf in classifiers:\n",
    "    temp = cross_validate(clf,X = X_train.values, y = y_train.values,cv = cv , n_jobs = -1,return_train_score= True,scoring = scores)\n",
    "    diff_recall = abs(temp['train_recall'].mean() - temp['test_recall'].mean())\n",
    "    diff_f1 = abs(temp['train_f1'].mean() - temp['test_f1'].mean())\n",
    "    auc_diff = abs(temp['train_roc_auc'].mean() - temp['test_roc_auc'].mean())\n",
    "    val_std = temp['test_recall'].std()\n",
    "    result_frame_1.loc[clf.__class__.__name__,:] = [diff_recall,diff_f1,auc_diff,val_std]\n",
    "\n",
    "result_frame_1"
   ]
  },
  {
   "cell_type": "code",
   "execution_count": null,
   "metadata": {
    "id": "og8f9fRoWcyQ"
   },
   "outputs": [],
   "source": [
    "classifiers_2 = [smote_dt,smote_rf,smote_xgb,smote_lgbm]\n",
    "\n",
    "\n",
    "# Define a result table as a DataFrame\n",
    "result_table_2 = pd.DataFrame(columns=['classifiers', 'fpr','tpr','auc'])\n",
    "\n",
    "# Train the models and record the results\n",
    "for cls in classifiers_2:\n",
    "    yproba = cls.predict_proba(X_train.values)[::,1]\n",
    "    \n",
    "    fpr, tpr, _ = roc_curve(y_train,  yproba)\n",
    "    auc = roc_auc_score(y_train, yproba)\n",
    "    \n",
    "    result_table_2 = result_table_2.append({'classifiers':'Smote_' + list(cls.named_steps.keys())[1],\n",
    "                                        'fpr':fpr, \n",
    "                                        'tpr':tpr, \n",
    "                                        'auc':auc}, ignore_index=True)\n",
    "\n",
    "# Set name of the classifiers as index labels\n",
    "result_table_2.set_index('classifiers', inplace=True)\n"
   ]
  },
  {
   "cell_type": "markdown",
   "metadata": {},
   "source": [
    "# ROC CURVE OF ALL FOUR MODELS - USING SMOTE"
   ]
  },
  {
   "cell_type": "code",
   "execution_count": null,
   "metadata": {
    "colab": {
     "base_uri": "https://localhost:8080/",
     "height": 411
    },
    "id": "xvjPUsq7Zp8V",
    "outputId": "af35b7fa-ec14-42fc-bd3c-69cd5ca0a73e"
   },
   "outputs": [
    {
     "data": {
      "image/png": "[encoded data removed]",
      "text/plain": [
       "<Figure size 576x432 with 1 Axes>"
      ]
     },
     "metadata": {
      "tags": []
     },
     "output_type": "display_data"
    }
   ],
   "source": [
    "fig = plt.figure(figsize=(8,6))\n",
    "\n",
    "for i in result_table_2.index:\n",
    "    plt.plot(result_table_2.loc[i]['fpr'], \n",
    "             result_table_2.loc[i]['tpr'], \n",
    "             label=\"{}, AUC={:.6f}\".format(i, result_table_2.loc[i]['auc']))\n",
    "    \n",
    "plt.plot([0,1], [0,1], color='orange', linestyle='--')\n",
    "\n",
    "plt.xticks(np.arange(0.0, 1.1, step=0.1))\n",
    "plt.xlabel(\"False Positive Rate\", fontsize=15)\n",
    "\n",
    "plt.yticks(np.arange(0.0, 1.1, step=0.1))\n",
    "plt.ylabel(\"True Positive Rate\", fontsize=15)\n",
    "\n",
    "plt.title('ROC Curve Analysis- BALANCING USING SMOTE', fontweight='bold', fontsize=15)\n",
    "plt.legend(prop={'size':13}, loc='lower right')\n",
    "\n",
    "plt.show()"
   ]
  },
  {
   "cell_type": "code",
   "execution_count": null,
   "metadata": {
    "colab": {
     "base_uri": "https://localhost:8080/",
     "height": 173
    },
    "id": "AwwT9aBh86R4",
    "outputId": "72fa4c98-0d5b-41f8-9563-a85699112073"
   },
   "outputs": [
    {
     "data": {
      "text/html": [
       "<div>\n",
       "<style scoped>\n",
       "    .dataframe tbody tr th:only-of-type {\n",
       "        vertical-align: middle;\n",
       "    }\n",
       "\n",
       "    .dataframe tbody tr th {\n",
       "        vertical-align: top;\n",
       "    }\n",
       "\n",
       "    .dataframe thead th {\n",
       "        text-align: right;\n",
       "    }\n",
       "</style>\n",
       "<table border=\"1\" class=\"dataframe\">\n",
       "  <thead>\n",
       "    <tr style=\"text-align: right;\">\n",
       "      <th></th>\n",
       "      <th>Avg_Diff_recall</th>\n",
       "      <th>Avg_Diff_f1</th>\n",
       "      <th>Avg_Auc_diff</th>\n",
       "      <th>Avg_Std_Val_recall</th>\n",
       "    </tr>\n",
       "  </thead>\n",
       "  <tbody>\n",
       "    <tr>\n",
       "      <th>decisiontreeclassifier</th>\n",
       "      <td>0.00871052</td>\n",
       "      <td>0.00368946</td>\n",
       "      <td>0.0103489</td>\n",
       "      <td>0.0220675</td>\n",
       "    </tr>\n",
       "    <tr>\n",
       "      <th>randomforestclassifier</th>\n",
       "      <td>0.0177738</td>\n",
       "      <td>0.00224607</td>\n",
       "      <td>0.0174409</td>\n",
       "      <td>0.0127407</td>\n",
       "    </tr>\n",
       "    <tr>\n",
       "      <th>xgbclassifier</th>\n",
       "      <td>0.153153</td>\n",
       "      <td>0.117282</td>\n",
       "      <td>0.0275357</td>\n",
       "      <td>0.0459371</td>\n",
       "    </tr>\n",
       "    <tr>\n",
       "      <th>lgbmclassifier</th>\n",
       "      <td>0.162162</td>\n",
       "      <td>0.142405</td>\n",
       "      <td>0.0317373</td>\n",
       "      <td>0.044135</td>\n",
       "    </tr>\n",
       "  </tbody>\n",
       "</table>\n",
       "</div>"
      ],
      "text/plain": [
       "                       Avg_Diff_recall  ... Avg_Std_Val_recall\n",
       "decisiontreeclassifier      0.00871052  ...          0.0220675\n",
       "randomforestclassifier       0.0177738  ...          0.0127407\n",
       "xgbclassifier                 0.153153  ...          0.0459371\n",
       "lgbmclassifier                0.162162  ...           0.044135\n",
       "\n",
       "[4 rows x 4 columns]"
      ]
     },
     "execution_count": 255,
     "metadata": {
      "tags": []
     },
     "output_type": "execute_result"
    }
   ],
   "source": [
    "result_frame_2 = pd.DataFrame(columns = ['Avg_Diff_recall','Avg_Diff_f1','Avg_Auc_diff','Avg_Std_Val_recall'])\n",
    "\n",
    "for clf in classifiers_2:\n",
    "    temp = cross_validate(clf,X = X_train.values, y = y_train.values,cv = cv , n_jobs = -1,return_train_score= True,scoring = scores)\n",
    "    diff_recall = abs(temp['train_recall'].mean() - temp['test_recall'].mean())\n",
    "    diff_f1 = abs(temp['train_f1'].mean() - temp['test_f1'].mean())\n",
    "    auc_diff = abs(temp['train_roc_auc'].mean() - temp['test_roc_auc'].mean())\n",
    "    val_std = temp['test_recall'].std()\n",
    "    result_frame_2.loc[list(clf.named_steps.keys())[1],:] = [diff_recall,diff_f1,auc_diff,val_std]\n",
    "\n",
    "result_frame_2"
   ]
  },
  {
   "cell_type": "markdown",
   "metadata": {},
   "source": [
    "## `Based on the following factors Random Forest built using class_weight technique is selected as the final model for reporting`\n",
    "#### a) Low standard deviation of validation recall\n",
    "#### b) Lowest auc difference for train and validation set compared to other models. Which tells us that the model may have achieved a good balance of bias and variance\n",
    "#### c) Xgboost and Lightgbm whose recall seem to fluctuate a lot with unseen dataset and also the difference between train and validation auc is huge for these models. This is not the case with Random Forest\n",
    "#### d) A very good AUC of 99.73 on train data\n",
    "#### e) This model may output good results on unseen data as the comparision of train and validation metrics indicate that the results are very close. But,there may be uncertainity in predictions when Xgboost is used on unseen data. The results may not be stable\n"
   ]
  },
  {
   "cell_type": "markdown",
   "metadata": {},
   "source": [
    "## `Probability prediction of RANDOM FOREST USING CLASS WEIGHT MODEL`"
   ]
  },
  {
   "cell_type": "code",
   "execution_count": 241,
   "metadata": {},
   "outputs": [],
   "source": [
    "rf_t_pred = pd.Series(rf1.predict_proba(X_train)[:,1])"
   ]
  },
  {
   "cell_type": "markdown",
   "metadata": {},
   "source": [
    "### For banks having a larger transaction value, if the recall is low, i.e., it is unable to detect transactions that are labelled as non-fraudulent. So consider the losses if the missed transaction was a high-value fraudulent one, for e.g., a transaction of DOLLAR 10,000?\n",
    "\n",
    "## `So here, to save banks from high-value fraudulent transactions, we have to focus on a high recall in order to detect actual fraudulent transactions.`"
   ]
  },
  {
   "cell_type": "markdown",
   "metadata": {},
   "source": [
    "## `Also , the optimum threshold point is where TPR is highest and FPR is the lowest. TPR is nothing but Sensitivity and (1-FPR) is nothing but Specificity. SO, the optimum point is where the two curves meet in THE SENSITIVITY AND SPECIFICITY TRADEOFF CURVE`"
   ]
  },
  {
   "cell_type": "code",
   "execution_count": 242,
   "metadata": {},
   "outputs": [
    {
     "data": {
      "text/html": [
       "<div>\n",
       "<style scoped>\n",
       "    .dataframe tbody tr th:only-of-type {\n",
       "        vertical-align: middle;\n",
       "    }\n",
       "\n",
       "    .dataframe tbody tr th {\n",
       "        vertical-align: top;\n",
       "    }\n",
       "\n",
       "    .dataframe thead th {\n",
       "        text-align: right;\n",
       "    }\n",
       "</style>\n",
       "<table border=\"1\" class=\"dataframe\">\n",
       "  <thead>\n",
       "    <tr style=\"text-align: right;\">\n",
       "      <th></th>\n",
       "      <th>0.0</th>\n",
       "      <th>0.1</th>\n",
       "      <th>0.2</th>\n",
       "      <th>0.3</th>\n",
       "      <th>0.4</th>\n",
       "      <th>0.5</th>\n",
       "      <th>0.6</th>\n",
       "      <th>0.7</th>\n",
       "      <th>0.8</th>\n",
       "      <th>0.9</th>\n",
       "    </tr>\n",
       "  </thead>\n",
       "  <tbody>\n",
       "    <tr>\n",
       "      <th>0</th>\n",
       "      <td>1</td>\n",
       "      <td>0</td>\n",
       "      <td>0</td>\n",
       "      <td>0</td>\n",
       "      <td>0</td>\n",
       "      <td>0</td>\n",
       "      <td>0</td>\n",
       "      <td>0</td>\n",
       "      <td>0</td>\n",
       "      <td>0</td>\n",
       "    </tr>\n",
       "    <tr>\n",
       "      <th>1</th>\n",
       "      <td>1</td>\n",
       "      <td>0</td>\n",
       "      <td>0</td>\n",
       "      <td>0</td>\n",
       "      <td>0</td>\n",
       "      <td>0</td>\n",
       "      <td>0</td>\n",
       "      <td>0</td>\n",
       "      <td>0</td>\n",
       "      <td>0</td>\n",
       "    </tr>\n",
       "    <tr>\n",
       "      <th>2</th>\n",
       "      <td>1</td>\n",
       "      <td>0</td>\n",
       "      <td>0</td>\n",
       "      <td>0</td>\n",
       "      <td>0</td>\n",
       "      <td>0</td>\n",
       "      <td>0</td>\n",
       "      <td>0</td>\n",
       "      <td>0</td>\n",
       "      <td>0</td>\n",
       "    </tr>\n",
       "    <tr>\n",
       "      <th>3</th>\n",
       "      <td>1</td>\n",
       "      <td>0</td>\n",
       "      <td>0</td>\n",
       "      <td>0</td>\n",
       "      <td>0</td>\n",
       "      <td>0</td>\n",
       "      <td>0</td>\n",
       "      <td>0</td>\n",
       "      <td>0</td>\n",
       "      <td>0</td>\n",
       "    </tr>\n",
       "    <tr>\n",
       "      <th>4</th>\n",
       "      <td>1</td>\n",
       "      <td>0</td>\n",
       "      <td>0</td>\n",
       "      <td>0</td>\n",
       "      <td>0</td>\n",
       "      <td>0</td>\n",
       "      <td>0</td>\n",
       "      <td>0</td>\n",
       "      <td>0</td>\n",
       "      <td>0</td>\n",
       "    </tr>\n",
       "    <tr>\n",
       "      <th>...</th>\n",
       "      <td>...</td>\n",
       "      <td>...</td>\n",
       "      <td>...</td>\n",
       "      <td>...</td>\n",
       "      <td>...</td>\n",
       "      <td>...</td>\n",
       "      <td>...</td>\n",
       "      <td>...</td>\n",
       "      <td>...</td>\n",
       "      <td>...</td>\n",
       "    </tr>\n",
       "    <tr>\n",
       "      <th>213600</th>\n",
       "      <td>1</td>\n",
       "      <td>0</td>\n",
       "      <td>0</td>\n",
       "      <td>0</td>\n",
       "      <td>0</td>\n",
       "      <td>0</td>\n",
       "      <td>0</td>\n",
       "      <td>0</td>\n",
       "      <td>0</td>\n",
       "      <td>0</td>\n",
       "    </tr>\n",
       "    <tr>\n",
       "      <th>213601</th>\n",
       "      <td>1</td>\n",
       "      <td>1</td>\n",
       "      <td>1</td>\n",
       "      <td>0</td>\n",
       "      <td>0</td>\n",
       "      <td>0</td>\n",
       "      <td>0</td>\n",
       "      <td>0</td>\n",
       "      <td>0</td>\n",
       "      <td>0</td>\n",
       "    </tr>\n",
       "    <tr>\n",
       "      <th>213602</th>\n",
       "      <td>1</td>\n",
       "      <td>0</td>\n",
       "      <td>0</td>\n",
       "      <td>0</td>\n",
       "      <td>0</td>\n",
       "      <td>0</td>\n",
       "      <td>0</td>\n",
       "      <td>0</td>\n",
       "      <td>0</td>\n",
       "      <td>0</td>\n",
       "    </tr>\n",
       "    <tr>\n",
       "      <th>213603</th>\n",
       "      <td>1</td>\n",
       "      <td>0</td>\n",
       "      <td>0</td>\n",
       "      <td>0</td>\n",
       "      <td>0</td>\n",
       "      <td>0</td>\n",
       "      <td>0</td>\n",
       "      <td>0</td>\n",
       "      <td>0</td>\n",
       "      <td>0</td>\n",
       "    </tr>\n",
       "    <tr>\n",
       "      <th>213604</th>\n",
       "      <td>1</td>\n",
       "      <td>0</td>\n",
       "      <td>0</td>\n",
       "      <td>0</td>\n",
       "      <td>0</td>\n",
       "      <td>0</td>\n",
       "      <td>0</td>\n",
       "      <td>0</td>\n",
       "      <td>0</td>\n",
       "      <td>0</td>\n",
       "    </tr>\n",
       "  </tbody>\n",
       "</table>\n",
       "<p>213605 rows × 10 columns</p>\n",
       "</div>"
      ],
      "text/plain": [
       "        0.0  0.1  0.2  0.3  0.4  0.5  0.6  0.7  0.8  0.9\n",
       "0         1    0    0    0    0    0    0    0    0    0\n",
       "1         1    0    0    0    0    0    0    0    0    0\n",
       "2         1    0    0    0    0    0    0    0    0    0\n",
       "3         1    0    0    0    0    0    0    0    0    0\n",
       "4         1    0    0    0    0    0    0    0    0    0\n",
       "...     ...  ...  ...  ...  ...  ...  ...  ...  ...  ...\n",
       "213600    1    0    0    0    0    0    0    0    0    0\n",
       "213601    1    1    1    0    0    0    0    0    0    0\n",
       "213602    1    0    0    0    0    0    0    0    0    0\n",
       "213603    1    0    0    0    0    0    0    0    0    0\n",
       "213604    1    0    0    0    0    0    0    0    0    0\n",
       "\n",
       "[213605 rows x 10 columns]"
      ]
     },
     "execution_count": 242,
     "metadata": {},
     "output_type": "execute_result"
    }
   ],
   "source": [
    "numbers = [float(x)/10 for x in range(10)] \n",
    "cut = pd.DataFrame()# 0.1 to 0.10\n",
    "for i in numbers:\n",
    "    cut[i]= rf_t_pred.map(lambda x: 1 if x > i else 0)\n",
    "cut"
   ]
  },
  {
   "cell_type": "code",
   "execution_count": 243,
   "metadata": {},
   "outputs": [
    {
     "data": {
      "text/html": [
       "<div>\n",
       "<style scoped>\n",
       "    .dataframe tbody tr th:only-of-type {\n",
       "        vertical-align: middle;\n",
       "    }\n",
       "\n",
       "    .dataframe tbody tr th {\n",
       "        vertical-align: top;\n",
       "    }\n",
       "\n",
       "    .dataframe thead th {\n",
       "        text-align: right;\n",
       "    }\n",
       "</style>\n",
       "<table border=\"1\" class=\"dataframe\">\n",
       "  <thead>\n",
       "    <tr style=\"text-align: right;\">\n",
       "      <th></th>\n",
       "      <th>prob</th>\n",
       "      <th>accuracy</th>\n",
       "      <th>sensitivity</th>\n",
       "      <th>specificity</th>\n",
       "    </tr>\n",
       "  </thead>\n",
       "  <tbody>\n",
       "    <tr>\n",
       "      <th>0.0</th>\n",
       "      <td>0.0</td>\n",
       "      <td>0.020622</td>\n",
       "      <td>1.000000</td>\n",
       "      <td>0.018927</td>\n",
       "    </tr>\n",
       "    <tr>\n",
       "      <th>0.1</th>\n",
       "      <td>0.1</td>\n",
       "      <td>0.726622</td>\n",
       "      <td>1.000000</td>\n",
       "      <td>0.726148</td>\n",
       "    </tr>\n",
       "    <tr>\n",
       "      <th>0.2</th>\n",
       "      <td>0.2</td>\n",
       "      <td>0.886192</td>\n",
       "      <td>1.000000</td>\n",
       "      <td>0.885995</td>\n",
       "    </tr>\n",
       "    <tr>\n",
       "      <th>0.3</th>\n",
       "      <td>0.3</td>\n",
       "      <td>0.948508</td>\n",
       "      <td>0.997290</td>\n",
       "      <td>0.948423</td>\n",
       "    </tr>\n",
       "    <tr>\n",
       "      <th>0.4</th>\n",
       "      <td>0.4</td>\n",
       "      <td>0.975174</td>\n",
       "      <td>0.962060</td>\n",
       "      <td>0.975196</td>\n",
       "    </tr>\n",
       "    <tr>\n",
       "      <th>0.5</th>\n",
       "      <td>0.5</td>\n",
       "      <td>0.987425</td>\n",
       "      <td>0.915989</td>\n",
       "      <td>0.987549</td>\n",
       "    </tr>\n",
       "    <tr>\n",
       "      <th>0.6</th>\n",
       "      <td>0.6</td>\n",
       "      <td>0.994209</td>\n",
       "      <td>0.883469</td>\n",
       "      <td>0.994401</td>\n",
       "    </tr>\n",
       "    <tr>\n",
       "      <th>0.7</th>\n",
       "      <td>0.7</td>\n",
       "      <td>0.998418</td>\n",
       "      <td>0.853659</td>\n",
       "      <td>0.998668</td>\n",
       "    </tr>\n",
       "    <tr>\n",
       "      <th>0.8</th>\n",
       "      <td>0.8</td>\n",
       "      <td>0.999237</td>\n",
       "      <td>0.823848</td>\n",
       "      <td>0.999540</td>\n",
       "    </tr>\n",
       "    <tr>\n",
       "      <th>0.9</th>\n",
       "      <td>0.9</td>\n",
       "      <td>0.999363</td>\n",
       "      <td>0.756098</td>\n",
       "      <td>0.999784</td>\n",
       "    </tr>\n",
       "  </tbody>\n",
       "</table>\n",
       "</div>"
      ],
      "text/plain": [
       "     prob  accuracy  sensitivity  specificity\n",
       "0.0   0.0  0.020622     1.000000     0.018927\n",
       "0.1   0.1  0.726622     1.000000     0.726148\n",
       "0.2   0.2  0.886192     1.000000     0.885995\n",
       "0.3   0.3  0.948508     0.997290     0.948423\n",
       "0.4   0.4  0.975174     0.962060     0.975196\n",
       "0.5   0.5  0.987425     0.915989     0.987549\n",
       "0.6   0.6  0.994209     0.883469     0.994401\n",
       "0.7   0.7  0.998418     0.853659     0.998668\n",
       "0.8   0.8  0.999237     0.823848     0.999540\n",
       "0.9   0.9  0.999363     0.756098     0.999784"
      ]
     },
     "execution_count": 243,
     "metadata": {},
     "output_type": "execute_result"
    }
   ],
   "source": [
    "cutoff_df = pd.DataFrame( columns = ['prob','accuracy','sensitivity','specificity'])\n",
    "from sklearn.metrics import confusion_matrix\n",
    "\n",
    "num = [float(x)/10 for x in range(10)]\n",
    "for i in num:\n",
    "    cm = confusion_matrix(y_train, cut[i] )\n",
    "    total =sum(sum(cm))\n",
    "    accuracy = (cm[0,0]+cm[1,1])/total\n",
    "    \n",
    "    specificity = cm[0,0]/(cm[0,0]+cm[0,1])\n",
    "    sensitivity = cm[1,1]/(cm[1,0]+cm[1,1])\n",
    "    cutoff_df.loc[i] =[ i ,accuracy,sensitivity,specificity]\n",
    "cutoff_df"
   ]
  },
  {
   "cell_type": "markdown",
   "metadata": {},
   "source": [
    "### Choosing the best cut-off value using SENSITIVITY AND SPECIFICITY TRADEOFF"
   ]
  },
  {
   "cell_type": "code",
   "execution_count": 244,
   "metadata": {},
   "outputs": [
    {
     "data": {
      "image/png": "[encoded data removed]",
      "text/plain": [
       "<Figure size 720x576 with 1 Axes>"
      ]
     },
     "metadata": {
      "needs_background": "light"
     },
     "output_type": "display_data"
    }
   ],
   "source": [
    "cutoff_df.plot.line(x='prob', y=['sensitivity','specificity'], figsize = (10,8))\n",
    "plt.vlines(x=0.38, ymax=1, ymin=0, colors=\"k\", linestyles=\"--\")\n",
    "plt.hlines(y = 0.97,xmax=1, xmin=0, colors=\"k\", linestyles=\"--\")\n",
    "plt.suptitle('Plot showing optimal cut-off point based on Sensitivity-specificity tradeoff' , size = 10 )\n",
    "plt.subplots_adjust(hspace= 0.5)"
   ]
  },
  {
   "cell_type": "markdown",
   "metadata": {},
   "source": [
    "### So, we can see that 0.38 is the optimum cutoff point. Lets use this and make predictions on the train data"
   ]
  },
  {
   "cell_type": "code",
   "execution_count": 245,
   "metadata": {},
   "outputs": [],
   "source": [
    "final_train_pred = rf_t_pred.map(lambda x: 1 if x > 0.38 else 0)"
   ]
  },
  {
   "cell_type": "code",
   "execution_count": 246,
   "metadata": {},
   "outputs": [],
   "source": [
    "confusion_train = confusion_matrix(y_train, final_train_pred )"
   ]
  },
  {
   "cell_type": "code",
   "execution_count": 247,
   "metadata": {},
   "outputs": [],
   "source": [
    "TP_train = confusion_train[1,1] # true positive \n",
    "TN_train = confusion_train[0,0] # true negatives\n",
    "FP_train = confusion_train[0,1] # false positives\n",
    "FN_train = confusion_train[1,0]"
   ]
  },
  {
   "cell_type": "markdown",
   "metadata": {},
   "source": [
    "### Resultts on the train-data"
   ]
  },
  {
   "cell_type": "code",
   "execution_count": 276,
   "metadata": {},
   "outputs": [
    {
     "name": "stdout",
     "output_type": "stream",
     "text": [
      "TRUE POSITIVE RATE OF THE TRAIN IS 0.96\n",
      "FALSE POSITIVE RATE OF THE TRAIN IS 0.03\n"
     ]
    }
   ],
   "source": [
    "print('TRUE POSITIVE RATE OF THE TRAIN IS '+  str(round((TP_train / float(TP_train+FN_train)),2)))\n",
    "print('FALSE POSITIVE RATE OF THE TRAIN IS '+  str(round(1 -(TN_train / float(TN_train+FP_train)),2)))"
   ]
  },
  {
   "cell_type": "markdown",
   "metadata": {},
   "source": [
    "### Predictions on the test data"
   ]
  },
  {
   "cell_type": "code",
   "execution_count": 250,
   "metadata": {},
   "outputs": [],
   "source": [
    "test_pred = pd.Series(rf1.predict_proba(X_test.values)[:,1]).map(lambda x:1 if x > 0.38 else 0)"
   ]
  },
  {
   "cell_type": "code",
   "execution_count": 251,
   "metadata": {},
   "outputs": [],
   "source": [
    "confusion_test= confusion_matrix(y_test,  test_pred)\n",
    "\n",
    "TP_test = confusion_test[1,1] # true positive \n",
    "TN_test = confusion_test[0,0] # true negatives\n",
    "FP_test = confusion_test[0,1] # false positives\n",
    "FN_test = confusion_test[1,0]"
   ]
  },
  {
   "cell_type": "markdown",
   "metadata": {},
   "source": [
    "### Results on the test data"
   ]
  },
  {
   "cell_type": "code",
   "execution_count": 275,
   "metadata": {},
   "outputs": [
    {
     "name": "stdout",
     "output_type": "stream",
     "text": [
      "TRUE POSITIVE RATE TEST IS 0.92\n",
      "FALSE POSITIVE RATE TEST IS 0.03\n"
     ]
    }
   ],
   "source": [
    "print('TRUE POSITIVE RATE TEST IS '+  str(round((TP_test / float(TP_test+FN_test)),2)))\n",
    "print('FALSE POSITIVE RATE TEST IS '+  str(round(1 -(TN_test / float(TN_test+FP_test)),2)))"
   ]
  },
  {
   "cell_type": "markdown",
   "metadata": {},
   "source": [
    "# `So, we can verify that our model is generalizing well on the unseen data.` "
   ]
  },
  {
   "cell_type": "markdown",
   "metadata": {},
   "source": [
    "### Lets check the feature importance of our model"
   ]
  },
  {
   "cell_type": "code",
   "execution_count": 283,
   "metadata": {},
   "outputs": [
    {
     "data": {
      "text/plain": [
       "<AxesSubplot:>"
      ]
     },
     "execution_count": 283,
     "metadata": {},
     "output_type": "execute_result"
    },
    {
     "data": {
      "image/png": "[encoded data removed]",
      "text/plain": [
       "<Figure size 1440x1440 with 1 Axes>"
      ]
     },
     "metadata": {
      "needs_background": "light"
     },
     "output_type": "display_data"
    }
   ],
   "source": [
    "pd.Series(rf1.feature_importances_,index = X_train.columns).plot(kind = 'barh')"
   ]
  },
  {
   "cell_type": "code",
   "execution_count": null,
   "metadata": {},
   "outputs": [],
   "source": []
  }
 ],
 "metadata": {
  "colab": {
   "collapsed_sections": [],
   "name": "Changes.ipynb",
   "provenance": [],
   "toc_visible": true
  },
  "kernelspec": {
   "display_name": "Python 3",
   "language": "python",
   "name": "python3"
  },
  "language_info": {
   "codemirror_mode": {
    "name": "ipython",
    "version": 3
   },
   "file_extension": ".py",
   "mimetype": "text/x-python",
   "name": "python",
   "nbconvert_exporter": "python",
   "pygments_lexer": "ipython3",
   "version": "3.7.9"
  }
 },
 "nbformat": 4,
 "nbformat_minor": 1
}
