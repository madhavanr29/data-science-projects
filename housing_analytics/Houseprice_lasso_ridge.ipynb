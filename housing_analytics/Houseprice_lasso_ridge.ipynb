{
 "cells": [
  {
   "cell_type": "markdown",
   "metadata": {},
   "source": [
    "# `House-price prediction using Advanced Regression` - Madhavan Rangarajan\n"
   ]
  },
  {
   "cell_type": "markdown",
   "metadata": {},
   "source": [
    "## Importing basic libraries used for Data Manipulation and EDA"
   ]
  },
  {
   "cell_type": "code",
   "execution_count": 1,
   "metadata": {},
   "outputs": [],
   "source": [
    "import numpy as np\n",
    "import pandas as pd\n",
    "import matplotlib.pyplot as plt\n",
    "import seaborn as sns\n",
    "import copy"
   ]
  },
  {
   "cell_type": "markdown",
   "metadata": {},
   "source": [
    "## Loading our dataset and taking a look at head, shape, info of the dataframe "
   ]
  },
  {
   "cell_type": "code",
   "execution_count": 2,
   "metadata": {},
   "outputs": [
    {
     "data": {
      "text/html": [
       "<div>\n",
       "<style scoped>\n",
       "    .dataframe tbody tr th:only-of-type {\n",
       "        vertical-align: middle;\n",
       "    }\n",
       "\n",
       "    .dataframe tbody tr th {\n",
       "        vertical-align: top;\n",
       "    }\n",
       "\n",
       "    .dataframe thead th {\n",
       "        text-align: right;\n",
       "    }\n",
       "</style>\n",
       "<table border=\"1\" class=\"dataframe\">\n",
       "  <thead>\n",
       "    <tr style=\"text-align: right;\">\n",
       "      <th></th>\n",
       "      <th>Id</th>\n",
       "      <th>MSSubClass</th>\n",
       "      <th>MSZoning</th>\n",
       "      <th>LotFrontage</th>\n",
       "      <th>LotArea</th>\n",
       "      <th>Street</th>\n",
       "      <th>Alley</th>\n",
       "      <th>LotShape</th>\n",
       "      <th>LandContour</th>\n",
       "      <th>Utilities</th>\n",
       "      <th>...</th>\n",
       "      <th>PoolArea</th>\n",
       "      <th>PoolQC</th>\n",
       "      <th>Fence</th>\n",
       "      <th>MiscFeature</th>\n",
       "      <th>MiscVal</th>\n",
       "      <th>MoSold</th>\n",
       "      <th>YrSold</th>\n",
       "      <th>SaleType</th>\n",
       "      <th>SaleCondition</th>\n",
       "      <th>SalePrice</th>\n",
       "    </tr>\n",
       "  </thead>\n",
       "  <tbody>\n",
       "    <tr>\n",
       "      <th>0</th>\n",
       "      <td>1</td>\n",
       "      <td>60</td>\n",
       "      <td>RL</td>\n",
       "      <td>65.0</td>\n",
       "      <td>8450</td>\n",
       "      <td>Pave</td>\n",
       "      <td>NaN</td>\n",
       "      <td>Reg</td>\n",
       "      <td>Lvl</td>\n",
       "      <td>AllPub</td>\n",
       "      <td>...</td>\n",
       "      <td>0</td>\n",
       "      <td>NaN</td>\n",
       "      <td>NaN</td>\n",
       "      <td>NaN</td>\n",
       "      <td>0</td>\n",
       "      <td>2</td>\n",
       "      <td>2008</td>\n",
       "      <td>WD</td>\n",
       "      <td>Normal</td>\n",
       "      <td>208500</td>\n",
       "    </tr>\n",
       "    <tr>\n",
       "      <th>1</th>\n",
       "      <td>2</td>\n",
       "      <td>20</td>\n",
       "      <td>RL</td>\n",
       "      <td>80.0</td>\n",
       "      <td>9600</td>\n",
       "      <td>Pave</td>\n",
       "      <td>NaN</td>\n",
       "      <td>Reg</td>\n",
       "      <td>Lvl</td>\n",
       "      <td>AllPub</td>\n",
       "      <td>...</td>\n",
       "      <td>0</td>\n",
       "      <td>NaN</td>\n",
       "      <td>NaN</td>\n",
       "      <td>NaN</td>\n",
       "      <td>0</td>\n",
       "      <td>5</td>\n",
       "      <td>2007</td>\n",
       "      <td>WD</td>\n",
       "      <td>Normal</td>\n",
       "      <td>181500</td>\n",
       "    </tr>\n",
       "    <tr>\n",
       "      <th>2</th>\n",
       "      <td>3</td>\n",
       "      <td>60</td>\n",
       "      <td>RL</td>\n",
       "      <td>68.0</td>\n",
       "      <td>11250</td>\n",
       "      <td>Pave</td>\n",
       "      <td>NaN</td>\n",
       "      <td>IR1</td>\n",
       "      <td>Lvl</td>\n",
       "      <td>AllPub</td>\n",
       "      <td>...</td>\n",
       "      <td>0</td>\n",
       "      <td>NaN</td>\n",
       "      <td>NaN</td>\n",
       "      <td>NaN</td>\n",
       "      <td>0</td>\n",
       "      <td>9</td>\n",
       "      <td>2008</td>\n",
       "      <td>WD</td>\n",
       "      <td>Normal</td>\n",
       "      <td>223500</td>\n",
       "    </tr>\n",
       "    <tr>\n",
       "      <th>3</th>\n",
       "      <td>4</td>\n",
       "      <td>70</td>\n",
       "      <td>RL</td>\n",
       "      <td>60.0</td>\n",
       "      <td>9550</td>\n",
       "      <td>Pave</td>\n",
       "      <td>NaN</td>\n",
       "      <td>IR1</td>\n",
       "      <td>Lvl</td>\n",
       "      <td>AllPub</td>\n",
       "      <td>...</td>\n",
       "      <td>0</td>\n",
       "      <td>NaN</td>\n",
       "      <td>NaN</td>\n",
       "      <td>NaN</td>\n",
       "      <td>0</td>\n",
       "      <td>2</td>\n",
       "      <td>2006</td>\n",
       "      <td>WD</td>\n",
       "      <td>Abnorml</td>\n",
       "      <td>140000</td>\n",
       "    </tr>\n",
       "    <tr>\n",
       "      <th>4</th>\n",
       "      <td>5</td>\n",
       "      <td>60</td>\n",
       "      <td>RL</td>\n",
       "      <td>84.0</td>\n",
       "      <td>14260</td>\n",
       "      <td>Pave</td>\n",
       "      <td>NaN</td>\n",
       "      <td>IR1</td>\n",
       "      <td>Lvl</td>\n",
       "      <td>AllPub</td>\n",
       "      <td>...</td>\n",
       "      <td>0</td>\n",
       "      <td>NaN</td>\n",
       "      <td>NaN</td>\n",
       "      <td>NaN</td>\n",
       "      <td>0</td>\n",
       "      <td>12</td>\n",
       "      <td>2008</td>\n",
       "      <td>WD</td>\n",
       "      <td>Normal</td>\n",
       "      <td>250000</td>\n",
       "    </tr>\n",
       "  </tbody>\n",
       "</table>\n",
       "<p>5 rows × 81 columns</p>\n",
       "</div>"
      ],
      "text/plain": [
       "   Id  MSSubClass MSZoning  LotFrontage  LotArea Street Alley LotShape  \\\n",
       "0   1          60       RL         65.0     8450   Pave   NaN      Reg   \n",
       "1   2          20       RL         80.0     9600   Pave   NaN      Reg   \n",
       "2   3          60       RL         68.0    11250   Pave   NaN      IR1   \n",
       "3   4          70       RL         60.0     9550   Pave   NaN      IR1   \n",
       "4   5          60       RL         84.0    14260   Pave   NaN      IR1   \n",
       "\n",
       "  LandContour Utilities  ... PoolArea PoolQC Fence MiscFeature MiscVal MoSold  \\\n",
       "0         Lvl    AllPub  ...        0    NaN   NaN         NaN       0      2   \n",
       "1         Lvl    AllPub  ...        0    NaN   NaN         NaN       0      5   \n",
       "2         Lvl    AllPub  ...        0    NaN   NaN         NaN       0      9   \n",
       "3         Lvl    AllPub  ...        0    NaN   NaN         NaN       0      2   \n",
       "4         Lvl    AllPub  ...        0    NaN   NaN         NaN       0     12   \n",
       "\n",
       "  YrSold  SaleType  SaleCondition  SalePrice  \n",
       "0   2008        WD         Normal     208500  \n",
       "1   2007        WD         Normal     181500  \n",
       "2   2008        WD         Normal     223500  \n",
       "3   2006        WD        Abnorml     140000  \n",
       "4   2008        WD         Normal     250000  \n",
       "\n",
       "[5 rows x 81 columns]"
      ]
     },
     "execution_count": 2,
     "metadata": {},
     "output_type": "execute_result"
    }
   ],
   "source": [
    "house = pd.read_csv('train 5.59.04 PM.csv')\n",
    "house.head()"
   ]
  },
  {
   "cell_type": "code",
   "execution_count": 3,
   "metadata": {},
   "outputs": [
    {
     "name": "stdout",
     "output_type": "stream",
     "text": [
      "<class 'pandas.core.frame.DataFrame'>\n",
      "RangeIndex: 1460 entries, 0 to 1459\n",
      "Data columns (total 81 columns):\n",
      "Id               1460 non-null int64\n",
      "MSSubClass       1460 non-null int64\n",
      "MSZoning         1460 non-null object\n",
      "LotFrontage      1201 non-null float64\n",
      "LotArea          1460 non-null int64\n",
      "Street           1460 non-null object\n",
      "Alley            91 non-null object\n",
      "LotShape         1460 non-null object\n",
      "LandContour      1460 non-null object\n",
      "Utilities        1460 non-null object\n",
      "LotConfig        1460 non-null object\n",
      "LandSlope        1460 non-null object\n",
      "Neighborhood     1460 non-null object\n",
      "Condition1       1460 non-null object\n",
      "Condition2       1460 non-null object\n",
      "BldgType         1460 non-null object\n",
      "HouseStyle       1460 non-null object\n",
      "OverallQual      1460 non-null int64\n",
      "OverallCond      1460 non-null int64\n",
      "YearBuilt        1460 non-null int64\n",
      "YearRemodAdd     1460 non-null int64\n",
      "RoofStyle        1460 non-null object\n",
      "RoofMatl         1460 non-null object\n",
      "Exterior1st      1460 non-null object\n",
      "Exterior2nd      1460 non-null object\n",
      "MasVnrType       1452 non-null object\n",
      "MasVnrArea       1452 non-null float64\n",
      "ExterQual        1460 non-null object\n",
      "ExterCond        1460 non-null object\n",
      "Foundation       1460 non-null object\n",
      "BsmtQual         1423 non-null object\n",
      "BsmtCond         1423 non-null object\n",
      "BsmtExposure     1422 non-null object\n",
      "BsmtFinType1     1423 non-null object\n",
      "BsmtFinSF1       1460 non-null int64\n",
      "BsmtFinType2     1422 non-null object\n",
      "BsmtFinSF2       1460 non-null int64\n",
      "BsmtUnfSF        1460 non-null int64\n",
      "TotalBsmtSF      1460 non-null int64\n",
      "Heating          1460 non-null object\n",
      "HeatingQC        1460 non-null object\n",
      "CentralAir       1460 non-null object\n",
      "Electrical       1459 non-null object\n",
      "1stFlrSF         1460 non-null int64\n",
      "2ndFlrSF         1460 non-null int64\n",
      "LowQualFinSF     1460 non-null int64\n",
      "GrLivArea        1460 non-null int64\n",
      "BsmtFullBath     1460 non-null int64\n",
      "BsmtHalfBath     1460 non-null int64\n",
      "FullBath         1460 non-null int64\n",
      "HalfBath         1460 non-null int64\n",
      "BedroomAbvGr     1460 non-null int64\n",
      "KitchenAbvGr     1460 non-null int64\n",
      "KitchenQual      1460 non-null object\n",
      "TotRmsAbvGrd     1460 non-null int64\n",
      "Functional       1460 non-null object\n",
      "Fireplaces       1460 non-null int64\n",
      "FireplaceQu      770 non-null object\n",
      "GarageType       1379 non-null object\n",
      "GarageYrBlt      1379 non-null float64\n",
      "GarageFinish     1379 non-null object\n",
      "GarageCars       1460 non-null int64\n",
      "GarageArea       1460 non-null int64\n",
      "GarageQual       1379 non-null object\n",
      "GarageCond       1379 non-null object\n",
      "PavedDrive       1460 non-null object\n",
      "WoodDeckSF       1460 non-null int64\n",
      "OpenPorchSF      1460 non-null int64\n",
      "EnclosedPorch    1460 non-null int64\n",
      "3SsnPorch        1460 non-null int64\n",
      "ScreenPorch      1460 non-null int64\n",
      "PoolArea         1460 non-null int64\n",
      "PoolQC           7 non-null object\n",
      "Fence            281 non-null object\n",
      "MiscFeature      54 non-null object\n",
      "MiscVal          1460 non-null int64\n",
      "MoSold           1460 non-null int64\n",
      "YrSold           1460 non-null int64\n",
      "SaleType         1460 non-null object\n",
      "SaleCondition    1460 non-null object\n",
      "SalePrice        1460 non-null int64\n",
      "dtypes: float64(3), int64(35), object(43)\n",
      "memory usage: 924.0+ KB\n"
     ]
    }
   ],
   "source": [
    "house.info()"
   ]
  },
  {
   "cell_type": "code",
   "execution_count": 4,
   "metadata": {},
   "outputs": [
    {
     "data": {
      "text/plain": [
       "(1460, 81)"
      ]
     },
     "execution_count": 4,
     "metadata": {},
     "output_type": "execute_result"
    }
   ],
   "source": [
    "init_shape = copy.deepcopy(house.shape)\n",
    "init_shape"
   ]
  },
  {
   "cell_type": "markdown",
   "metadata": {},
   "source": [
    "## Lets visualize how the null values are distributed across the data"
   ]
  },
  {
   "cell_type": "code",
   "execution_count": 5,
   "metadata": {},
   "outputs": [
    {
     "data": {
      "text/plain": [
       "<matplotlib.axes._subplots.AxesSubplot at 0x7fb3883db748>"
      ]
     },
     "execution_count": 5,
     "metadata": {},
     "output_type": "execute_result"
    },
    {
     "data": {
      "image/png": "[encoded data removed]",
      "text/plain": [
       "<Figure size 432x288 with 2 Axes>"
      ]
     },
     "metadata": {
      "needs_background": "light"
     },
     "output_type": "display_data"
    }
   ],
   "source": [
    "sns.heatmap(house.isnull())"
   ]
  },
  {
   "cell_type": "markdown",
   "metadata": {},
   "source": [
    "### Lets check the percenatage of missing values in each column"
   ]
  },
  {
   "cell_type": "code",
   "execution_count": 6,
   "metadata": {},
   "outputs": [
    {
     "data": {
      "text/plain": [
       "PoolQC           99.520548\n",
       "MiscFeature      96.301370\n",
       "Alley            93.767123\n",
       "Fence            80.753425\n",
       "FireplaceQu      47.260274\n",
       "                   ...    \n",
       "CentralAir        0.000000\n",
       "SaleCondition     0.000000\n",
       "Heating           0.000000\n",
       "TotalBsmtSF       0.000000\n",
       "Id                0.000000\n",
       "Length: 81, dtype: float64"
      ]
     },
     "execution_count": 6,
     "metadata": {},
     "output_type": "execute_result"
    }
   ],
   "source": [
    "missing = house.isnull().mean() * 100\n",
    "missing.sort_values(ascending = False)"
   ]
  },
  {
   "cell_type": "markdown",
   "metadata": {},
   "source": [
    "### Lets consider all the columns which has above 10% missing values"
   ]
  },
  {
   "cell_type": "code",
   "execution_count": 7,
   "metadata": {},
   "outputs": [
    {
     "data": {
      "text/plain": [
       "LotFrontage    17.739726\n",
       "Alley          93.767123\n",
       "FireplaceQu    47.260274\n",
       "PoolQC         99.520548\n",
       "Fence          80.753425\n",
       "MiscFeature    96.301370\n",
       "dtype: float64"
      ]
     },
     "execution_count": 7,
     "metadata": {},
     "output_type": "execute_result"
    }
   ],
   "source": [
    "above_10 = missing[missing > 10]\n",
    "above_10"
   ]
  },
  {
   "cell_type": "markdown",
   "metadata": {},
   "source": [
    "### All the columns except 'LotFrontage' are actegorical columns which has null values which actually represents that the housing doesnot have those attributes respectively. So, lets convert null values to 'not present'"
   ]
  },
  {
   "cell_type": "code",
   "execution_count": 8,
   "metadata": {},
   "outputs": [],
   "source": [
    "house[above_10.index] = house[above_10.index].replace(np.nan,'Not present')\n",
    "missing = house.isnull().mean() * 100\n",
    "del house['LotFrontage']"
   ]
  },
  {
   "cell_type": "markdown",
   "metadata": {},
   "source": [
    "### Lets take a look at other columns whuch has low missing values"
   ]
  },
  {
   "cell_type": "code",
   "execution_count": 9,
   "metadata": {},
   "outputs": [
    {
     "data": {
      "text/plain": [
       "GarageYrBlt     5.547945\n",
       "GarageCond      5.547945\n",
       "GarageType      5.547945\n",
       "GarageFinish    5.547945\n",
       "GarageQual      5.547945\n",
       "BsmtExposure    2.602740\n",
       "BsmtFinType2    2.602740\n",
       "BsmtFinType1    2.534247\n",
       "BsmtCond        2.534247\n",
       "BsmtQual        2.534247\n",
       "MasVnrArea      0.547945\n",
       "MasVnrType      0.547945\n",
       "Electrical      0.068493\n",
       "dtype: float64"
      ]
     },
     "execution_count": 9,
     "metadata": {},
     "output_type": "execute_result"
    }
   ],
   "source": [
    "below_10 = missing[missing <= 10].sort_values(ascending = False)[:13]\n",
    "below_10"
   ]
  },
  {
   "cell_type": "markdown",
   "metadata": {},
   "source": [
    "## All garage columns except 'GarageYrBlt' are categorical columns and the missing values in these columns actually represent that the property doesnot have a garage. So,lets replace all the null values in these columns with 'No Garage'"
   ]
  },
  {
   "cell_type": "code",
   "execution_count": 10,
   "metadata": {},
   "outputs": [],
   "source": [
    "house[house[below_10.index].filter(like = 'Garage').select_dtypes(object).columns] = house[below_10.index].filter(like = 'Garage').select_dtypes(object).replace(np.nan,'No Garage')\n",
    "\n"
   ]
  },
  {
   "cell_type": "markdown",
   "metadata": {},
   "source": [
    "### Lets check the missing values again"
   ]
  },
  {
   "cell_type": "code",
   "execution_count": 11,
   "metadata": {},
   "outputs": [
    {
     "data": {
      "text/plain": [
       "GarageYrBlt     5.547945\n",
       "BsmtFinType2    2.602740\n",
       "BsmtExposure    2.602740\n",
       "BsmtQual        2.534247\n",
       "BsmtFinType1    2.534247\n",
       "BsmtCond        2.534247\n",
       "MasVnrType      0.547945\n",
       "MasVnrArea      0.547945\n",
       "Electrical      0.068493\n",
       "ExterQual       0.000000\n",
       "RoofMatl        0.000000\n",
       "Exterior1st     0.000000\n",
       "Exterior2nd     0.000000\n",
       "dtype: float64"
      ]
     },
     "execution_count": 11,
     "metadata": {},
     "output_type": "execute_result"
    }
   ],
   "source": [
    "missing = house.isnull().mean() * 100\n",
    "below_10 = missing[missing <= 10].sort_values(ascending = False)[:13]\n",
    "below_10"
   ]
  },
  {
   "cell_type": "markdown",
   "metadata": {},
   "source": [
    "### The null values in the bsmt columns represent that the property doesnot have a basement.So,lets replace these with 'No Basement'"
   ]
  },
  {
   "cell_type": "code",
   "execution_count": 12,
   "metadata": {},
   "outputs": [],
   "source": [
    "house[house[below_10.index].filter(like = 'Bsmt').columns] = house[below_10.index].filter(like = 'Bsmt').replace(np.nan,'No Basement')"
   ]
  },
  {
   "cell_type": "code",
   "execution_count": 13,
   "metadata": {},
   "outputs": [
    {
     "data": {
      "text/plain": [
       "GarageYrBlt    5.547945\n",
       "MasVnrArea     0.547945\n",
       "MasVnrType     0.547945\n",
       "Electrical     0.068493\n",
       "dtype: float64"
      ]
     },
     "execution_count": 13,
     "metadata": {},
     "output_type": "execute_result"
    }
   ],
   "source": [
    "missing = house.isnull().mean() * 100\n",
    "below_10 = missing[missing > 0].sort_values(ascending = False)\n",
    "below_10"
   ]
  },
  {
   "cell_type": "markdown",
   "metadata": {},
   "source": [
    "## Lets replace MasVnr with a dummy as it is present or not where 1 represent it is present and 0 it is not"
   ]
  },
  {
   "cell_type": "code",
   "execution_count": 14,
   "metadata": {},
   "outputs": [
    {
     "data": {
      "text/plain": [
       "0.0      861\n",
       "72.0       8\n",
       "180.0      8\n",
       "108.0      8\n",
       "120.0      7\n",
       "        ... \n",
       "651.0      1\n",
       "337.0      1\n",
       "415.0      1\n",
       "293.0      1\n",
       "621.0      1\n",
       "Name: MasVnrArea, Length: 327, dtype: int64"
      ]
     },
     "execution_count": 14,
     "metadata": {},
     "output_type": "execute_result"
    }
   ],
   "source": [
    "house['MasVnrArea'].value_counts()"
   ]
  },
  {
   "cell_type": "code",
   "execution_count": 15,
   "metadata": {},
   "outputs": [
    {
     "data": {
      "text/plain": [
       "None       864\n",
       "BrkFace    445\n",
       "Stone      128\n",
       "BrkCmn      15\n",
       "Name: MasVnrType, dtype: int64"
      ]
     },
     "execution_count": 15,
     "metadata": {},
     "output_type": "execute_result"
    }
   ],
   "source": [
    "house['MasVnrType'].value_counts()"
   ]
  },
  {
   "cell_type": "code",
   "execution_count": 16,
   "metadata": {},
   "outputs": [],
   "source": [
    "house['Venner_present'] = house['MasVnrType'].map({'None': 0}).replace(np.nan,1)\n",
    "del house['MasVnrType']\n",
    "del house['MasVnrArea']"
   ]
  },
  {
   "cell_type": "code",
   "execution_count": null,
   "metadata": {},
   "outputs": [],
   "source": []
  },
  {
   "cell_type": "code",
   "execution_count": 17,
   "metadata": {},
   "outputs": [
    {
     "data": {
      "text/plain": [
       "GarageYrBlt    5.547945\n",
       "Electrical     0.068493\n",
       "dtype: float64"
      ]
     },
     "execution_count": 17,
     "metadata": {},
     "output_type": "execute_result"
    }
   ],
   "source": [
    "missing = house.isnull().mean() * 100\n",
    "below_10 = missing[missing > 0].sort_values(ascending = False)\n",
    "below_10"
   ]
  },
  {
   "cell_type": "markdown",
   "metadata": {},
   "source": [
    "### Very minimal data is missing in 'Electrical'. Lets drop those rows with 'null values'"
   ]
  },
  {
   "cell_type": "code",
   "execution_count": 18,
   "metadata": {},
   "outputs": [
    {
     "data": {
      "text/plain": [
       "GarageYrBlt    5.551748\n",
       "dtype: float64"
      ]
     },
     "execution_count": 18,
     "metadata": {},
     "output_type": "execute_result"
    }
   ],
   "source": [
    "house = house.loc[house['Electrical'].dropna().index]\n",
    "missing = house.isnull().mean() * 100\n",
    "below_10 = missing[missing > 0].sort_values(ascending = False)\n",
    "below_10"
   ]
  },
  {
   "cell_type": "markdown",
   "metadata": {},
   "source": [
    "### 'Lets' check the year columns"
   ]
  },
  {
   "cell_type": "code",
   "execution_count": 19,
   "metadata": {},
   "outputs": [
    {
     "data": {
      "text/html": [
       "<div>\n",
       "<style scoped>\n",
       "    .dataframe tbody tr th:only-of-type {\n",
       "        vertical-align: middle;\n",
       "    }\n",
       "\n",
       "    .dataframe tbody tr th {\n",
       "        vertical-align: top;\n",
       "    }\n",
       "\n",
       "    .dataframe thead th {\n",
       "        text-align: right;\n",
       "    }\n",
       "</style>\n",
       "<table border=\"1\" class=\"dataframe\">\n",
       "  <thead>\n",
       "    <tr style=\"text-align: right;\">\n",
       "      <th></th>\n",
       "      <th>YearBuilt</th>\n",
       "      <th>YearRemodAdd</th>\n",
       "    </tr>\n",
       "  </thead>\n",
       "  <tbody>\n",
       "    <tr>\n",
       "      <th>count</th>\n",
       "      <td>1459.000000</td>\n",
       "      <td>1459.000000</td>\n",
       "    </tr>\n",
       "    <tr>\n",
       "      <th>mean</th>\n",
       "      <td>1971.244003</td>\n",
       "      <td>1984.850583</td>\n",
       "    </tr>\n",
       "    <tr>\n",
       "      <th>std</th>\n",
       "      <td>30.199555</td>\n",
       "      <td>20.644343</td>\n",
       "    </tr>\n",
       "    <tr>\n",
       "      <th>min</th>\n",
       "      <td>1872.000000</td>\n",
       "      <td>1950.000000</td>\n",
       "    </tr>\n",
       "    <tr>\n",
       "      <th>25%</th>\n",
       "      <td>1954.000000</td>\n",
       "      <td>1967.000000</td>\n",
       "    </tr>\n",
       "    <tr>\n",
       "      <th>50%</th>\n",
       "      <td>1973.000000</td>\n",
       "      <td>1994.000000</td>\n",
       "    </tr>\n",
       "    <tr>\n",
       "      <th>75%</th>\n",
       "      <td>2000.000000</td>\n",
       "      <td>2004.000000</td>\n",
       "    </tr>\n",
       "    <tr>\n",
       "      <th>max</th>\n",
       "      <td>2010.000000</td>\n",
       "      <td>2010.000000</td>\n",
       "    </tr>\n",
       "  </tbody>\n",
       "</table>\n",
       "</div>"
      ],
      "text/plain": [
       "         YearBuilt  YearRemodAdd\n",
       "count  1459.000000   1459.000000\n",
       "mean   1971.244003   1984.850583\n",
       "std      30.199555     20.644343\n",
       "min    1872.000000   1950.000000\n",
       "25%    1954.000000   1967.000000\n",
       "50%    1973.000000   1994.000000\n",
       "75%    2000.000000   2004.000000\n",
       "max    2010.000000   2010.000000"
      ]
     },
     "execution_count": 19,
     "metadata": {},
     "output_type": "execute_result"
    }
   ],
   "source": [
    "house.filter(like = 'Year').describe()"
   ]
  },
  {
   "cell_type": "markdown",
   "metadata": {},
   "source": [
    "### There are 4 year columns with Max as '2010' . So lets convert all these columns as 'age' with respect to 2010\""
   ]
  },
  {
   "cell_type": "code",
   "execution_count": 20,
   "metadata": {},
   "outputs": [],
   "source": [
    "house[house.filter(like = 'Year').columns] = house.filter(like = 'Year').apply(lambda x:x.map(lambda y:2010 - y))\n",
    "house[house.filter(like = 'Yr').columns] = house.filter(like = 'Yr').apply(lambda x:x.map(lambda y:2010 - y))\n"
   ]
  },
  {
   "cell_type": "markdown",
   "metadata": {},
   "source": [
    "### As 'GarageYrBlt' is a important continuous variable and as a fact that 5% values are missing in it indicate houses with no garage ,lets convert the continuous variable into dummies based on quantile values and then label null entries as subcategory named 'No Garage'"
   ]
  },
  {
   "cell_type": "code",
   "execution_count": 21,
   "metadata": {},
   "outputs": [],
   "source": [
    "house['Garage_age_quant'] = pd.qcut(house['GarageYrBlt'],q = [x/10 for x in range(1,11)],labels = ['Quant_' + str(x) for x in range(1,10)])\n",
    "del house['GarageYrBlt']\n",
    "house['Garage_age_quant'] = house['Garage_age_quant'].replace(np.nan,'No Garage')\n",
    "\n",
    "\n",
    "\n",
    "\n"
   ]
  },
  {
   "cell_type": "markdown",
   "metadata": {},
   "source": [
    "## Lets verify the number of columns with missing entries"
   ]
  },
  {
   "cell_type": "code",
   "execution_count": 22,
   "metadata": {},
   "outputs": [
    {
     "data": {
      "text/plain": [
       "0"
      ]
     },
     "execution_count": 22,
     "metadata": {},
     "output_type": "execute_result"
    }
   ],
   "source": [
    "house.isnull().any().sum()"
   ]
  },
  {
   "cell_type": "markdown",
   "metadata": {},
   "source": [
    "### Lets save the unique values in each numerical column and then work on categorical columns"
   ]
  },
  {
   "cell_type": "code",
   "execution_count": 23,
   "metadata": {},
   "outputs": [],
   "source": [
    "cont = house.select_dtypes([int,float]).nunique()"
   ]
  },
  {
   "cell_type": "code",
   "execution_count": 24,
   "metadata": {},
   "outputs": [
    {
     "data": {
      "text/plain": [
       "MSZoning             5\n",
       "Street               2\n",
       "Alley                3\n",
       "LotShape             4\n",
       "LandContour          4\n",
       "Utilities            2\n",
       "LotConfig            5\n",
       "LandSlope            3\n",
       "Neighborhood        25\n",
       "Condition1           9\n",
       "Condition2           8\n",
       "BldgType             5\n",
       "HouseStyle           8\n",
       "RoofStyle            6\n",
       "RoofMatl             8\n",
       "Exterior1st         15\n",
       "Exterior2nd         16\n",
       "ExterQual            4\n",
       "ExterCond            5\n",
       "Foundation           6\n",
       "BsmtQual             5\n",
       "BsmtCond             5\n",
       "BsmtExposure         5\n",
       "BsmtFinType1         7\n",
       "BsmtFinType2         7\n",
       "Heating              6\n",
       "HeatingQC            5\n",
       "CentralAir           2\n",
       "Electrical           5\n",
       "KitchenQual          4\n",
       "Functional           7\n",
       "FireplaceQu          6\n",
       "GarageType           7\n",
       "GarageFinish         4\n",
       "GarageQual           6\n",
       "GarageCond           6\n",
       "PavedDrive           3\n",
       "PoolQC               4\n",
       "Fence                5\n",
       "MiscFeature          5\n",
       "SaleType             9\n",
       "SaleCondition        6\n",
       "Garage_age_quant    10\n",
       "dtype: int64"
      ]
     },
     "execution_count": 24,
     "metadata": {},
     "output_type": "execute_result"
    }
   ],
   "source": [
    "unique = house.select_dtypes(object).nunique()\n",
    "unique"
   ]
  },
  {
   "cell_type": "markdown",
   "metadata": {},
   "source": [
    "## We can see that there are many categorical columns but most of the columns have high number of 'sub-categories' in it. Let's plot few of the categorical columns as % contribution of each sub-category to check if we can merge few sub-categories"
   ]
  },
  {
   "cell_type": "code",
   "execution_count": 25,
   "metadata": {},
   "outputs": [
    {
     "data": {
      "text/plain": [
       "Text(0.5, 0.98, '% contribution of sub-categories to each categorical column')"
      ]
     },
     "execution_count": 25,
     "metadata": {},
     "output_type": "execute_result"
    },
    {
     "data": {
      "image/png": "[encoded data removed]",
      "text/plain": [
       "<Figure size 720x720 with 10 Axes>"
      ]
     },
     "metadata": {
      "needs_background": "light"
     },
     "output_type": "display_data"
    }
   ],
   "source": [
    "# univariate categorical\n",
    "\n",
    "plt.figure(figsize= (10,10))\n",
    "c = 1\n",
    "for x in unique[unique < 7].index[:10]:\n",
    "    plt.subplot(5,2,c)\n",
    "    sav = house[x].value_counts(normalize  = True).rename('percentage').mul(100).reset_index()\n",
    "    sns.barplot(y = 'percentage' , x = 'index' , data = sav)\n",
    "    c +=1 \n",
    "plt.subplots_adjust(wspace= 0.3 , hspace = 0.5)\n",
    "plt.suptitle('% contribution of sub-categories to each categorical column' , size = 40 )\n",
    "    "
   ]
  },
  {
   "cell_type": "markdown",
   "metadata": {},
   "source": [
    "# `We have seen that many sub-categories take very small % in each category which will be less significant in explaining the variance in target variable. So, for each category lets merge all those sub-categories which takes up less than 10% values in total `"
   ]
  },
  {
   "cell_type": "code",
   "execution_count": 26,
   "metadata": {},
   "outputs": [
    {
     "name": "stderr",
     "output_type": "stream",
     "text": [
      "//anaconda3/lib/python3.7/site-packages/ipykernel_launcher.py:3: SettingWithCopyWarning: \n",
      "A value is trying to be set on a copy of a slice from a DataFrame\n",
      "\n",
      "See the caveats in the documentation: http://pandas.pydata.org/pandas-docs/stable/user_guide/indexing.html#returning-a-view-versus-a-copy\n",
      "  This is separate from the ipykernel package so we can avoid doing imports until\n"
     ]
    }
   ],
   "source": [
    "for x in unique.index:\n",
    "    temp = house[x].value_counts(normalize  = True) * 100\n",
    "    house[x][house[x].isin(temp[temp  < 10].index)] = 'Other'"
   ]
  },
  {
   "cell_type": "markdown",
   "metadata": {},
   "source": [
    "## Lets check the unique values of categorical columns now"
   ]
  },
  {
   "cell_type": "code",
   "execution_count": 27,
   "metadata": {},
   "outputs": [
    {
     "data": {
      "text/plain": [
       "MSZoning            3\n",
       "Street              2\n",
       "Alley               2\n",
       "LotShape            3\n",
       "LandContour         2\n",
       "Utilities           2\n",
       "LotConfig           3\n",
       "LandSlope           2\n",
       "Neighborhood        3\n",
       "Condition1          2\n",
       "Condition2          2\n",
       "BldgType            2\n",
       "HouseStyle          4\n",
       "RoofStyle           3\n",
       "RoofMatl            2\n",
       "Exterior1st         5\n",
       "Exterior2nd         5\n",
       "ExterQual           3\n",
       "ExterCond           3\n",
       "Foundation          4\n",
       "BsmtQual            3\n",
       "BsmtCond            2\n",
       "BsmtExposure        3\n",
       "BsmtFinType1        5\n",
       "BsmtFinType2        2\n",
       "Heating             2\n",
       "HeatingQC           4\n",
       "CentralAir          2\n",
       "Electrical          2\n",
       "KitchenQual         3\n",
       "Functional          2\n",
       "FireplaceQu         4\n",
       "GarageType          3\n",
       "GarageFinish        4\n",
       "GarageQual          2\n",
       "GarageCond          2\n",
       "PavedDrive          2\n",
       "PoolQC              2\n",
       "Fence               3\n",
       "MiscFeature         2\n",
       "SaleType            2\n",
       "SaleCondition       2\n",
       "Garage_age_quant    4\n",
       "dtype: int64"
      ]
     },
     "execution_count": 27,
     "metadata": {},
     "output_type": "execute_result"
    }
   ],
   "source": [
    "unique = house.select_dtypes(object).nunique()\n",
    "unique"
   ]
  },
  {
   "cell_type": "markdown",
   "metadata": {},
   "source": [
    "### Lets check the columns which has two unique values first"
   ]
  },
  {
   "cell_type": "code",
   "execution_count": 28,
   "metadata": {},
   "outputs": [
    {
     "data": {
      "text/html": [
       "<div>\n",
       "<style scoped>\n",
       "    .dataframe tbody tr th:only-of-type {\n",
       "        vertical-align: middle;\n",
       "    }\n",
       "\n",
       "    .dataframe tbody tr th {\n",
       "        vertical-align: top;\n",
       "    }\n",
       "\n",
       "    .dataframe thead th {\n",
       "        text-align: right;\n",
       "    }\n",
       "</style>\n",
       "<table border=\"1\" class=\"dataframe\">\n",
       "  <thead>\n",
       "    <tr style=\"text-align: right;\">\n",
       "      <th></th>\n",
       "      <th>Street</th>\n",
       "      <th>Alley</th>\n",
       "      <th>LandContour</th>\n",
       "      <th>Utilities</th>\n",
       "      <th>LandSlope</th>\n",
       "      <th>Condition1</th>\n",
       "      <th>Condition2</th>\n",
       "      <th>BldgType</th>\n",
       "      <th>RoofMatl</th>\n",
       "      <th>BsmtCond</th>\n",
       "      <th>...</th>\n",
       "      <th>CentralAir</th>\n",
       "      <th>Electrical</th>\n",
       "      <th>Functional</th>\n",
       "      <th>GarageQual</th>\n",
       "      <th>GarageCond</th>\n",
       "      <th>PavedDrive</th>\n",
       "      <th>PoolQC</th>\n",
       "      <th>MiscFeature</th>\n",
       "      <th>SaleType</th>\n",
       "      <th>SaleCondition</th>\n",
       "    </tr>\n",
       "  </thead>\n",
       "  <tbody>\n",
       "    <tr>\n",
       "      <th>0</th>\n",
       "      <td>Pave</td>\n",
       "      <td>Not present</td>\n",
       "      <td>Lvl</td>\n",
       "      <td>AllPub</td>\n",
       "      <td>Gtl</td>\n",
       "      <td>Norm</td>\n",
       "      <td>Norm</td>\n",
       "      <td>1Fam</td>\n",
       "      <td>CompShg</td>\n",
       "      <td>TA</td>\n",
       "      <td>...</td>\n",
       "      <td>Y</td>\n",
       "      <td>SBrkr</td>\n",
       "      <td>Typ</td>\n",
       "      <td>TA</td>\n",
       "      <td>TA</td>\n",
       "      <td>Y</td>\n",
       "      <td>Not present</td>\n",
       "      <td>Not present</td>\n",
       "      <td>WD</td>\n",
       "      <td>Normal</td>\n",
       "    </tr>\n",
       "    <tr>\n",
       "      <th>1</th>\n",
       "      <td>Pave</td>\n",
       "      <td>Not present</td>\n",
       "      <td>Lvl</td>\n",
       "      <td>AllPub</td>\n",
       "      <td>Gtl</td>\n",
       "      <td>Other</td>\n",
       "      <td>Norm</td>\n",
       "      <td>1Fam</td>\n",
       "      <td>CompShg</td>\n",
       "      <td>TA</td>\n",
       "      <td>...</td>\n",
       "      <td>Y</td>\n",
       "      <td>SBrkr</td>\n",
       "      <td>Typ</td>\n",
       "      <td>TA</td>\n",
       "      <td>TA</td>\n",
       "      <td>Y</td>\n",
       "      <td>Not present</td>\n",
       "      <td>Not present</td>\n",
       "      <td>WD</td>\n",
       "      <td>Normal</td>\n",
       "    </tr>\n",
       "    <tr>\n",
       "      <th>2</th>\n",
       "      <td>Pave</td>\n",
       "      <td>Not present</td>\n",
       "      <td>Lvl</td>\n",
       "      <td>AllPub</td>\n",
       "      <td>Gtl</td>\n",
       "      <td>Norm</td>\n",
       "      <td>Norm</td>\n",
       "      <td>1Fam</td>\n",
       "      <td>CompShg</td>\n",
       "      <td>TA</td>\n",
       "      <td>...</td>\n",
       "      <td>Y</td>\n",
       "      <td>SBrkr</td>\n",
       "      <td>Typ</td>\n",
       "      <td>TA</td>\n",
       "      <td>TA</td>\n",
       "      <td>Y</td>\n",
       "      <td>Not present</td>\n",
       "      <td>Not present</td>\n",
       "      <td>WD</td>\n",
       "      <td>Normal</td>\n",
       "    </tr>\n",
       "    <tr>\n",
       "      <th>3</th>\n",
       "      <td>Pave</td>\n",
       "      <td>Not present</td>\n",
       "      <td>Lvl</td>\n",
       "      <td>AllPub</td>\n",
       "      <td>Gtl</td>\n",
       "      <td>Norm</td>\n",
       "      <td>Norm</td>\n",
       "      <td>1Fam</td>\n",
       "      <td>CompShg</td>\n",
       "      <td>Other</td>\n",
       "      <td>...</td>\n",
       "      <td>Y</td>\n",
       "      <td>SBrkr</td>\n",
       "      <td>Typ</td>\n",
       "      <td>TA</td>\n",
       "      <td>TA</td>\n",
       "      <td>Y</td>\n",
       "      <td>Not present</td>\n",
       "      <td>Not present</td>\n",
       "      <td>WD</td>\n",
       "      <td>Other</td>\n",
       "    </tr>\n",
       "    <tr>\n",
       "      <th>4</th>\n",
       "      <td>Pave</td>\n",
       "      <td>Not present</td>\n",
       "      <td>Lvl</td>\n",
       "      <td>AllPub</td>\n",
       "      <td>Gtl</td>\n",
       "      <td>Norm</td>\n",
       "      <td>Norm</td>\n",
       "      <td>1Fam</td>\n",
       "      <td>CompShg</td>\n",
       "      <td>TA</td>\n",
       "      <td>...</td>\n",
       "      <td>Y</td>\n",
       "      <td>SBrkr</td>\n",
       "      <td>Typ</td>\n",
       "      <td>TA</td>\n",
       "      <td>TA</td>\n",
       "      <td>Y</td>\n",
       "      <td>Not present</td>\n",
       "      <td>Not present</td>\n",
       "      <td>WD</td>\n",
       "      <td>Normal</td>\n",
       "    </tr>\n",
       "  </tbody>\n",
       "</table>\n",
       "<p>5 rows × 22 columns</p>\n",
       "</div>"
      ],
      "text/plain": [
       "  Street        Alley LandContour Utilities LandSlope Condition1 Condition2  \\\n",
       "0   Pave  Not present         Lvl    AllPub       Gtl       Norm       Norm   \n",
       "1   Pave  Not present         Lvl    AllPub       Gtl      Other       Norm   \n",
       "2   Pave  Not present         Lvl    AllPub       Gtl       Norm       Norm   \n",
       "3   Pave  Not present         Lvl    AllPub       Gtl       Norm       Norm   \n",
       "4   Pave  Not present         Lvl    AllPub       Gtl       Norm       Norm   \n",
       "\n",
       "  BldgType RoofMatl BsmtCond  ... CentralAir Electrical Functional GarageQual  \\\n",
       "0     1Fam  CompShg       TA  ...          Y      SBrkr        Typ         TA   \n",
       "1     1Fam  CompShg       TA  ...          Y      SBrkr        Typ         TA   \n",
       "2     1Fam  CompShg       TA  ...          Y      SBrkr        Typ         TA   \n",
       "3     1Fam  CompShg    Other  ...          Y      SBrkr        Typ         TA   \n",
       "4     1Fam  CompShg       TA  ...          Y      SBrkr        Typ         TA   \n",
       "\n",
       "  GarageCond PavedDrive       PoolQC  MiscFeature SaleType SaleCondition  \n",
       "0         TA          Y  Not present  Not present       WD        Normal  \n",
       "1         TA          Y  Not present  Not present       WD        Normal  \n",
       "2         TA          Y  Not present  Not present       WD        Normal  \n",
       "3         TA          Y  Not present  Not present       WD         Other  \n",
       "4         TA          Y  Not present  Not present       WD        Normal  \n",
       "\n",
       "[5 rows x 22 columns]"
      ]
     },
     "execution_count": 28,
     "metadata": {},
     "output_type": "execute_result"
    }
   ],
   "source": [
    "two_unique = house.loc[:,unique[unique == 2].index]\n",
    "two_unique.head()"
   ]
  },
  {
   "cell_type": "markdown",
   "metadata": {},
   "source": [
    "## Let's create dummies for all these columns"
   ]
  },
  {
   "cell_type": "code",
   "execution_count": 29,
   "metadata": {},
   "outputs": [],
   "source": [
    "for x in two_unique.columns: #looping on columns\n",
    "    dum = pd.get_dummies(two_unique[x] , prefix = str(x))\n",
    "    dum = dum[dum.columns.difference([dum.sum().sort_values().index[0]])]\n",
    "    two_unique = pd.concat([two_unique,dum] , axis = 1)\n",
    "    del two_unique[x]"
   ]
  },
  {
   "cell_type": "markdown",
   "metadata": {},
   "source": [
    "## Let's check the imbalance % so we can remove insignificant variables"
   ]
  },
  {
   "cell_type": "code",
   "execution_count": 30,
   "metadata": {},
   "outputs": [
    {
     "data": {
      "text/html": [
       "<div>\n",
       "<style scoped>\n",
       "    .dataframe tbody tr th:only-of-type {\n",
       "        vertical-align: middle;\n",
       "    }\n",
       "\n",
       "    .dataframe tbody tr th {\n",
       "        vertical-align: top;\n",
       "    }\n",
       "\n",
       "    .dataframe thead th {\n",
       "        text-align: right;\n",
       "    }\n",
       "</style>\n",
       "<table border=\"1\" class=\"dataframe\">\n",
       "  <thead>\n",
       "    <tr style=\"text-align: right;\">\n",
       "      <th></th>\n",
       "      <th>1</th>\n",
       "      <th>0</th>\n",
       "      <th>%_imbalance</th>\n",
       "    </tr>\n",
       "  </thead>\n",
       "  <tbody>\n",
       "    <tr>\n",
       "      <th>Street_Pave</th>\n",
       "      <td>1453</td>\n",
       "      <td>6</td>\n",
       "      <td>0.411241</td>\n",
       "    </tr>\n",
       "    <tr>\n",
       "      <th>Alley_Not present</th>\n",
       "      <td>1368</td>\n",
       "      <td>91</td>\n",
       "      <td>6.237149</td>\n",
       "    </tr>\n",
       "    <tr>\n",
       "      <th>LandContour_Lvl</th>\n",
       "      <td>1310</td>\n",
       "      <td>149</td>\n",
       "      <td>10.212474</td>\n",
       "    </tr>\n",
       "    <tr>\n",
       "      <th>Utilities_AllPub</th>\n",
       "      <td>1458</td>\n",
       "      <td>1</td>\n",
       "      <td>0.068540</td>\n",
       "    </tr>\n",
       "    <tr>\n",
       "      <th>LandSlope_Gtl</th>\n",
       "      <td>1381</td>\n",
       "      <td>78</td>\n",
       "      <td>5.346127</td>\n",
       "    </tr>\n",
       "    <tr>\n",
       "      <th>Condition1_Norm</th>\n",
       "      <td>1259</td>\n",
       "      <td>200</td>\n",
       "      <td>13.708019</td>\n",
       "    </tr>\n",
       "    <tr>\n",
       "      <th>Condition2_Norm</th>\n",
       "      <td>1444</td>\n",
       "      <td>15</td>\n",
       "      <td>1.028101</td>\n",
       "    </tr>\n",
       "    <tr>\n",
       "      <th>BldgType_1Fam</th>\n",
       "      <td>1219</td>\n",
       "      <td>240</td>\n",
       "      <td>16.449623</td>\n",
       "    </tr>\n",
       "    <tr>\n",
       "      <th>RoofMatl_CompShg</th>\n",
       "      <td>1433</td>\n",
       "      <td>26</td>\n",
       "      <td>1.782042</td>\n",
       "    </tr>\n",
       "    <tr>\n",
       "      <th>BsmtCond_TA</th>\n",
       "      <td>1310</td>\n",
       "      <td>149</td>\n",
       "      <td>10.212474</td>\n",
       "    </tr>\n",
       "    <tr>\n",
       "      <th>BsmtFinType2_Unf</th>\n",
       "      <td>1255</td>\n",
       "      <td>204</td>\n",
       "      <td>13.982180</td>\n",
       "    </tr>\n",
       "    <tr>\n",
       "      <th>Heating_GasA</th>\n",
       "      <td>1427</td>\n",
       "      <td>32</td>\n",
       "      <td>2.193283</td>\n",
       "    </tr>\n",
       "    <tr>\n",
       "      <th>CentralAir_Y</th>\n",
       "      <td>1364</td>\n",
       "      <td>95</td>\n",
       "      <td>6.511309</td>\n",
       "    </tr>\n",
       "    <tr>\n",
       "      <th>Electrical_SBrkr</th>\n",
       "      <td>1334</td>\n",
       "      <td>125</td>\n",
       "      <td>8.567512</td>\n",
       "    </tr>\n",
       "    <tr>\n",
       "      <th>Functional_Typ</th>\n",
       "      <td>1359</td>\n",
       "      <td>100</td>\n",
       "      <td>6.854010</td>\n",
       "    </tr>\n",
       "    <tr>\n",
       "      <th>GarageQual_TA</th>\n",
       "      <td>1310</td>\n",
       "      <td>149</td>\n",
       "      <td>10.212474</td>\n",
       "    </tr>\n",
       "    <tr>\n",
       "      <th>GarageCond_TA</th>\n",
       "      <td>1325</td>\n",
       "      <td>134</td>\n",
       "      <td>9.184373</td>\n",
       "    </tr>\n",
       "    <tr>\n",
       "      <th>PavedDrive_Y</th>\n",
       "      <td>1339</td>\n",
       "      <td>120</td>\n",
       "      <td>8.224812</td>\n",
       "    </tr>\n",
       "    <tr>\n",
       "      <th>PoolQC_Not present</th>\n",
       "      <td>1452</td>\n",
       "      <td>7</td>\n",
       "      <td>0.479781</td>\n",
       "    </tr>\n",
       "    <tr>\n",
       "      <th>MiscFeature_Not present</th>\n",
       "      <td>1405</td>\n",
       "      <td>54</td>\n",
       "      <td>3.701165</td>\n",
       "    </tr>\n",
       "    <tr>\n",
       "      <th>SaleType_WD</th>\n",
       "      <td>1266</td>\n",
       "      <td>193</td>\n",
       "      <td>13.228239</td>\n",
       "    </tr>\n",
       "    <tr>\n",
       "      <th>SaleCondition_Normal</th>\n",
       "      <td>1197</td>\n",
       "      <td>262</td>\n",
       "      <td>17.957505</td>\n",
       "    </tr>\n",
       "  </tbody>\n",
       "</table>\n",
       "</div>"
      ],
      "text/plain": [
       "                            1    0  %_imbalance\n",
       "Street_Pave              1453    6     0.411241\n",
       "Alley_Not present        1368   91     6.237149\n",
       "LandContour_Lvl          1310  149    10.212474\n",
       "Utilities_AllPub         1458    1     0.068540\n",
       "LandSlope_Gtl            1381   78     5.346127\n",
       "Condition1_Norm          1259  200    13.708019\n",
       "Condition2_Norm          1444   15     1.028101\n",
       "BldgType_1Fam            1219  240    16.449623\n",
       "RoofMatl_CompShg         1433   26     1.782042\n",
       "BsmtCond_TA              1310  149    10.212474\n",
       "BsmtFinType2_Unf         1255  204    13.982180\n",
       "Heating_GasA             1427   32     2.193283\n",
       "CentralAir_Y             1364   95     6.511309\n",
       "Electrical_SBrkr         1334  125     8.567512\n",
       "Functional_Typ           1359  100     6.854010\n",
       "GarageQual_TA            1310  149    10.212474\n",
       "GarageCond_TA            1325  134     9.184373\n",
       "PavedDrive_Y             1339  120     8.224812\n",
       "PoolQC_Not present       1452    7     0.479781\n",
       "MiscFeature_Not present  1405   54     3.701165\n",
       "SaleType_WD              1266  193    13.228239\n",
       "SaleCondition_Normal     1197  262    17.957505"
      ]
     },
     "execution_count": 30,
     "metadata": {},
     "output_type": "execute_result"
    }
   ],
   "source": [
    "yes_no_count = pd.DataFrame()\n",
    "for col in two_unique.columns: #converted is the target column(we dont need to check for it)\n",
    "    yes_no_count = pd.concat([yes_no_count,two_unique.filter(like = col).iloc[:,0].value_counts().to_frame().T])\n",
    "    \n",
    "\n",
    "yes_no_count['%_imbalance'] = 100 - two_unique.mean() * 100\n",
    "\n",
    "yes_no_count"
   ]
  },
  {
   "cell_type": "markdown",
   "metadata": {},
   "source": [
    "### Lets remove all the columns which are highly imbalanced and check the remaining"
   ]
  },
  {
   "cell_type": "code",
   "execution_count": 31,
   "metadata": {},
   "outputs": [
    {
     "data": {
      "text/html": [
       "<div>\n",
       "<style scoped>\n",
       "    .dataframe tbody tr th:only-of-type {\n",
       "        vertical-align: middle;\n",
       "    }\n",
       "\n",
       "    .dataframe tbody tr th {\n",
       "        vertical-align: top;\n",
       "    }\n",
       "\n",
       "    .dataframe thead th {\n",
       "        text-align: right;\n",
       "    }\n",
       "</style>\n",
       "<table border=\"1\" class=\"dataframe\">\n",
       "  <thead>\n",
       "    <tr style=\"text-align: right;\">\n",
       "      <th></th>\n",
       "      <th>BldgType_1Fam</th>\n",
       "      <th>BsmtCond_TA</th>\n",
       "      <th>BsmtFinType2_Unf</th>\n",
       "      <th>Condition1_Norm</th>\n",
       "      <th>GarageQual_TA</th>\n",
       "      <th>LandContour_Lvl</th>\n",
       "      <th>SaleCondition_Normal</th>\n",
       "      <th>SaleType_WD</th>\n",
       "    </tr>\n",
       "  </thead>\n",
       "  <tbody>\n",
       "    <tr>\n",
       "      <th>0</th>\n",
       "      <td>1</td>\n",
       "      <td>1</td>\n",
       "      <td>1</td>\n",
       "      <td>1</td>\n",
       "      <td>1</td>\n",
       "      <td>1</td>\n",
       "      <td>1</td>\n",
       "      <td>1</td>\n",
       "    </tr>\n",
       "    <tr>\n",
       "      <th>1</th>\n",
       "      <td>1</td>\n",
       "      <td>1</td>\n",
       "      <td>1</td>\n",
       "      <td>0</td>\n",
       "      <td>1</td>\n",
       "      <td>1</td>\n",
       "      <td>1</td>\n",
       "      <td>1</td>\n",
       "    </tr>\n",
       "    <tr>\n",
       "      <th>2</th>\n",
       "      <td>1</td>\n",
       "      <td>1</td>\n",
       "      <td>1</td>\n",
       "      <td>1</td>\n",
       "      <td>1</td>\n",
       "      <td>1</td>\n",
       "      <td>1</td>\n",
       "      <td>1</td>\n",
       "    </tr>\n",
       "    <tr>\n",
       "      <th>3</th>\n",
       "      <td>1</td>\n",
       "      <td>0</td>\n",
       "      <td>1</td>\n",
       "      <td>1</td>\n",
       "      <td>1</td>\n",
       "      <td>1</td>\n",
       "      <td>0</td>\n",
       "      <td>1</td>\n",
       "    </tr>\n",
       "    <tr>\n",
       "      <th>4</th>\n",
       "      <td>1</td>\n",
       "      <td>1</td>\n",
       "      <td>1</td>\n",
       "      <td>1</td>\n",
       "      <td>1</td>\n",
       "      <td>1</td>\n",
       "      <td>1</td>\n",
       "      <td>1</td>\n",
       "    </tr>\n",
       "  </tbody>\n",
       "</table>\n",
       "</div>"
      ],
      "text/plain": [
       "   BldgType_1Fam  BsmtCond_TA  BsmtFinType2_Unf  Condition1_Norm  \\\n",
       "0              1            1                 1                1   \n",
       "1              1            1                 1                0   \n",
       "2              1            1                 1                1   \n",
       "3              1            0                 1                1   \n",
       "4              1            1                 1                1   \n",
       "\n",
       "   GarageQual_TA  LandContour_Lvl  SaleCondition_Normal  SaleType_WD  \n",
       "0              1                1                     1            1  \n",
       "1              1                1                     1            1  \n",
       "2              1                1                     1            1  \n",
       "3              1                1                     0            1  \n",
       "4              1                1                     1            1  "
      ]
     },
     "execution_count": 31,
     "metadata": {},
     "output_type": "execute_result"
    }
   ],
   "source": [
    "two_unique = two_unique[two_unique.columns.difference(yes_no_count[yes_no_count['%_imbalance'] < 10].index)]\n",
    "two_unique.head()"
   ]
  },
  {
   "cell_type": "code",
   "execution_count": 32,
   "metadata": {},
   "outputs": [],
   "source": [
    "house = house[house.columns.difference(unique[unique == 2].index)]\n",
    "house[two_unique.columns] = two_unique\n",
    "\n"
   ]
  },
  {
   "cell_type": "markdown",
   "metadata": {},
   "source": [
    "## Lets check other categorical columns and create dummies for these also"
   ]
  },
  {
   "cell_type": "code",
   "execution_count": 33,
   "metadata": {},
   "outputs": [
    {
     "data": {
      "text/plain": [
       "BsmtExposure        3\n",
       "BsmtFinType1        5\n",
       "BsmtQual            3\n",
       "ExterCond           3\n",
       "ExterQual           3\n",
       "Exterior1st         5\n",
       "Exterior2nd         5\n",
       "Fence               3\n",
       "FireplaceQu         4\n",
       "Foundation          4\n",
       "GarageFinish        4\n",
       "GarageType          3\n",
       "Garage_age_quant    4\n",
       "HeatingQC           4\n",
       "HouseStyle          4\n",
       "KitchenQual         3\n",
       "LotConfig           3\n",
       "LotShape            3\n",
       "MSZoning            3\n",
       "Neighborhood        3\n",
       "RoofStyle           3\n",
       "dtype: int64"
      ]
     },
     "execution_count": 33,
     "metadata": {},
     "output_type": "execute_result"
    }
   ],
   "source": [
    "unique = house.select_dtypes(object).nunique()\n",
    "unique"
   ]
  },
  {
   "cell_type": "code",
   "execution_count": 34,
   "metadata": {},
   "outputs": [],
   "source": [
    "for x in unique.index: #looping on columns\n",
    "    dum = pd.get_dummies(house[x] , prefix = str(x))\n",
    "    dum = dum[dum.columns.difference([dum.sum().sort_values().index[0]])]\n",
    "    house = pd.concat([house,dum] , axis = 1)\n",
    "    del house[x]"
   ]
  },
  {
   "cell_type": "markdown",
   "metadata": {},
   "source": [
    "### Lets verify our final dataframe"
   ]
  },
  {
   "cell_type": "code",
   "execution_count": 35,
   "metadata": {},
   "outputs": [
    {
     "data": {
      "text/html": [
       "<div>\n",
       "<style scoped>\n",
       "    .dataframe tbody tr th:only-of-type {\n",
       "        vertical-align: middle;\n",
       "    }\n",
       "\n",
       "    .dataframe tbody tr th {\n",
       "        vertical-align: top;\n",
       "    }\n",
       "\n",
       "    .dataframe thead th {\n",
       "        text-align: right;\n",
       "    }\n",
       "</style>\n",
       "<table border=\"1\" class=\"dataframe\">\n",
       "  <thead>\n",
       "    <tr style=\"text-align: right;\">\n",
       "      <th></th>\n",
       "      <th>1stFlrSF</th>\n",
       "      <th>2ndFlrSF</th>\n",
       "      <th>3SsnPorch</th>\n",
       "      <th>BedroomAbvGr</th>\n",
       "      <th>BsmtFinSF1</th>\n",
       "      <th>BsmtFinSF2</th>\n",
       "      <th>BsmtFullBath</th>\n",
       "      <th>BsmtHalfBath</th>\n",
       "      <th>BsmtUnfSF</th>\n",
       "      <th>EnclosedPorch</th>\n",
       "      <th>...</th>\n",
       "      <th>LotConfig_Corner</th>\n",
       "      <th>LotConfig_Inside</th>\n",
       "      <th>LotShape_IR1</th>\n",
       "      <th>LotShape_Reg</th>\n",
       "      <th>MSZoning_RL</th>\n",
       "      <th>MSZoning_RM</th>\n",
       "      <th>Neighborhood_NAmes</th>\n",
       "      <th>Neighborhood_Other</th>\n",
       "      <th>RoofStyle_Gable</th>\n",
       "      <th>RoofStyle_Hip</th>\n",
       "    </tr>\n",
       "  </thead>\n",
       "  <tbody>\n",
       "    <tr>\n",
       "      <th>0</th>\n",
       "      <td>856</td>\n",
       "      <td>854</td>\n",
       "      <td>0</td>\n",
       "      <td>3</td>\n",
       "      <td>706</td>\n",
       "      <td>0</td>\n",
       "      <td>1</td>\n",
       "      <td>0</td>\n",
       "      <td>150</td>\n",
       "      <td>0</td>\n",
       "      <td>...</td>\n",
       "      <td>0</td>\n",
       "      <td>1</td>\n",
       "      <td>0</td>\n",
       "      <td>1</td>\n",
       "      <td>1</td>\n",
       "      <td>0</td>\n",
       "      <td>0</td>\n",
       "      <td>0</td>\n",
       "      <td>1</td>\n",
       "      <td>0</td>\n",
       "    </tr>\n",
       "    <tr>\n",
       "      <th>1</th>\n",
       "      <td>1262</td>\n",
       "      <td>0</td>\n",
       "      <td>0</td>\n",
       "      <td>3</td>\n",
       "      <td>978</td>\n",
       "      <td>0</td>\n",
       "      <td>0</td>\n",
       "      <td>1</td>\n",
       "      <td>284</td>\n",
       "      <td>0</td>\n",
       "      <td>...</td>\n",
       "      <td>0</td>\n",
       "      <td>0</td>\n",
       "      <td>0</td>\n",
       "      <td>1</td>\n",
       "      <td>1</td>\n",
       "      <td>0</td>\n",
       "      <td>0</td>\n",
       "      <td>1</td>\n",
       "      <td>1</td>\n",
       "      <td>0</td>\n",
       "    </tr>\n",
       "    <tr>\n",
       "      <th>2</th>\n",
       "      <td>920</td>\n",
       "      <td>866</td>\n",
       "      <td>0</td>\n",
       "      <td>3</td>\n",
       "      <td>486</td>\n",
       "      <td>0</td>\n",
       "      <td>1</td>\n",
       "      <td>0</td>\n",
       "      <td>434</td>\n",
       "      <td>0</td>\n",
       "      <td>...</td>\n",
       "      <td>0</td>\n",
       "      <td>1</td>\n",
       "      <td>1</td>\n",
       "      <td>0</td>\n",
       "      <td>1</td>\n",
       "      <td>0</td>\n",
       "      <td>0</td>\n",
       "      <td>0</td>\n",
       "      <td>1</td>\n",
       "      <td>0</td>\n",
       "    </tr>\n",
       "    <tr>\n",
       "      <th>3</th>\n",
       "      <td>961</td>\n",
       "      <td>756</td>\n",
       "      <td>0</td>\n",
       "      <td>3</td>\n",
       "      <td>216</td>\n",
       "      <td>0</td>\n",
       "      <td>1</td>\n",
       "      <td>0</td>\n",
       "      <td>540</td>\n",
       "      <td>272</td>\n",
       "      <td>...</td>\n",
       "      <td>1</td>\n",
       "      <td>0</td>\n",
       "      <td>1</td>\n",
       "      <td>0</td>\n",
       "      <td>1</td>\n",
       "      <td>0</td>\n",
       "      <td>0</td>\n",
       "      <td>1</td>\n",
       "      <td>1</td>\n",
       "      <td>0</td>\n",
       "    </tr>\n",
       "    <tr>\n",
       "      <th>4</th>\n",
       "      <td>1145</td>\n",
       "      <td>1053</td>\n",
       "      <td>0</td>\n",
       "      <td>4</td>\n",
       "      <td>655</td>\n",
       "      <td>0</td>\n",
       "      <td>1</td>\n",
       "      <td>0</td>\n",
       "      <td>490</td>\n",
       "      <td>0</td>\n",
       "      <td>...</td>\n",
       "      <td>0</td>\n",
       "      <td>0</td>\n",
       "      <td>1</td>\n",
       "      <td>0</td>\n",
       "      <td>1</td>\n",
       "      <td>0</td>\n",
       "      <td>0</td>\n",
       "      <td>1</td>\n",
       "      <td>1</td>\n",
       "      <td>0</td>\n",
       "    </tr>\n",
       "  </tbody>\n",
       "</table>\n",
       "<p>5 rows × 98 columns</p>\n",
       "</div>"
      ],
      "text/plain": [
       "   1stFlrSF  2ndFlrSF  3SsnPorch  BedroomAbvGr  BsmtFinSF1  BsmtFinSF2  \\\n",
       "0       856       854          0             3         706           0   \n",
       "1      1262         0          0             3         978           0   \n",
       "2       920       866          0             3         486           0   \n",
       "3       961       756          0             3         216           0   \n",
       "4      1145      1053          0             4         655           0   \n",
       "\n",
       "   BsmtFullBath  BsmtHalfBath  BsmtUnfSF  EnclosedPorch  ...  \\\n",
       "0             1             0        150              0  ...   \n",
       "1             0             1        284              0  ...   \n",
       "2             1             0        434              0  ...   \n",
       "3             1             0        540            272  ...   \n",
       "4             1             0        490              0  ...   \n",
       "\n",
       "   LotConfig_Corner  LotConfig_Inside  LotShape_IR1  LotShape_Reg  \\\n",
       "0                 0                 1             0             1   \n",
       "1                 0                 0             0             1   \n",
       "2                 0                 1             1             0   \n",
       "3                 1                 0             1             0   \n",
       "4                 0                 0             1             0   \n",
       "\n",
       "   MSZoning_RL  MSZoning_RM  Neighborhood_NAmes  Neighborhood_Other  \\\n",
       "0            1            0                   0                   0   \n",
       "1            1            0                   0                   1   \n",
       "2            1            0                   0                   0   \n",
       "3            1            0                   0                   1   \n",
       "4            1            0                   0                   1   \n",
       "\n",
       "   RoofStyle_Gable  RoofStyle_Hip  \n",
       "0                1              0  \n",
       "1                1              0  \n",
       "2                1              0  \n",
       "3                1              0  \n",
       "4                1              0  \n",
       "\n",
       "[5 rows x 98 columns]"
      ]
     },
     "execution_count": 35,
     "metadata": {},
     "output_type": "execute_result"
    }
   ],
   "source": [
    "house.head()"
   ]
  },
  {
   "cell_type": "markdown",
   "metadata": {},
   "source": [
    "## Lets do some anaylsis with numerical features"
   ]
  },
  {
   "cell_type": "code",
   "execution_count": 36,
   "metadata": {},
   "outputs": [
    {
     "data": {
      "text/plain": [
       "MSSubClass          15\n",
       "LotArea           1072\n",
       "OverallQual         10\n",
       "OverallCond          9\n",
       "YearBuilt          112\n",
       "YearRemodAdd        61\n",
       "BsmtFinSF1         637\n",
       "BsmtFinSF2         144\n",
       "BsmtUnfSF          780\n",
       "TotalBsmtSF        721\n",
       "1stFlrSF           752\n",
       "2ndFlrSF           417\n",
       "LowQualFinSF        24\n",
       "GrLivArea          861\n",
       "BsmtFullBath         4\n",
       "BsmtHalfBath         3\n",
       "FullBath             4\n",
       "HalfBath             3\n",
       "BedroomAbvGr         8\n",
       "KitchenAbvGr         4\n",
       "TotRmsAbvGrd        12\n",
       "Fireplaces           4\n",
       "GarageCars           5\n",
       "GarageArea         441\n",
       "WoodDeckSF         274\n",
       "OpenPorchSF        202\n",
       "EnclosedPorch      120\n",
       "3SsnPorch           20\n",
       "ScreenPorch         76\n",
       "PoolArea             8\n",
       "MiscVal             21\n",
       "MoSold              12\n",
       "YrSold               5\n",
       "SalePrice          663\n",
       "Venner_present       2\n",
       "dtype: int64"
      ]
     },
     "execution_count": 36,
     "metadata": {},
     "output_type": "execute_result"
    }
   ],
   "source": [
    "del house['Id']\n",
    "cont = cont[~ cont.index.isin(['Id'])]\n",
    "cont"
   ]
  },
  {
   "cell_type": "markdown",
   "metadata": {},
   "source": [
    "## Lets choose few continuous features and plot its relation with our target variable 'SalePrice'"
   ]
  },
  {
   "cell_type": "code",
   "execution_count": 37,
   "metadata": {},
   "outputs": [
    {
     "data": {
      "text/plain": [
       "Index(['LotArea', 'GrLivArea', 'BsmtUnfSF', '1stFlrSF', 'TotalBsmtSF',\n",
       "       'SalePrice', 'BsmtFinSF1', 'GarageArea'],\n",
       "      dtype='object')"
      ]
     },
     "execution_count": 37,
     "metadata": {},
     "output_type": "execute_result"
    }
   ],
   "source": [
    "few_cont = cont.sort_values(ascending = False)[:8].index\n",
    "few_cont"
   ]
  },
  {
   "cell_type": "code",
   "execution_count": 38,
   "metadata": {},
   "outputs": [
    {
     "data": {
      "text/plain": [
       "<seaborn.axisgrid.PairGrid at 0x7fb39079bdd8>"
      ]
     },
     "execution_count": 38,
     "metadata": {},
     "output_type": "execute_result"
    },
    {
     "data": {
      "image/png": "[encoded data removed]",
      "text/plain": [
       "<Figure size 1260x180 with 7 Axes>"
      ]
     },
     "metadata": {
      "needs_background": "light"
     },
     "output_type": "display_data"
    }
   ],
   "source": [
    "sns.pairplot(y_vars = ['SalePrice'] , x_vars = few_cont.difference(['SalePrice']) , data = house)"
   ]
  },
  {
   "cell_type": "markdown",
   "metadata": {},
   "source": [
    "## We can observe quiet a good amount of relation with our target variable. Lets plot a heatmap to visualize the co-relation even better"
   ]
  },
  {
   "cell_type": "code",
   "execution_count": 39,
   "metadata": {},
   "outputs": [
    {
     "data": {
      "text/plain": [
       "<matplotlib.axes._subplots.AxesSubplot at 0x7fb3c87c87b8>"
      ]
     },
     "execution_count": 39,
     "metadata": {},
     "output_type": "execute_result"
    },
    {
     "data": {
      "image/png": "[encoded data removed]",
      "text/plain": [
       "<Figure size 720x720 with 2 Axes>"
      ]
     },
     "metadata": {
      "needs_background": "light"
     },
     "output_type": "display_data"
    }
   ],
   "source": [
    "cor_mat = house.corr()\n",
    "plt.figure(figsize = (10,10))\n",
    "sns.heatmap(cor_mat)"
   ]
  },
  {
   "cell_type": "markdown",
   "metadata": {},
   "source": [
    "## 'Lets check the top 10 most co-related variables with our target column'"
   ]
  },
  {
   "cell_type": "code",
   "execution_count": 40,
   "metadata": {},
   "outputs": [
    {
     "data": {
      "text/html": [
       "<div>\n",
       "<style scoped>\n",
       "    .dataframe tbody tr th:only-of-type {\n",
       "        vertical-align: middle;\n",
       "    }\n",
       "\n",
       "    .dataframe tbody tr th {\n",
       "        vertical-align: top;\n",
       "    }\n",
       "\n",
       "    .dataframe thead th {\n",
       "        text-align: right;\n",
       "    }\n",
       "</style>\n",
       "<table border=\"1\" class=\"dataframe\">\n",
       "  <thead>\n",
       "    <tr style=\"text-align: right;\">\n",
       "      <th></th>\n",
       "      <th>Top 10 co-relations with Target Column</th>\n",
       "    </tr>\n",
       "  </thead>\n",
       "  <tbody>\n",
       "    <tr>\n",
       "      <th>OverallQual</th>\n",
       "      <td>0.791069</td>\n",
       "    </tr>\n",
       "    <tr>\n",
       "      <th>GrLivArea</th>\n",
       "      <td>0.708618</td>\n",
       "    </tr>\n",
       "    <tr>\n",
       "      <th>GarageCars</th>\n",
       "      <td>0.640473</td>\n",
       "    </tr>\n",
       "    <tr>\n",
       "      <th>GarageArea</th>\n",
       "      <td>0.623423</td>\n",
       "    </tr>\n",
       "    <tr>\n",
       "      <th>TotalBsmtSF</th>\n",
       "      <td>0.613905</td>\n",
       "    </tr>\n",
       "    <tr>\n",
       "      <th>1stFlrSF</th>\n",
       "      <td>0.605968</td>\n",
       "    </tr>\n",
       "    <tr>\n",
       "      <th>ExterQual_TA</th>\n",
       "      <td>0.589082</td>\n",
       "    </tr>\n",
       "    <tr>\n",
       "      <th>FullBath</th>\n",
       "      <td>0.560881</td>\n",
       "    </tr>\n",
       "    <tr>\n",
       "      <th>TotRmsAbvGrd</th>\n",
       "      <td>0.533779</td>\n",
       "    </tr>\n",
       "    <tr>\n",
       "      <th>YearBuilt</th>\n",
       "      <td>0.523273</td>\n",
       "    </tr>\n",
       "  </tbody>\n",
       "</table>\n",
       "</div>"
      ],
      "text/plain": [
       "              Top 10 co-relations with Target Column\n",
       "OverallQual                                 0.791069\n",
       "GrLivArea                                   0.708618\n",
       "GarageCars                                  0.640473\n",
       "GarageArea                                  0.623423\n",
       "TotalBsmtSF                                 0.613905\n",
       "1stFlrSF                                    0.605968\n",
       "ExterQual_TA                                0.589082\n",
       "FullBath                                    0.560881\n",
       "TotRmsAbvGrd                                0.533779\n",
       "YearBuilt                                   0.523273"
      ]
     },
     "execution_count": 40,
     "metadata": {},
     "output_type": "execute_result"
    }
   ],
   "source": [
    "top_10 = abs(cor_mat['SalePrice']).sort_values(ascending = False)[1:][:10].rename('Top 10 co-relations with Target Column').to_frame()\n",
    "top_10"
   ]
  },
  {
   "cell_type": "markdown",
   "metadata": {},
   "source": [
    "# Modelling"
   ]
  },
  {
   "cell_type": "code",
   "execution_count": 41,
   "metadata": {},
   "outputs": [],
   "source": [
    "y = house.pop('SalePrice')\n",
    "X = house"
   ]
  },
  {
   "cell_type": "markdown",
   "metadata": {},
   "source": [
    "## Lets check the distribution of our target column to verify the normality assumption"
   ]
  },
  {
   "cell_type": "code",
   "execution_count": 42,
   "metadata": {},
   "outputs": [
    {
     "data": {
      "text/plain": [
       "<matplotlib.axes._subplots.AxesSubplot at 0x7fb398c5dd68>"
      ]
     },
     "execution_count": 42,
     "metadata": {},
     "output_type": "execute_result"
    },
    {
     "data": {
      "image/png": "[encoded data removed]",
      "text/plain": [
       "<Figure size 432x288 with 1 Axes>"
      ]
     },
     "metadata": {
      "needs_background": "light"
     },
     "output_type": "display_data"
    }
   ],
   "source": [
    "sns.distplot(y)"
   ]
  },
  {
   "cell_type": "markdown",
   "metadata": {},
   "source": [
    "## We can see that the distribution is skewed. Lets do logarithmic transformation and check if we can change it to normal "
   ]
  },
  {
   "cell_type": "code",
   "execution_count": 43,
   "metadata": {},
   "outputs": [
    {
     "data": {
      "text/plain": [
       "<matplotlib.axes._subplots.AxesSubplot at 0x7fb34803a5f8>"
      ]
     },
     "execution_count": 43,
     "metadata": {},
     "output_type": "execute_result"
    },
    {
     "data": {
      "image/png": "[encoded data removed]",
      "text/plain": [
       "<Figure size 432x288 with 1 Axes>"
      ]
     },
     "metadata": {
      "needs_background": "light"
     },
     "output_type": "display_data"
    }
   ],
   "source": [
    "sns.distplot(np.log(y))"
   ]
  },
  {
   "cell_type": "code",
   "execution_count": 44,
   "metadata": {},
   "outputs": [],
   "source": [
    "y = np.log(y)"
   ]
  },
  {
   "cell_type": "markdown",
   "metadata": {},
   "source": [
    "## Lets convert all our dependendent variables in the same scale.Lets use normalization here"
   ]
  },
  {
   "cell_type": "code",
   "execution_count": 45,
   "metadata": {},
   "outputs": [],
   "source": [
    "from sklearn.preprocessing import MinMaxScaler\n",
    "\n",
    "scaler = MinMaxScaler()\n",
    "\n",
    "X[X.columns] = scaler.fit_transform(X)"
   ]
  },
  {
   "cell_type": "markdown",
   "metadata": {},
   "source": [
    "### Train - test split"
   ]
  },
  {
   "cell_type": "code",
   "execution_count": 46,
   "metadata": {},
   "outputs": [],
   "source": [
    "from sklearn.model_selection import train_test_split\n",
    "X_train, X_test, y_train, y_test = train_test_split(X, y, train_size=0.8, test_size=0.2, random_state=100)"
   ]
  },
  {
   "cell_type": "markdown",
   "metadata": {},
   "source": [
    "## Lets import the necessary libraries. For building model using ridge and lasso regression we need to choose the value of alpha which indicates on which extent we penalize the model to reduce model complexity. For this we use cross validation and GridSearchCv. Lets build the model "
   ]
  },
  {
   "cell_type": "markdown",
   "metadata": {},
   "source": [
    "## `As our goal is also to see which variables influence the price of the house it is a better strategy to use RFE to pick top 10 features and use those features for building model using 'ridge regression'"
   ]
  },
  {
   "cell_type": "code",
   "execution_count": 47,
   "metadata": {},
   "outputs": [
    {
     "name": "stdout",
     "output_type": "stream",
     "text": [
      "Fitting 5 folds for each of 20 candidates, totalling 100 fits\n"
     ]
    },
    {
     "name": "stderr",
     "output_type": "stream",
     "text": [
      "[Parallel(n_jobs=1)]: Using backend SequentialBackend with 1 concurrent workers.\n",
      "[Parallel(n_jobs=1)]: Done 100 out of 100 | elapsed:    0.3s finished\n"
     ]
    },
    {
     "data": {
      "text/plain": [
       "GridSearchCV(cv=5, error_score='raise-deprecating',\n",
       "             estimator=Ridge(alpha=1.0, copy_X=True, fit_intercept=True,\n",
       "                             max_iter=None, normalize=False, random_state=None,\n",
       "                             solver='auto', tol=0.001),\n",
       "             iid='warn', n_jobs=None,\n",
       "             param_grid={'alpha': [0.0001, 0.001, 0.01, 0.05, 0.1, 0.2, 0.3,\n",
       "                                   0.4, 0.5, 0.6, 0.7, 0.8, 0.9, 1.0, 2.0, 3.0,\n",
       "                                   4.0, 5.0, 6.0, 7.0]},\n",
       "             pre_dispatch='2*n_jobs', refit=True, return_train_score=True,\n",
       "             scoring='neg_mean_squared_error', verbose=1)"
      ]
     },
     "execution_count": 47,
     "metadata": {},
     "output_type": "execute_result"
    }
   ],
   "source": [
    "from sklearn.linear_model import LinearRegression\n",
    "from sklearn.model_selection import cross_val_score\n",
    "from sklearn.linear_model import Ridge\n",
    "from sklearn.linear_model import Lasso\n",
    "from sklearn.model_selection import GridSearchCV\n",
    "from sklearn.feature_selection import RFE\n",
    "\n",
    "params = {'alpha': [0.0001, 0.001, 0.01, 0.05, 0.10,\n",
    " 0.2, 0.3, 0.4, 0.5, 0.6, 0.7, 0.8, 0.9, 1.0, 2.0, 3.0,4.0,5.0,6.0,7.0 ]}\n",
    "\n",
    "\n",
    "\n",
    "lr = LinearRegression()\n",
    "lr.fit(X_train, y_train)\n",
    "rfe = RFE(lr, 10)\n",
    "rfe.fit(X_train, y_train)\n",
    "col = X_train.columns[rfe.support_]\n",
    "X_train_rid = X_train[col]\n",
    "\n",
    "\n",
    "ridge = Ridge()\n",
    "\n",
    "\n",
    "# cross validation\n",
    "folds = 5\n",
    "model_cv = GridSearchCV(estimator = ridge, \n",
    "                        param_grid = params, \n",
    "                        scoring= 'neg_mean_squared_error', \n",
    "                        cv = folds, \n",
    "                        return_train_score=True,\n",
    "                        verbose = 1)            \n",
    "model_cv.fit(X_train_rid, y_train) "
   ]
  },
  {
   "cell_type": "markdown",
   "metadata": {},
   "source": [
    "## Lets see the results of our gridsearchcv"
   ]
  },
  {
   "cell_type": "code",
   "execution_count": 48,
   "metadata": {},
   "outputs": [
    {
     "data": {
      "text/html": [
       "<div>\n",
       "<style scoped>\n",
       "    .dataframe tbody tr th:only-of-type {\n",
       "        vertical-align: middle;\n",
       "    }\n",
       "\n",
       "    .dataframe tbody tr th {\n",
       "        vertical-align: top;\n",
       "    }\n",
       "\n",
       "    .dataframe thead th {\n",
       "        text-align: right;\n",
       "    }\n",
       "</style>\n",
       "<table border=\"1\" class=\"dataframe\">\n",
       "  <thead>\n",
       "    <tr style=\"text-align: right;\">\n",
       "      <th></th>\n",
       "      <th>mean_fit_time</th>\n",
       "      <th>std_fit_time</th>\n",
       "      <th>mean_score_time</th>\n",
       "      <th>std_score_time</th>\n",
       "      <th>param_alpha</th>\n",
       "      <th>params</th>\n",
       "      <th>split0_test_score</th>\n",
       "      <th>split1_test_score</th>\n",
       "      <th>split2_test_score</th>\n",
       "      <th>split3_test_score</th>\n",
       "      <th>...</th>\n",
       "      <th>mean_test_score</th>\n",
       "      <th>std_test_score</th>\n",
       "      <th>rank_test_score</th>\n",
       "      <th>split0_train_score</th>\n",
       "      <th>split1_train_score</th>\n",
       "      <th>split2_train_score</th>\n",
       "      <th>split3_train_score</th>\n",
       "      <th>split4_train_score</th>\n",
       "      <th>mean_train_score</th>\n",
       "      <th>std_train_score</th>\n",
       "    </tr>\n",
       "  </thead>\n",
       "  <tbody>\n",
       "    <tr>\n",
       "      <th>0</th>\n",
       "      <td>0.002170</td>\n",
       "      <td>0.000852</td>\n",
       "      <td>0.000838</td>\n",
       "      <td>0.000120</td>\n",
       "      <td>0.0001</td>\n",
       "      <td>{'alpha': 0.0001}</td>\n",
       "      <td>-0.038820</td>\n",
       "      <td>-0.019258</td>\n",
       "      <td>-0.021862</td>\n",
       "      <td>-0.061912</td>\n",
       "      <td>...</td>\n",
       "      <td>-0.031914</td>\n",
       "      <td>0.016781</td>\n",
       "      <td>20</td>\n",
       "      <td>-0.023022</td>\n",
       "      <td>-0.024003</td>\n",
       "      <td>-0.023466</td>\n",
       "      <td>-0.016300</td>\n",
       "      <td>-0.024320</td>\n",
       "      <td>-0.022222</td>\n",
       "      <td>0.002995</td>\n",
       "    </tr>\n",
       "    <tr>\n",
       "      <th>1</th>\n",
       "      <td>0.001694</td>\n",
       "      <td>0.000180</td>\n",
       "      <td>0.000749</td>\n",
       "      <td>0.000099</td>\n",
       "      <td>0.001</td>\n",
       "      <td>{'alpha': 0.001}</td>\n",
       "      <td>-0.038768</td>\n",
       "      <td>-0.019258</td>\n",
       "      <td>-0.021864</td>\n",
       "      <td>-0.061902</td>\n",
       "      <td>...</td>\n",
       "      <td>-0.031902</td>\n",
       "      <td>0.016773</td>\n",
       "      <td>19</td>\n",
       "      <td>-0.023022</td>\n",
       "      <td>-0.024003</td>\n",
       "      <td>-0.023466</td>\n",
       "      <td>-0.016300</td>\n",
       "      <td>-0.024320</td>\n",
       "      <td>-0.022222</td>\n",
       "      <td>0.002995</td>\n",
       "    </tr>\n",
       "    <tr>\n",
       "      <th>2</th>\n",
       "      <td>0.001546</td>\n",
       "      <td>0.000210</td>\n",
       "      <td>0.000695</td>\n",
       "      <td>0.000061</td>\n",
       "      <td>0.01</td>\n",
       "      <td>{'alpha': 0.01}</td>\n",
       "      <td>-0.038265</td>\n",
       "      <td>-0.019260</td>\n",
       "      <td>-0.021883</td>\n",
       "      <td>-0.061804</td>\n",
       "      <td>...</td>\n",
       "      <td>-0.031789</td>\n",
       "      <td>0.016693</td>\n",
       "      <td>18</td>\n",
       "      <td>-0.023023</td>\n",
       "      <td>-0.024003</td>\n",
       "      <td>-0.023467</td>\n",
       "      <td>-0.016300</td>\n",
       "      <td>-0.024320</td>\n",
       "      <td>-0.022222</td>\n",
       "      <td>0.002995</td>\n",
       "    </tr>\n",
       "    <tr>\n",
       "      <th>3</th>\n",
       "      <td>0.001506</td>\n",
       "      <td>0.000138</td>\n",
       "      <td>0.000705</td>\n",
       "      <td>0.000026</td>\n",
       "      <td>0.05</td>\n",
       "      <td>{'alpha': 0.05}</td>\n",
       "      <td>-0.036229</td>\n",
       "      <td>-0.019272</td>\n",
       "      <td>-0.021968</td>\n",
       "      <td>-0.061375</td>\n",
       "      <td>...</td>\n",
       "      <td>-0.031324</td>\n",
       "      <td>0.016377</td>\n",
       "      <td>17</td>\n",
       "      <td>-0.023034</td>\n",
       "      <td>-0.024005</td>\n",
       "      <td>-0.023468</td>\n",
       "      <td>-0.016301</td>\n",
       "      <td>-0.024321</td>\n",
       "      <td>-0.022226</td>\n",
       "      <td>0.002995</td>\n",
       "    </tr>\n",
       "    <tr>\n",
       "      <th>4</th>\n",
       "      <td>0.001499</td>\n",
       "      <td>0.000224</td>\n",
       "      <td>0.000743</td>\n",
       "      <td>0.000063</td>\n",
       "      <td>0.1</td>\n",
       "      <td>{'alpha': 0.1}</td>\n",
       "      <td>-0.034073</td>\n",
       "      <td>-0.019291</td>\n",
       "      <td>-0.022074</td>\n",
       "      <td>-0.060855</td>\n",
       "      <td>...</td>\n",
       "      <td>-0.030825</td>\n",
       "      <td>0.016052</td>\n",
       "      <td>16</td>\n",
       "      <td>-0.023064</td>\n",
       "      <td>-0.024009</td>\n",
       "      <td>-0.023471</td>\n",
       "      <td>-0.016306</td>\n",
       "      <td>-0.024325</td>\n",
       "      <td>-0.022235</td>\n",
       "      <td>0.002996</td>\n",
       "    </tr>\n",
       "  </tbody>\n",
       "</table>\n",
       "<p>5 rows × 21 columns</p>\n",
       "</div>"
      ],
      "text/plain": [
       "   mean_fit_time  std_fit_time  mean_score_time  std_score_time param_alpha  \\\n",
       "0       0.002170      0.000852         0.000838        0.000120      0.0001   \n",
       "1       0.001694      0.000180         0.000749        0.000099       0.001   \n",
       "2       0.001546      0.000210         0.000695        0.000061        0.01   \n",
       "3       0.001506      0.000138         0.000705        0.000026        0.05   \n",
       "4       0.001499      0.000224         0.000743        0.000063         0.1   \n",
       "\n",
       "              params  split0_test_score  split1_test_score  split2_test_score  \\\n",
       "0  {'alpha': 0.0001}          -0.038820          -0.019258          -0.021862   \n",
       "1   {'alpha': 0.001}          -0.038768          -0.019258          -0.021864   \n",
       "2    {'alpha': 0.01}          -0.038265          -0.019260          -0.021883   \n",
       "3    {'alpha': 0.05}          -0.036229          -0.019272          -0.021968   \n",
       "4     {'alpha': 0.1}          -0.034073          -0.019291          -0.022074   \n",
       "\n",
       "   split3_test_score  ...  mean_test_score  std_test_score  rank_test_score  \\\n",
       "0          -0.061912  ...        -0.031914        0.016781               20   \n",
       "1          -0.061902  ...        -0.031902        0.016773               19   \n",
       "2          -0.061804  ...        -0.031789        0.016693               18   \n",
       "3          -0.061375  ...        -0.031324        0.016377               17   \n",
       "4          -0.060855  ...        -0.030825        0.016052               16   \n",
       "\n",
       "   split0_train_score  split1_train_score  split2_train_score  \\\n",
       "0           -0.023022           -0.024003           -0.023466   \n",
       "1           -0.023022           -0.024003           -0.023466   \n",
       "2           -0.023023           -0.024003           -0.023467   \n",
       "3           -0.023034           -0.024005           -0.023468   \n",
       "4           -0.023064           -0.024009           -0.023471   \n",
       "\n",
       "   split3_train_score  split4_train_score  mean_train_score  std_train_score  \n",
       "0           -0.016300           -0.024320         -0.022222         0.002995  \n",
       "1           -0.016300           -0.024320         -0.022222         0.002995  \n",
       "2           -0.016300           -0.024320         -0.022222         0.002995  \n",
       "3           -0.016301           -0.024321         -0.022226         0.002995  \n",
       "4           -0.016306           -0.024325         -0.022235         0.002996  \n",
       "\n",
       "[5 rows x 21 columns]"
      ]
     },
     "execution_count": 48,
     "metadata": {},
     "output_type": "execute_result"
    }
   ],
   "source": [
    "cv_results = pd.DataFrame(model_cv.cv_results_)\n",
    "cv_results.head()"
   ]
  },
  {
   "cell_type": "markdown",
   "metadata": {},
   "source": [
    "## Choosing 'alpha' for ridge regression"
   ]
  },
  {
   "cell_type": "code",
   "execution_count": 49,
   "metadata": {},
   "outputs": [
    {
     "data": {
      "image/png": "[encoded data removed]",
      "text/plain": [
       "<Figure size 432x288 with 1 Axes>"
      ]
     },
     "metadata": {
      "needs_background": "light"
     },
     "output_type": "display_data"
    }
   ],
   "source": [
    "# plotting mean test and train scoes with alpha \n",
    "cv_results['param_alpha'] = cv_results['param_alpha'].astype('int32')\n",
    "\n",
    "# plotting\n",
    "plt.plot(cv_results['param_alpha'], cv_results['mean_train_score'])\n",
    "plt.plot(cv_results['param_alpha'], cv_results['mean_test_score'])\n",
    "plt.xlabel('alpha')\n",
    "plt.ylabel('Negative Mean Squared error')\n",
    "plt.title('Relation b/w Negative Mean Squared error and alpha for train and test respectively')\n",
    "plt.legend(['train score', 'test score'], loc='upper left')\n",
    "plt.show()"
   ]
  },
  {
   "cell_type": "markdown",
   "metadata": {},
   "source": [
    "## Lets check the best alpha value"
   ]
  },
  {
   "cell_type": "code",
   "execution_count": 50,
   "metadata": {},
   "outputs": [
    {
     "data": {
      "text/plain": [
       "2.0"
      ]
     },
     "execution_count": 50,
     "metadata": {},
     "output_type": "execute_result"
    }
   ],
   "source": [
    "model_cv.best_params_['alpha']"
   ]
  },
  {
   "cell_type": "markdown",
   "metadata": {},
   "source": [
    "## Lets now build the model using 'ridge' and check its co-efficients"
   ]
  },
  {
   "cell_type": "code",
   "execution_count": 51,
   "metadata": {},
   "outputs": [
    {
     "data": {
      "text/plain": [
       "array([ 0.20265759,  0.20460901,  0.37500579,  1.01259631,  0.29015054,\n",
       "        0.40857999,  0.78263448, -0.18901568,  0.46179119, -0.45969458])"
      ]
     },
     "execution_count": 51,
     "metadata": {},
     "output_type": "execute_result"
    }
   ],
   "source": [
    "best = model_cv.best_params_['alpha']\n",
    "ridge = Ridge(alpha = best)\n",
    "\n",
    "ridge.fit(X_train_rid, y_train)\n",
    "ridge.coef_"
   ]
  },
  {
   "cell_type": "markdown",
   "metadata": {},
   "source": [
    "## Lets now verify the r-squared of train and test set . As the main motive of ridge regression is to reduce model complexity and generalize unseen data very well the r-squared must of the train must be very close to that of test which indicates the model is not overfitted. Lets check it"
   ]
  },
  {
   "cell_type": "code",
   "execution_count": 52,
   "metadata": {},
   "outputs": [
    {
     "name": "stdout",
     "output_type": "stream",
     "text": [
      "0.851123769752389\n",
      "0.8470951626041606\n"
     ]
    }
   ],
   "source": [
    "from sklearn import metrics\n",
    "y_train_pred = ridge.predict(X_train_rid)\n",
    "print(metrics.r2_score(y_true=y_train, y_pred=y_train_pred))\n",
    "y_test_pred = ridge.predict(X_test[X_train_rid.columns])\n",
    "print(metrics.r2_score(y_true=y_test, y_pred=y_test_pred))"
   ]
  },
  {
   "cell_type": "markdown",
   "metadata": {},
   "source": [
    "## `Lets check the co-efficients generated through the model so that we can check which variables are significant in predicting the price of a house and how well those variables describe the price of a house.`\n",
    "\n",
    " "
   ]
  },
  {
   "cell_type": "code",
   "execution_count": 53,
   "metadata": {},
   "outputs": [
    {
     "data": {
      "text/html": [
       "<div>\n",
       "<style scoped>\n",
       "    .dataframe tbody tr th:only-of-type {\n",
       "        vertical-align: middle;\n",
       "    }\n",
       "\n",
       "    .dataframe tbody tr th {\n",
       "        vertical-align: top;\n",
       "    }\n",
       "\n",
       "    .dataframe thead th {\n",
       "        text-align: right;\n",
       "    }\n",
       "</style>\n",
       "<table border=\"1\" class=\"dataframe\">\n",
       "  <thead>\n",
       "    <tr style=\"text-align: right;\">\n",
       "      <th></th>\n",
       "      <th>Co-efficients</th>\n",
       "    </tr>\n",
       "  </thead>\n",
       "  <tbody>\n",
       "    <tr>\n",
       "      <th>GrLivArea</th>\n",
       "      <td>1.012596</td>\n",
       "    </tr>\n",
       "    <tr>\n",
       "      <th>OverallQual</th>\n",
       "      <td>0.782634</td>\n",
       "    </tr>\n",
       "    <tr>\n",
       "      <th>TotalBsmtSF</th>\n",
       "      <td>0.461791</td>\n",
       "    </tr>\n",
       "    <tr>\n",
       "      <th>OverallCond</th>\n",
       "      <td>0.408580</td>\n",
       "    </tr>\n",
       "    <tr>\n",
       "      <th>GarageCars</th>\n",
       "      <td>0.375006</td>\n",
       "    </tr>\n",
       "    <tr>\n",
       "      <th>LotArea</th>\n",
       "      <td>0.290151</td>\n",
       "    </tr>\n",
       "    <tr>\n",
       "      <th>Fireplaces</th>\n",
       "      <td>0.204609</td>\n",
       "    </tr>\n",
       "    <tr>\n",
       "      <th>BsmtFullBath</th>\n",
       "      <td>0.202658</td>\n",
       "    </tr>\n",
       "    <tr>\n",
       "      <th>PoolArea</th>\n",
       "      <td>-0.189016</td>\n",
       "    </tr>\n",
       "    <tr>\n",
       "      <th>YearBuilt</th>\n",
       "      <td>-0.459695</td>\n",
       "    </tr>\n",
       "  </tbody>\n",
       "</table>\n",
       "</div>"
      ],
      "text/plain": [
       "              Co-efficients\n",
       "GrLivArea          1.012596\n",
       "OverallQual        0.782634\n",
       "TotalBsmtSF        0.461791\n",
       "OverallCond        0.408580\n",
       "GarageCars         0.375006\n",
       "LotArea            0.290151\n",
       "Fireplaces         0.204609\n",
       "BsmtFullBath       0.202658\n",
       "PoolArea          -0.189016\n",
       "YearBuilt         -0.459695"
      ]
     },
     "execution_count": 53,
     "metadata": {},
     "output_type": "execute_result"
    }
   ],
   "source": [
    "ridge_model = pd.DataFrame()\n",
    "ridge_model['Co-efficients'] = ridge.coef_\n",
    "ridge_model.index = X_train_rid.columns\n",
    "ridge_model = ridge_model[ridge_model['Co-efficients'] != 0]\n",
    "ridge_model.sort_values(by = 'Co-efficients' , ascending = False)"
   ]
  },
  {
   "cell_type": "markdown",
   "metadata": {},
   "source": [
    "## Lets follow the same process for Lasso Regression but lets use 15 features in Rfe because by nature 'lasso' penalizes co-efficients very high and therefore acts as a .means of feature selection. Also, as penalization is heavy here lets use smaller set of params of 'alpha' "
   ]
  },
  {
   "cell_type": "code",
   "execution_count": 54,
   "metadata": {},
   "outputs": [
    {
     "name": "stdout",
     "output_type": "stream",
     "text": [
      "Fitting 5 folds for each of 6 candidates, totalling 30 fits\n"
     ]
    },
    {
     "name": "stderr",
     "output_type": "stream",
     "text": [
      "[Parallel(n_jobs=1)]: Using backend SequentialBackend with 1 concurrent workers.\n",
      "[Parallel(n_jobs=1)]: Done  30 out of  30 | elapsed:    0.1s finished\n"
     ]
    },
    {
     "data": {
      "text/plain": [
       "GridSearchCV(cv=5, error_score='raise-deprecating',\n",
       "             estimator=Lasso(alpha=1.0, copy_X=True, fit_intercept=True,\n",
       "                             max_iter=1000, normalize=False, positive=False,\n",
       "                             precompute=False, random_state=None,\n",
       "                             selection='cyclic', tol=0.0001, warm_start=False),\n",
       "             iid='warn', n_jobs=None,\n",
       "             param_grid={'alpha': [0.0001, 0.0002, 0.0005, 0.001, 0.002,\n",
       "                                   0.005]},\n",
       "             pre_dispatch='2*n_jobs', refit=True, return_train_score=True,\n",
       "             scoring='neg_mean_squared_error', verbose=1)"
      ]
     },
     "execution_count": 54,
     "metadata": {},
     "output_type": "execute_result"
    }
   ],
   "source": [
    "lasso = Lasso()\n",
    "\n",
    "params = {'alpha': [0.0001, 0.0002,0.0005, 0.001 ,0.002,0.005]}\n",
    "\n",
    "\n",
    "\n",
    "lr = LinearRegression()\n",
    "lr.fit(X_train, y_train)\n",
    "rfe = RFE(lr, 15)\n",
    "rfe.fit(X_train, y_train)\n",
    "col = X_train.columns[rfe.support_]\n",
    "X_train_lasso = X_train[col]\n",
    "# cross validation\n",
    "\n",
    "model_cv1 = GridSearchCV(estimator = lasso, \n",
    "                        param_grid = params, \n",
    "                        scoring= 'neg_mean_squared_error', \n",
    "                        cv = folds, \n",
    "                        return_train_score=True,\n",
    "                        verbose = 1)            \n",
    "\n",
    "model_cv1.fit(X_train_lasso, y_train) "
   ]
  },
  {
   "cell_type": "code",
   "execution_count": 55,
   "metadata": {},
   "outputs": [
    {
     "data": {
      "text/html": [
       "<div>\n",
       "<style scoped>\n",
       "    .dataframe tbody tr th:only-of-type {\n",
       "        vertical-align: middle;\n",
       "    }\n",
       "\n",
       "    .dataframe tbody tr th {\n",
       "        vertical-align: top;\n",
       "    }\n",
       "\n",
       "    .dataframe thead th {\n",
       "        text-align: right;\n",
       "    }\n",
       "</style>\n",
       "<table border=\"1\" class=\"dataframe\">\n",
       "  <thead>\n",
       "    <tr style=\"text-align: right;\">\n",
       "      <th></th>\n",
       "      <th>mean_fit_time</th>\n",
       "      <th>std_fit_time</th>\n",
       "      <th>mean_score_time</th>\n",
       "      <th>std_score_time</th>\n",
       "      <th>param_alpha</th>\n",
       "      <th>params</th>\n",
       "      <th>split0_test_score</th>\n",
       "      <th>split1_test_score</th>\n",
       "      <th>split2_test_score</th>\n",
       "      <th>split3_test_score</th>\n",
       "      <th>...</th>\n",
       "      <th>mean_test_score</th>\n",
       "      <th>std_test_score</th>\n",
       "      <th>rank_test_score</th>\n",
       "      <th>split0_train_score</th>\n",
       "      <th>split1_train_score</th>\n",
       "      <th>split2_train_score</th>\n",
       "      <th>split3_train_score</th>\n",
       "      <th>split4_train_score</th>\n",
       "      <th>mean_train_score</th>\n",
       "      <th>std_train_score</th>\n",
       "    </tr>\n",
       "  </thead>\n",
       "  <tbody>\n",
       "    <tr>\n",
       "      <th>0</th>\n",
       "      <td>0.002140</td>\n",
       "      <td>0.000496</td>\n",
       "      <td>0.000740</td>\n",
       "      <td>0.000057</td>\n",
       "      <td>0.0001</td>\n",
       "      <td>{'alpha': 0.0001}</td>\n",
       "      <td>-0.031360</td>\n",
       "      <td>-0.020234</td>\n",
       "      <td>-0.022420</td>\n",
       "      <td>-0.056553</td>\n",
       "      <td>...</td>\n",
       "      <td>-0.029449</td>\n",
       "      <td>0.014378</td>\n",
       "      <td>5</td>\n",
       "      <td>-0.021802</td>\n",
       "      <td>-0.022060</td>\n",
       "      <td>-0.021648</td>\n",
       "      <td>-0.015539</td>\n",
       "      <td>-0.022819</td>\n",
       "      <td>-0.020774</td>\n",
       "      <td>0.002648</td>\n",
       "    </tr>\n",
       "    <tr>\n",
       "      <th>1</th>\n",
       "      <td>0.002090</td>\n",
       "      <td>0.000194</td>\n",
       "      <td>0.000855</td>\n",
       "      <td>0.000105</td>\n",
       "      <td>0.0002</td>\n",
       "      <td>{'alpha': 0.0002}</td>\n",
       "      <td>-0.028650</td>\n",
       "      <td>-0.020268</td>\n",
       "      <td>-0.022687</td>\n",
       "      <td>-0.055851</td>\n",
       "      <td>...</td>\n",
       "      <td>-0.028880</td>\n",
       "      <td>0.014001</td>\n",
       "      <td>4</td>\n",
       "      <td>-0.021879</td>\n",
       "      <td>-0.022114</td>\n",
       "      <td>-0.021685</td>\n",
       "      <td>-0.015573</td>\n",
       "      <td>-0.022871</td>\n",
       "      <td>-0.020824</td>\n",
       "      <td>0.002657</td>\n",
       "    </tr>\n",
       "    <tr>\n",
       "      <th>2</th>\n",
       "      <td>0.001873</td>\n",
       "      <td>0.000283</td>\n",
       "      <td>0.000754</td>\n",
       "      <td>0.000148</td>\n",
       "      <td>0.0005</td>\n",
       "      <td>{'alpha': 0.0005}</td>\n",
       "      <td>-0.022060</td>\n",
       "      <td>-0.020613</td>\n",
       "      <td>-0.023551</td>\n",
       "      <td>-0.053745</td>\n",
       "      <td>...</td>\n",
       "      <td>-0.027550</td>\n",
       "      <td>0.013219</td>\n",
       "      <td>3</td>\n",
       "      <td>-0.022413</td>\n",
       "      <td>-0.022452</td>\n",
       "      <td>-0.021950</td>\n",
       "      <td>-0.015737</td>\n",
       "      <td>-0.023168</td>\n",
       "      <td>-0.021144</td>\n",
       "      <td>0.002731</td>\n",
       "    </tr>\n",
       "    <tr>\n",
       "      <th>3</th>\n",
       "      <td>0.002153</td>\n",
       "      <td>0.000211</td>\n",
       "      <td>0.000783</td>\n",
       "      <td>0.000081</td>\n",
       "      <td>0.001</td>\n",
       "      <td>{'alpha': 0.001}</td>\n",
       "      <td>-0.016154</td>\n",
       "      <td>-0.021374</td>\n",
       "      <td>-0.024845</td>\n",
       "      <td>-0.050638</td>\n",
       "      <td>...</td>\n",
       "      <td>-0.026330</td>\n",
       "      <td>0.012479</td>\n",
       "      <td>1</td>\n",
       "      <td>-0.023997</td>\n",
       "      <td>-0.023060</td>\n",
       "      <td>-0.022584</td>\n",
       "      <td>-0.016316</td>\n",
       "      <td>-0.023683</td>\n",
       "      <td>-0.021928</td>\n",
       "      <td>0.002849</td>\n",
       "    </tr>\n",
       "    <tr>\n",
       "      <th>4</th>\n",
       "      <td>0.002071</td>\n",
       "      <td>0.000382</td>\n",
       "      <td>0.000752</td>\n",
       "      <td>0.000119</td>\n",
       "      <td>0.002</td>\n",
       "      <td>{'alpha': 0.002}</td>\n",
       "      <td>-0.016802</td>\n",
       "      <td>-0.022957</td>\n",
       "      <td>-0.026859</td>\n",
       "      <td>-0.045790</td>\n",
       "      <td>...</td>\n",
       "      <td>-0.026625</td>\n",
       "      <td>0.010111</td>\n",
       "      <td>2</td>\n",
       "      <td>-0.025619</td>\n",
       "      <td>-0.024272</td>\n",
       "      <td>-0.023593</td>\n",
       "      <td>-0.017599</td>\n",
       "      <td>-0.024892</td>\n",
       "      <td>-0.023195</td>\n",
       "      <td>0.002877</td>\n",
       "    </tr>\n",
       "  </tbody>\n",
       "</table>\n",
       "<p>5 rows × 21 columns</p>\n",
       "</div>"
      ],
      "text/plain": [
       "   mean_fit_time  std_fit_time  mean_score_time  std_score_time param_alpha  \\\n",
       "0       0.002140      0.000496         0.000740        0.000057      0.0001   \n",
       "1       0.002090      0.000194         0.000855        0.000105      0.0002   \n",
       "2       0.001873      0.000283         0.000754        0.000148      0.0005   \n",
       "3       0.002153      0.000211         0.000783        0.000081       0.001   \n",
       "4       0.002071      0.000382         0.000752        0.000119       0.002   \n",
       "\n",
       "              params  split0_test_score  split1_test_score  split2_test_score  \\\n",
       "0  {'alpha': 0.0001}          -0.031360          -0.020234          -0.022420   \n",
       "1  {'alpha': 0.0002}          -0.028650          -0.020268          -0.022687   \n",
       "2  {'alpha': 0.0005}          -0.022060          -0.020613          -0.023551   \n",
       "3   {'alpha': 0.001}          -0.016154          -0.021374          -0.024845   \n",
       "4   {'alpha': 0.002}          -0.016802          -0.022957          -0.026859   \n",
       "\n",
       "   split3_test_score  ...  mean_test_score  std_test_score  rank_test_score  \\\n",
       "0          -0.056553  ...        -0.029449        0.014378                5   \n",
       "1          -0.055851  ...        -0.028880        0.014001                4   \n",
       "2          -0.053745  ...        -0.027550        0.013219                3   \n",
       "3          -0.050638  ...        -0.026330        0.012479                1   \n",
       "4          -0.045790  ...        -0.026625        0.010111                2   \n",
       "\n",
       "   split0_train_score  split1_train_score  split2_train_score  \\\n",
       "0           -0.021802           -0.022060           -0.021648   \n",
       "1           -0.021879           -0.022114           -0.021685   \n",
       "2           -0.022413           -0.022452           -0.021950   \n",
       "3           -0.023997           -0.023060           -0.022584   \n",
       "4           -0.025619           -0.024272           -0.023593   \n",
       "\n",
       "   split3_train_score  split4_train_score  mean_train_score  std_train_score  \n",
       "0           -0.015539           -0.022819         -0.020774         0.002648  \n",
       "1           -0.015573           -0.022871         -0.020824         0.002657  \n",
       "2           -0.015737           -0.023168         -0.021144         0.002731  \n",
       "3           -0.016316           -0.023683         -0.021928         0.002849  \n",
       "4           -0.017599           -0.024892         -0.023195         0.002877  \n",
       "\n",
       "[5 rows x 21 columns]"
      ]
     },
     "execution_count": 55,
     "metadata": {},
     "output_type": "execute_result"
    }
   ],
   "source": [
    "cv_results1 = pd.DataFrame(model_cv1.cv_results_)\n",
    "cv_results1.head()"
   ]
  },
  {
   "cell_type": "code",
   "execution_count": 56,
   "metadata": {},
   "outputs": [
    {
     "data": {
      "image/png": "[encoded data removed]",
      "text/plain": [
       "<Figure size 432x288 with 1 Axes>"
      ]
     },
     "metadata": {
      "needs_background": "light"
     },
     "output_type": "display_data"
    }
   ],
   "source": [
    "# plotting mean test and train scoes with alpha \n",
    "cv_results1['param_alpha'] = cv_results1['param_alpha'].astype('float32')\n",
    "\n",
    "# plotting\n",
    "plt.plot(cv_results1['param_alpha'], cv_results1['mean_train_score'])\n",
    "plt.plot(cv_results1['param_alpha'], cv_results1['mean_test_score'])\n",
    "plt.xlabel('alpha')\n",
    "plt.ylabel('Relation b/w Negative Mean Squared error')\n",
    "\n",
    "plt.title(\"Relation b/w Negative Mean Squared error and alpha\")\n",
    "plt.legend(['train score', 'test score'], loc='upper left')\n",
    "plt.show()"
   ]
  },
  {
   "cell_type": "markdown",
   "metadata": {},
   "source": [
    "### Lets check the optimal value of alpha for lasso regression"
   ]
  },
  {
   "cell_type": "code",
   "execution_count": 57,
   "metadata": {},
   "outputs": [
    {
     "data": {
      "text/plain": [
       "0.001"
      ]
     },
     "execution_count": 57,
     "metadata": {},
     "output_type": "execute_result"
    }
   ],
   "source": [
    "model_cv1.best_params_['alpha']"
   ]
  },
  {
   "cell_type": "markdown",
   "metadata": {},
   "source": [
    "## Building a model using lasso with optimal value of alpha"
   ]
  },
  {
   "cell_type": "code",
   "execution_count": 58,
   "metadata": {},
   "outputs": [
    {
     "data": {
      "text/plain": [
       "Lasso(alpha=0.001, copy_X=True, fit_intercept=True, max_iter=1000,\n",
       "      normalize=False, positive=False, precompute=False, random_state=None,\n",
       "      selection='cyclic', tol=0.0001, warm_start=False)"
      ]
     },
     "execution_count": 58,
     "metadata": {},
     "output_type": "execute_result"
    }
   ],
   "source": [
    "alpha = model_cv1.best_params_['alpha']\n",
    "\n",
    "lasso = Lasso(alpha=alpha)\n",
    "        \n",
    "lasso.fit(X_train_lasso, y_train) "
   ]
  },
  {
   "cell_type": "markdown",
   "metadata": {},
   "source": [
    "### Lets check the outputed co-efficients"
   ]
  },
  {
   "cell_type": "code",
   "execution_count": 59,
   "metadata": {},
   "outputs": [
    {
     "data": {
      "text/plain": [
       "array([ 0.        ,  0.23942545,  0.17001975,  0.12035749,  0.32322522,\n",
       "        1.07995085,  0.        , -0.14080977,  0.35382588,  0.82580524,\n",
       "       -0.        ,  0.07681972,  0.19497123,  0.09893251, -0.42047159])"
      ]
     },
     "execution_count": 59,
     "metadata": {},
     "output_type": "execute_result"
    }
   ],
   "source": [
    "lasso.coef_"
   ]
  },
  {
   "cell_type": "code",
   "execution_count": 60,
   "metadata": {},
   "outputs": [
    {
     "name": "stdout",
     "output_type": "stream",
     "text": [
      "Number of non-zero coff.: 12\n"
     ]
    }
   ],
   "source": [
    "print(\"Number of non-zero coff.: {}\".format(np.sum(lasso.coef_!=0)))"
   ]
  },
  {
   "cell_type": "markdown",
   "metadata": {},
   "source": [
    "## Lets see the r-squared of train and test set "
   ]
  },
  {
   "cell_type": "code",
   "execution_count": 61,
   "metadata": {},
   "outputs": [
    {
     "name": "stdout",
     "output_type": "stream",
     "text": [
      "0.8586065529604977\n",
      "0.850610466632574\n"
     ]
    }
   ],
   "source": [
    "from sklearn import metrics\n",
    "y_train_pred = lasso.predict(X_train_lasso)\n",
    "print(metrics.r2_score(y_true=y_train, y_pred=y_train_pred))\n",
    "y_test_pred = lasso.predict(X_test[X_train_lasso.columns])\n",
    "print(metrics.r2_score(y_true=y_test, y_pred=y_test_pred))"
   ]
  },
  {
   "cell_type": "markdown",
   "metadata": {},
   "source": [
    "## Lets check the co-efficients generated through the model so that we can check which variables are significant in predicting the price of a house and how well those variables describe the price of a house."
   ]
  },
  {
   "cell_type": "code",
   "execution_count": 62,
   "metadata": {},
   "outputs": [
    {
     "data": {
      "text/html": [
       "<div>\n",
       "<style scoped>\n",
       "    .dataframe tbody tr th:only-of-type {\n",
       "        vertical-align: middle;\n",
       "    }\n",
       "\n",
       "    .dataframe tbody tr th {\n",
       "        vertical-align: top;\n",
       "    }\n",
       "\n",
       "    .dataframe thead th {\n",
       "        text-align: right;\n",
       "    }\n",
       "</style>\n",
       "<table border=\"1\" class=\"dataframe\">\n",
       "  <thead>\n",
       "    <tr style=\"text-align: right;\">\n",
       "      <th></th>\n",
       "      <th>Co-efficients</th>\n",
       "    </tr>\n",
       "  </thead>\n",
       "  <tbody>\n",
       "    <tr>\n",
       "      <th>GrLivArea</th>\n",
       "      <td>1.079951</td>\n",
       "    </tr>\n",
       "    <tr>\n",
       "      <th>OverallQual</th>\n",
       "      <td>0.825805</td>\n",
       "    </tr>\n",
       "    <tr>\n",
       "      <th>OverallCond</th>\n",
       "      <td>0.353826</td>\n",
       "    </tr>\n",
       "    <tr>\n",
       "      <th>GarageCars</th>\n",
       "      <td>0.323225</td>\n",
       "    </tr>\n",
       "    <tr>\n",
       "      <th>BsmtFullBath</th>\n",
       "      <td>0.239425</td>\n",
       "    </tr>\n",
       "    <tr>\n",
       "      <th>TotalBsmtSF</th>\n",
       "      <td>0.194971</td>\n",
       "    </tr>\n",
       "    <tr>\n",
       "      <th>Fireplaces</th>\n",
       "      <td>0.170020</td>\n",
       "    </tr>\n",
       "    <tr>\n",
       "      <th>FullBath</th>\n",
       "      <td>0.120357</td>\n",
       "    </tr>\n",
       "    <tr>\n",
       "      <th>WoodDeckSF</th>\n",
       "      <td>0.098933</td>\n",
       "    </tr>\n",
       "    <tr>\n",
       "      <th>ScreenPorch</th>\n",
       "      <td>0.076820</td>\n",
       "    </tr>\n",
       "    <tr>\n",
       "      <th>MSSubClass</th>\n",
       "      <td>-0.140810</td>\n",
       "    </tr>\n",
       "    <tr>\n",
       "      <th>YearBuilt</th>\n",
       "      <td>-0.420472</td>\n",
       "    </tr>\n",
       "  </tbody>\n",
       "</table>\n",
       "</div>"
      ],
      "text/plain": [
       "              Co-efficients\n",
       "GrLivArea          1.079951\n",
       "OverallQual        0.825805\n",
       "OverallCond        0.353826\n",
       "GarageCars         0.323225\n",
       "BsmtFullBath       0.239425\n",
       "TotalBsmtSF        0.194971\n",
       "Fireplaces         0.170020\n",
       "FullBath           0.120357\n",
       "WoodDeckSF         0.098933\n",
       "ScreenPorch        0.076820\n",
       "MSSubClass        -0.140810\n",
       "YearBuilt         -0.420472"
      ]
     },
     "execution_count": 62,
     "metadata": {},
     "output_type": "execute_result"
    }
   ],
   "source": [
    "lasso_model = pd.DataFrame()\n",
    "lasso_model['Co-efficients'] = lasso.coef_\n",
    "lasso_model.index = X_train_lasso.columns\n",
    "lasso_model = lasso_model[lasso_model['Co-efficients'] != 0]\n",
    "lasso_model.sort_values(by = 'Co-efficients' , ascending = False)"
   ]
  },
  {
   "attachments": {
    "image.png": {
     "image/png": "[encoded data removed]"
    }
   },
   "cell_type": "markdown",
   "metadata": {},
   "source": [
    "\n",
    "![image.png](attachment:image.png)"
   ]
  },
  {
   "cell_type": "code",
   "execution_count": null,
   "metadata": {},
   "outputs": [],
   "source": []
  }
 ],
 "metadata": {
  "kernelspec": {
   "display_name": "Python 3",
   "language": "python",
   "name": "python3"
  },
  "language_info": {
   "codemirror_mode": {
    "name": "ipython",
    "version": 3
   },
   "file_extension": ".py",
   "mimetype": "text/x-python",
   "name": "python",
   "nbconvert_exporter": "python",
   "pygments_lexer": "ipython3",
   "version": "3.7.3"
  }
 },
 "nbformat": 4,
 "nbformat_minor": 2
}
